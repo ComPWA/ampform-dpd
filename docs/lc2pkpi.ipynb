{
 "cells": [
  {
   "cell_type": "markdown",
   "metadata": {},
   "source": [
    "# Λ<sub>c</sub>⁺ → p π⁺ K⁻\n",
    "\n",
    "```{autolink-concat}\n",
    "```"
   ]
  },
  {
   "cell_type": "code",
   "execution_count": null,
   "metadata": {
    "jupyter": {
     "source_hidden": true
    },
    "tags": [
     "hide-cell",
     "scroll-input"
    ]
   },
   "outputs": [],
   "source": [
    "from __future__ import annotations\n",
    "\n",
    "import warnings\n",
    "\n",
    "import graphviz\n",
    "import qrules\n",
    "import sympy as sp\n",
    "from IPython.display import Latex, Markdown\n",
    "\n",
    "from ampform_dpd import DalitzPlotDecompositionBuilder, get_particle\n",
    "from ampform_dpd.adapter.qrules import (\n",
    "    load_particles,\n",
    "    normalize_state_ids,\n",
    "    to_three_body_decay,\n",
    ")\n",
    "from ampform_dpd.decay import IsobarNode, Particle, ThreeBodyDecayChain\n",
    "from ampform_dpd.dynamics import BreitWignerMinL\n",
    "from ampform_dpd.io import as_markdown_table, aslatex, simplify_latex_rendering\n",
    "\n",
    "simplify_latex_rendering()\n",
    "warnings.simplefilter(\"ignore\")"
   ]
  },
  {
   "cell_type": "markdown",
   "metadata": {},
   "source": [
    "## Decay definition"
   ]
  },
  {
   "cell_type": "code",
   "execution_count": null,
   "metadata": {
    "jupyter": {
     "source_hidden": true
    },
    "tags": [
     "hide-input"
    ]
   },
   "outputs": [],
   "source": [
    "PARTICLES = load_particles()\n",
    "for name in [\n",
    "    \"K*(1410)~0\",\n",
    "    \"K(2)*(1430)~0\",\n",
    "    \"K*(1680)~0\",\n",
    "    \"Delta(1620)++\",\n",
    "    \"Delta(1900)++\",\n",
    "    \"Delta(1910)++\",\n",
    "    \"Delta(1920)++\",\n",
    "    \"Lambda(1800)\",\n",
    "    \"Lambda(1810)\",\n",
    "    \"Lambda(1890)\",\n",
    "]:\n",
    "    PARTICLES.remove(PARTICLES[name])\n",
    "STM = qrules.StateTransitionManager(\n",
    "    initial_state=[\"Lambda(c)+\"],\n",
    "    final_state=[\"p\", \"K-\", \"pi+\"],\n",
    "    mass_conservation_factor=3,\n",
    "    allowed_intermediate_particles=[\"K\", \"Delta\", \"Lambda\"],\n",
    "    particle_db=PARTICLES,\n",
    "    max_angular_momentum=2,\n",
    "    formalism=\"canonical-helicity\",\n",
    ")\n",
    "STM.set_allowed_interaction_types([qrules.InteractionType.STRONG], node_id=1)\n",
    "problem_sets = STM.create_problem_sets()\n",
    "REACTION = STM.find_solutions(problem_sets)\n",
    "REACTION = normalize_state_ids(REACTION)\n",
    "dot = qrules.io.asdot(REACTION, collapse_graphs=True)\n",
    "graphviz.Source(dot)"
   ]
  },
  {
   "cell_type": "code",
   "execution_count": null,
   "metadata": {
    "jupyter": {
     "source_hidden": true
    },
    "tags": [
     "hide-input"
    ]
   },
   "outputs": [],
   "source": [
    "DECAY = to_three_body_decay(REACTION.transitions, min_ls=True)\n",
    "Markdown(as_markdown_table([DECAY.initial_state, *DECAY.final_state.values()]))"
   ]
  },
  {
   "cell_type": "code",
   "execution_count": null,
   "metadata": {
    "jupyter": {
     "source_hidden": true
    },
    "tags": [
     "hide-input"
    ]
   },
   "outputs": [],
   "source": [
    "resonances = sorted(\n",
    "    {t.resonance for t in DECAY.chains},\n",
    "    key=lambda p: (p.name[0], p.mass),\n",
    ")\n",
    "resonance_names = [p.name for p in resonances]\n",
    "Markdown(as_markdown_table(resonances))"
   ]
  },
  {
   "cell_type": "code",
   "execution_count": null,
   "metadata": {
    "tags": [
     "hide-input"
    ]
   },
   "outputs": [],
   "source": [
    "Latex(aslatex(DECAY, with_jp=True))"
   ]
  },
  {
   "cell_type": "markdown",
   "metadata": {},
   "source": [
    "## Lineshapes for dynamics"
   ]
  },
  {
   "cell_type": "code",
   "execution_count": null,
   "metadata": {
    "jupyter": {
     "source_hidden": true
    },
    "tags": [
     "scroll-input",
     "hide-input"
    ]
   },
   "outputs": [],
   "source": [
    "s, m0, Γ0, m1, m2 = sp.symbols(\"s m0 Gamma0 m1 m2\", nonnegative=True)\n",
    "m_top, m_spec = sp.symbols(R\"m_\\mathrm{top} m_\\mathrm{spectator}\")\n",
    "R_dec, R_prod = sp.symbols(R\"R_\\mathrm{res} R_{\\Lambda_c}\")\n",
    "l_Λc, l_R = sp.symbols(R\"l_{\\Lambda_c} l_R\", integer=True, positive=True)\n",
    "bw = BreitWignerMinL(s, m_top, m_spec, m0, Γ0, m1, m2, l_R, l_Λc, R_dec, R_prod)\n",
    "Latex(aslatex({bw: bw.doit(deep=False)}))"
   ]
  },
  {
   "cell_type": "code",
   "execution_count": null,
   "metadata": {
    "jupyter": {
     "source_hidden": true
    },
    "tags": [
     "hide-input"
    ]
   },
   "outputs": [],
   "source": [
    "def formulate_breit_wigner(\n",
    "    decay_chain: ThreeBodyDecayChain,\n",
    ") -> tuple[BreitWignerMinL, dict[sp.Symbol, float]]:\n",
    "    s = _get_mandelstam_s(decay_chain)\n",
    "    child1_mass, child2_mass = map(_create_mass_symbol, decay_chain.decay_products)\n",
    "    l_dec = sp.Rational(decay_chain.outgoing_ls.L)\n",
    "    l_prod = sp.Rational(decay_chain.incoming_ls.L)\n",
    "    parent_mass = sp.Symbol(f\"m_{{{decay_chain.parent.latex}}}\", nonnegative=True)\n",
    "    spectator_mass = sp.Symbol(f\"m_{{{decay_chain.spectator.latex}}}\", nonnegative=True)\n",
    "    resonance_mass = sp.Symbol(f\"m_{{{decay_chain.resonance.latex}}}\", nonnegative=True)\n",
    "    resonance_width = sp.Symbol(\n",
    "        Rf\"\\Gamma_{{{decay_chain.resonance.latex}}}\", nonnegative=True\n",
    "    )\n",
    "    R_dec = sp.Symbol(R\"R_\\mathrm{res}\")\n",
    "    R_prod = sp.Symbol(R\"R_{\\Lambda_c}\")\n",
    "    parameter_defaults = {\n",
    "        parent_mass: decay_chain.parent.mass,\n",
    "        spectator_mass: decay_chain.spectator.mass,\n",
    "        resonance_mass: decay_chain.resonance.mass,\n",
    "        resonance_width: decay_chain.resonance.width,\n",
    "        child1_mass: decay_chain.decay_products[0].mass,\n",
    "        child2_mass: decay_chain.decay_products[1].mass,\n",
    "        # https://github.com/ComPWA/polarimetry/pull/11#issuecomment-1128784376\n",
    "        R_dec: 1.5,\n",
    "        R_prod: 5,\n",
    "    }\n",
    "    dynamics = BreitWignerMinL(\n",
    "        s,\n",
    "        parent_mass,\n",
    "        spectator_mass,\n",
    "        resonance_mass,\n",
    "        resonance_width,\n",
    "        child1_mass,\n",
    "        child2_mass,\n",
    "        l_dec,\n",
    "        l_prod,\n",
    "        R_dec,\n",
    "        R_prod,\n",
    "    )\n",
    "    return dynamics, parameter_defaults\n",
    "\n",
    "\n",
    "def _create_mass_symbol(particle: IsobarNode | Particle) -> sp.Symbol:\n",
    "    particle = get_particle(particle)\n",
    "    return sp.Symbol(f\"m_{{{particle.latex}}}\", nonnegative=True)\n",
    "\n",
    "\n",
    "def _get_mandelstam_s(decay: ThreeBodyDecayChain | IsobarNode) -> sp.Symbol:\n",
    "    s1, s2, s3 = sp.symbols(\"sigma1:4\", nonnegative=True)\n",
    "    decay_products = {p.name for p in _get_decay_products(decay)}\n",
    "    if decay_products == {\"p\", \"pi+\"}:\n",
    "        return s1\n",
    "    if decay_products == {\"pi+\", \"K-\"}:\n",
    "        return s2\n",
    "    if decay_products == {\"K-\", \"p\"}:\n",
    "        return s3\n",
    "    msg = f\"Cannot find Mandelstam variable for {', '.join(decay_products)}\"\n",
    "    raise NotImplementedError(msg)\n",
    "\n",
    "\n",
    "def _get_decay_products(decay: ThreeBodyDecayChain | IsobarNode) -> list[Particle]:\n",
    "    if isinstance(decay, ThreeBodyDecayChain):\n",
    "        return decay.decay_products\n",
    "    return decay.children"
   ]
  },
  {
   "cell_type": "markdown",
   "metadata": {},
   "source": [
    "## Model formulation"
   ]
  },
  {
   "cell_type": "code",
   "execution_count": null,
   "metadata": {
    "tags": [
     "full-width"
    ]
   },
   "outputs": [],
   "source": [
    "model_builder = DalitzPlotDecompositionBuilder(DECAY, min_ls=(False, True))\n",
    "for chain in model_builder.decay.chains:\n",
    "    model_builder.dynamics_choices.register_builder(chain, formulate_breit_wigner)\n",
    "model = model_builder.formulate(reference_subsystem=1)\n",
    "model.intensity"
   ]
  },
  {
   "cell_type": "code",
   "execution_count": null,
   "metadata": {
    "tags": [
     "hide-input",
     "full-width"
    ]
   },
   "outputs": [],
   "source": [
    "Latex(aslatex(model.amplitudes))"
   ]
  }
 ],
 "metadata": {
  "colab": {
   "toc_visible": true
  },
  "kernelspec": {
   "display_name": "Python 3 (ipykernel)",
   "language": "python",
   "name": "python3"
  },
  "language_info": {
   "codemirror_mode": {
    "name": "ipython",
    "version": 3
   },
   "file_extension": ".py",
   "mimetype": "text/x-python",
   "name": "python",
   "nbconvert_exporter": "python",
   "pygments_lexer": "ipython3",
   "version": "3.9.19"
  }
 },
 "nbformat": 4,
 "nbformat_minor": 4
}

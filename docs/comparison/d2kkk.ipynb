{
 "cells": [
  {
   "cell_type": "markdown",
   "metadata": {},
   "source": [
    "# D⁰ → K⁰ K⁺ K⁻\n",
    "\n",
    "```{autolink-concat}\n",
    "```\n",
    "\n",
    "The decay $D^0 \\to K^0K^+K^-$ has a spinless initial and final state, which means that there is no need to align spin with Dalitz-plot decomposition. This notebook shows that the model formulated by {mod}`ampform` is the same as that formulated by {doc}`AmpForm-DPD</index>`. To simplify this comparison, we do not define any dynamics."
   ]
  },
  {
   "cell_type": "code",
   "execution_count": null,
   "metadata": {},
   "outputs": [],
   "source": [
    "%matplotlib widget"
   ]
  },
  {
   "cell_type": "code",
   "execution_count": null,
   "metadata": {
    "jupyter": {
     "source_hidden": true
    },
    "mystnb": {
     "code_prompt_show": "Import Python libraries"
    },
    "tags": [
     "hide-cell",
     "scroll-input"
    ]
   },
   "outputs": [],
   "source": [
    "import logging\n",
    "import os\n",
    "import warnings\n",
    "\n",
    "import ampform\n",
    "import graphviz\n",
    "import qrules\n",
    "from IPython.display import Latex, Markdown\n",
    "\n",
    "from ampform_dpd import DalitzPlotDecompositionBuilder\n",
    "from ampform_dpd.adapter.qrules import normalize_state_ids, to_three_body_decay\n",
    "from ampform_dpd.io import as_markdown_table, aslatex, cached, simplify_latex_rendering\n",
    "\n",
    "simplify_latex_rendering()\n",
    "logging.getLogger(\"jax\").setLevel(logging.ERROR)  # mute JAX\n",
    "os.environ[\"TF_CPP_MIN_LOG_LEVEL\"] = \"3\"  # mute TF\n",
    "warnings.simplefilter(\"ignore\", category=RuntimeWarning)\n",
    "if STATIC_PAGE := \"EXECUTE_NB\" in os.environ:\n",
    "    logging.getLogger(\"ampform.sympy\").setLevel(logging.ERROR)\n",
    "    logging.getLogger(\"ampform_dpd.io\").setLevel(logging.ERROR)"
   ]
  },
  {
   "cell_type": "markdown",
   "metadata": {},
   "source": [
    "## Decay definition"
   ]
  },
  {
   "cell_type": "code",
   "execution_count": null,
   "metadata": {
    "mystnb": {
     "code_prompt_show": "Generate transitions"
    },
    "tags": [
     "hide-input",
     "remove-output"
    ]
   },
   "outputs": [],
   "source": [
    "REACTION = qrules.generate_transitions(\n",
    "    initial_state=\"D0\",\n",
    "    final_state=[\"K0\", \"K-\", \"K+\"],\n",
    "    allowed_intermediate_particles=[\"a(0)\", \"f(0)(980)\", \"pi(1)\"],\n",
    "    mass_conservation_factor=0.2,\n",
    "    formalism=\"helicity\",\n",
    ")\n",
    "REACTION123 = normalize_state_ids(REACTION)"
   ]
  },
  {
   "cell_type": "code",
   "execution_count": null,
   "metadata": {
    "jupyter": {
     "source_hidden": true
    },
    "tags": [
     "hide-input"
    ]
   },
   "outputs": [],
   "source": [
    "dot = qrules.io.asdot(REACTION123, collapse_graphs=True)\n",
    "graphviz.Source(dot)"
   ]
  },
  {
   "cell_type": "code",
   "execution_count": null,
   "metadata": {
    "jupyter": {
     "source_hidden": true
    },
    "tags": [
     "hide-input"
    ]
   },
   "outputs": [],
   "source": [
    "DECAY = to_three_body_decay(REACTION123.transitions, min_ls=True)\n",
    "Markdown(as_markdown_table([DECAY.initial_state, *DECAY.final_state.values()]))"
   ]
  },
  {
   "cell_type": "code",
   "execution_count": null,
   "metadata": {
    "jupyter": {
     "source_hidden": true
    },
    "tags": [
     "hide-input"
    ]
   },
   "outputs": [],
   "source": [
    "resonances = sorted(\n",
    "    {t.resonance for t in DECAY.chains},\n",
    "    key=lambda p: (p.name[0], p.mass),\n",
    ")\n",
    "resonance_names = [p.name for p in resonances]\n",
    "Markdown(as_markdown_table(resonances))"
   ]
  },
  {
   "cell_type": "code",
   "execution_count": null,
   "metadata": {
    "jupyter": {
     "source_hidden": true
    },
    "tags": [
     "hide-input"
    ]
   },
   "outputs": [],
   "source": [
    "Latex(aslatex(DECAY, with_jp=True))"
   ]
  },
  {
   "cell_type": "markdown",
   "metadata": {},
   "source": [
    "## Model formulation"
   ]
  },
  {
   "cell_type": "markdown",
   "metadata": {},
   "source": [
    "### DPD model"
   ]
  },
  {
   "cell_type": "markdown",
   "metadata": {},
   "source": [
    "Note that, as opposed to {ref}`Λc⁺ → pπ⁺K⁻<lc2pkpi:Model formulation>` and {ref}`J/ψ → K⁰Σ⁺p̅<jpsi2ksp:Model formulation>`, there are no Wigner-$d$ functions, because the final state is spinless."
   ]
  },
  {
   "cell_type": "code",
   "execution_count": null,
   "metadata": {
    "jupyter": {
     "source_hidden": true
    },
    "tags": [
     "hide-input"
    ]
   },
   "outputs": [],
   "source": [
    "model_builder = DalitzPlotDecompositionBuilder(DECAY, min_ls=True)\n",
    "DPD_MODEL = model_builder.formulate(cleanup_summations=True)\n",
    "del model_builder\n",
    "DPD_MODEL.intensity.cleanup()"
   ]
  },
  {
   "cell_type": "code",
   "execution_count": null,
   "metadata": {
    "jupyter": {
     "source_hidden": true
    },
    "tags": [
     "hide-input"
    ]
   },
   "outputs": [],
   "source": [
    "Latex(aslatex(DPD_MODEL.amplitudes, terms_per_line=1))"
   ]
  },
  {
   "cell_type": "markdown",
   "metadata": {},
   "source": [
    "There is an isobar Wigner-$d$ function, which takes the following helicity angles as argument:"
   ]
  },
  {
   "cell_type": "code",
   "execution_count": null,
   "metadata": {
    "jupyter": {
     "source_hidden": true
    },
    "tags": [
     "hide-input"
    ]
   },
   "outputs": [],
   "source": [
    "Latex(aslatex(DPD_MODEL.variables))"
   ]
  },
  {
   "cell_type": "markdown",
   "metadata": {},
   "source": [
    "### AmpForm model"
   ]
  },
  {
   "cell_type": "markdown",
   "metadata": {},
   "source": [
    "AmpForm does not formulate alignment Wigner-$D$ functions. For the case of this spinless final state, this means the intensity is the same as that of the [](#dpd-model)."
   ]
  },
  {
   "cell_type": "code",
   "execution_count": null,
   "metadata": {
    "jupyter": {
     "source_hidden": true
    },
    "tags": [
     "hide-input"
    ]
   },
   "outputs": [],
   "source": [
    "model_builder = ampform.get_builder(REACTION)\n",
    "model_builder.use_helicity_couplings = False\n",
    "model_builder.config.scalar_initial_state_mass = True\n",
    "model_builder.config.stable_final_state_ids = [0, 1, 2]\n",
    "AMPFORM_MODEL = model_builder.formulate()\n",
    "AMPFORM_MODEL.intensity.cleanup()"
   ]
  },
  {
   "cell_type": "code",
   "execution_count": null,
   "metadata": {
    "jupyter": {
     "source_hidden": true
    },
    "tags": [
     "hide-input"
    ]
   },
   "outputs": [],
   "source": [
    "Latex(aslatex(AMPFORM_MODEL.amplitudes, terms_per_line=1))"
   ]
  },
  {
   "cell_type": "code",
   "execution_count": null,
   "metadata": {
    "jupyter": {
     "source_hidden": true
    },
    "tags": [
     "hide-input"
    ]
   },
   "outputs": [],
   "source": [
    "Latex(aslatex(AMPFORM_MODEL.kinematic_variables))"
   ]
  },
  {
   "cell_type": "markdown",
   "metadata": {},
   "source": [
    "## Confirm equivalence"
   ]
  },
  {
   "cell_type": "code",
   "execution_count": null,
   "metadata": {},
   "outputs": [],
   "source": [
    "AMPFORM_EXPR = cached.unfold(AMPFORM_MODEL)\n",
    "AMPFORM_EXPR"
   ]
  },
  {
   "cell_type": "code",
   "execution_count": null,
   "metadata": {},
   "outputs": [],
   "source": [
    "DPD_EXPR = cached.unfold(DPD_MODEL)\n",
    "DPD_EXPR"
   ]
  },
  {
   "cell_type": "code",
   "execution_count": null,
   "metadata": {
    "jupyter": {
     "source_hidden": true
    },
    "tags": [
     "hide-input"
    ]
   },
   "outputs": [],
   "source": [
    "coefficients = {s for s in AMPFORM_MODEL.parameter_defaults if s.name.startswith(\"C\")}\n",
    "couplings = {s for s in DPD_MODEL.parameter_defaults if \"production\" in s.name}\n",
    "substitutions = {s: 1 for s in DPD_MODEL.parameter_defaults if \"decay\" in s.name}\n",
    "for c in coefficients:\n",
    "    resonance_name = c.name[24:].split(\";\", maxsplit=1)[0]\n",
    "    resonance_name = resonance_name.rsplit(\"_\", maxsplit=1)[0][:-1]\n",
    "    coupling, *_ = {s for s in couplings if resonance_name in s.name}\n",
    "    substitutions[coupling] = c\n",
    "Latex(aslatex(substitutions))"
   ]
  },
  {
   "cell_type": "code",
   "execution_count": null,
   "metadata": {},
   "outputs": [],
   "source": [
    "assert DPD_EXPR.xreplace(substitutions) == AMPFORM_EXPR"
   ]
  }
 ],
 "metadata": {
  "colab": {
   "toc_visible": true
  },
  "kernelspec": {
   "display_name": "Python 3 (ipykernel)",
   "language": "python",
   "name": "python3"
  },
  "language_info": {
   "codemirror_mode": {
    "name": "ipython",
    "version": 3
   },
   "file_extension": ".py",
   "mimetype": "text/x-python",
   "name": "python",
   "nbconvert_exporter": "python",
   "pygments_lexer": "ipython3",
   "version": "3.13.9"
  }
 },
 "nbformat": 4,
 "nbformat_minor": 4
}

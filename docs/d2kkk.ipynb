{
 "cells": [
  {
   "cell_type": "markdown",
   "metadata": {},
   "source": [
    "# D⁰ → K⁰K⁺K⁻\n",
    "\n",
    "```{autolink-concat}\n",
    "```\n",
    "\n",
    "The decay $D^0 \\to K^0K^+K^-$ has a spinless initial and final state, which means that there is no need to align spin with Dalitz-plot decomposition. This notebook shows that the model formulated by {mod}`ampform` is the same as that formulated by {doc}`AmpForm-DPD</index>`. To simplify this comparison, we do not define any dynamics."
   ]
  },
  {
   "cell_type": "code",
   "execution_count": null,
   "metadata": {
    "jupyter": {
     "source_hidden": true
    },
    "mystnb": {
     "code_prompt_show": "Import Python libraries"
    },
    "tags": [
     "hide-cell",
     "scroll-input"
    ]
   },
   "outputs": [],
   "source": [
    "from __future__ import annotations\n",
    "\n",
    "import itertools\n",
    "import logging\n",
    "import os\n",
    "from typing import Iterable\n",
    "\n",
    "import ampform\n",
    "import graphviz\n",
    "import jax.numpy as jnp\n",
    "import matplotlib.pyplot as plt\n",
    "import qrules\n",
    "import sympy as sp\n",
    "from ampform.helicity import HelicityModel\n",
    "from ampform.kinematics import FourMomentumSymbol, InvariantMass\n",
    "from ampform.sympy import perform_cached_doit\n",
    "from IPython.display import SVG, Latex, Markdown, display\n",
    "from ipywidgets import (\n",
    "    FloatSlider,\n",
    "    GridBox,\n",
    "    HBox,\n",
    "    Layout,\n",
    "    SelectMultiple,\n",
    "    Tab,\n",
    "    interactive_output,\n",
    ")\n",
    "from qrules.transition import ReactionInfo\n",
    "from tensorwaves.data.phasespace import TFPhaseSpaceGenerator\n",
    "from tensorwaves.data.rng import TFUniformRealNumberGenerator\n",
    "from tensorwaves.data.transform import SympyDataTransformer\n",
    "from tensorwaves.interface import DataSample, ParameterValue, ParametrizedFunction\n",
    "\n",
    "from ampform_dpd import DalitzPlotDecompositionBuilder, simplify_latex_rendering\n",
    "from ampform_dpd.decay import (\n",
    "    IsobarNode,\n",
    "    Particle,\n",
    "    ThreeBodyDecay,\n",
    "    ThreeBodyDecayChain,\n",
    ")\n",
    "from ampform_dpd.io import as_markdown_table, aslatex, perform_cached_lambdify\n",
    "from ampform_dpd.spin import filter_parity_violating_ls, generate_ls_couplings\n",
    "\n",
    "simplify_latex_rendering()\n",
    "logging.getLogger(\"jax\").setLevel(logging.ERROR)  # mute JAX\n",
    "os.environ[\"TF_CPP_MIN_LOG_LEVEL\"] = \"3\"  # mute TF\n",
    "NO_TQDM = \"EXECUTE_NB\" in os.environ\n",
    "if NO_TQDM:\n",
    "    logging.getLogger(\"ampform_dpd.io\").setLevel(logging.ERROR)"
   ]
  },
  {
   "cell_type": "markdown",
   "metadata": {
    "jp-MarkdownHeadingCollapsed": true,
    "tags": []
   },
   "source": [
    "## Decay definition"
   ]
  },
  {
   "cell_type": "code",
   "execution_count": null,
   "metadata": {
    "jupyter": {
     "source_hidden": true
    },
    "mystnb": {
     "code_prompt_show": "Define initial and final state"
    },
    "tags": [
     "hide-input"
    ]
   },
   "outputs": [],
   "source": [
    "PDG = qrules.load_pdg()\n",
    "PARTICLE_DB = {\n",
    "    p.name: Particle(\n",
    "        name=p.name,\n",
    "        latex=p.latex,\n",
    "        spin=p.spin,\n",
    "        parity=int(p.parity),\n",
    "        mass=p.mass,\n",
    "        width=p.width,\n",
    "    )\n",
    "    for p in PDG\n",
    "    if p.parity is not None\n",
    "}\n",
    "D0 = PARTICLE_DB[\"D0\"]\n",
    "K0 = PARTICLE_DB[\"K0\"]\n",
    "Km = PARTICLE_DB[\"K-\"]\n",
    "Kp = PARTICLE_DB[\"K+\"]\n",
    "PARTICLE_TO_ID = {D0: 0, K0: 1, Km: 2, Kp: 3}\n",
    "_, *FINAL_STATE = PARTICLE_TO_ID\n",
    "Markdown(as_markdown_table(list(PARTICLE_TO_ID)))"
   ]
  },
  {
   "cell_type": "code",
   "execution_count": null,
   "metadata": {
    "jupyter": {
     "source_hidden": true
    },
    "mystnb": {
     "code_prompt_show": "Generate transitions"
    },
    "tags": [
     "hide-input"
    ]
   },
   "outputs": [],
   "source": [
    "reaction = qrules.generate_transitions(\n",
    "    initial_state=\"D0\",\n",
    "    final_state=[p.name for p in FINAL_STATE],\n",
    "    allowed_intermediate_particles=[\"a(0)\", \"f(0)\", \"K*\"],\n",
    "    mass_conservation_factor=0.2,\n",
    "    formalism=\"helicity\",\n",
    ")\n",
    "dot = qrules.io.asdot(reaction, collapse_graphs=True)\n",
    "graphviz.Source(dot)"
   ]
  },
  {
   "cell_type": "code",
   "execution_count": null,
   "metadata": {
    "jupyter": {
     "source_hidden": true
    },
    "tags": [
     "hide-input"
    ]
   },
   "outputs": [],
   "source": [
    "resonance_names = sorted(reaction.get_intermediate_particles().names)\n",
    "resonances = [PARTICLE_DB[name] for name in resonance_names]\n",
    "Markdown(as_markdown_table(resonances))"
   ]
  },
  {
   "cell_type": "code",
   "execution_count": null,
   "metadata": {
    "jupyter": {
     "source_hidden": true
    },
    "tags": [
     "hide-input",
     "scroll-input"
    ]
   },
   "outputs": [],
   "source": [
    "def load_three_body_decay(\n",
    "    resonance_names: Iterable[str],\n",
    "    particle_definitions: dict[str, Particle],\n",
    "    min_ls: bool = True,\n",
    ") -> ThreeBodyDecay:\n",
    "    resonances = [particle_definitions[name] for name in resonance_names]\n",
    "    chains: list[ThreeBodyDecayChain] = []\n",
    "    for res in resonances:\n",
    "        chains.extend(_create_isobar(res, min_ls))\n",
    "    return ThreeBodyDecay(\n",
    "        states={state_id: particle for particle, state_id in PARTICLE_TO_ID.items()},\n",
    "        chains=tuple(chains),\n",
    "    )\n",
    "\n",
    "\n",
    "def _create_isobar(resonance: Particle, min_ls: bool) -> list[ThreeBodyDecayChain]:\n",
    "    if resonance.name.endswith(\"-\"):\n",
    "        child1, child2, spectator = K0, Km, Kp\n",
    "    elif resonance.name.endswith(\"+\"):\n",
    "        child1, child2, spectator = Kp, K0, Km\n",
    "    else:\n",
    "        child1, child2, spectator = Kp, Km, K0\n",
    "    prod_ls_couplings = _generate_ls(D0, resonance, spectator, conserve_parity=False)\n",
    "    dec_ls_couplings = _generate_ls(resonance, child1, child2, conserve_parity=True)\n",
    "    if min_ls:\n",
    "        decay = IsobarNode(\n",
    "            parent=D0,\n",
    "            child1=IsobarNode(\n",
    "                parent=resonance,\n",
    "                child1=child1,\n",
    "                child2=child2,\n",
    "                interaction=min(dec_ls_couplings),\n",
    "            ),\n",
    "            child2=spectator,\n",
    "            interaction=min(prod_ls_couplings),\n",
    "        )\n",
    "        return [ThreeBodyDecayChain(decay)]\n",
    "    chains = []\n",
    "    for dec_ls, prod_ls in itertools.product(dec_ls_couplings, prod_ls_couplings):\n",
    "        decay = IsobarNode(\n",
    "            parent=D0,\n",
    "            child1=IsobarNode(\n",
    "                parent=resonance,\n",
    "                child1=child1,\n",
    "                child2=child2,\n",
    "                interaction=dec_ls,\n",
    "            ),\n",
    "            child2=spectator,\n",
    "            interaction=prod_ls,\n",
    "        )\n",
    "        chains.append(ThreeBodyDecayChain(decay))\n",
    "    return chains\n",
    "\n",
    "\n",
    "def _generate_ls(\n",
    "    parent: Particle, child1: Particle, child2: Particle, conserve_parity: bool\n",
    ") -> list[tuple[int, sp.Rational]]:\n",
    "    ls = generate_ls_couplings(parent.spin, child1.spin, child2.spin)\n",
    "    if conserve_parity:\n",
    "        return filter_parity_violating_ls(\n",
    "            ls, parent.parity, child1.parity, child2.parity\n",
    "        )\n",
    "    return ls\n",
    "\n",
    "\n",
    "DECAY = load_three_body_decay(\n",
    "    resonance_names,\n",
    "    particle_definitions=PARTICLE_DB,\n",
    "    min_ls=True,\n",
    ")\n",
    "Latex(aslatex(DECAY, with_jp=True))"
   ]
  },
  {
   "cell_type": "markdown",
   "metadata": {
    "tags": []
   },
   "source": [
    "## Model formulation"
   ]
  },
  {
   "cell_type": "markdown",
   "metadata": {
    "jp-MarkdownHeadingCollapsed": true,
    "tags": []
   },
   "source": [
    "### DPD model"
   ]
  },
  {
   "cell_type": "markdown",
   "metadata": {
    "jp-MarkdownHeadingCollapsed": true,
    "tags": []
   },
   "source": [
    "Note that, as opposed to {ref}`Λc⁺ → pπ⁺K⁻<lc2pkpi:Model formulation>` and {ref}`J/ψ → K⁰Σ⁺p̅<jpsi2ksp:Model formulation>`, there are no Wigner-$d$ functions, because the final state is spinless."
   ]
  },
  {
   "cell_type": "code",
   "execution_count": null,
   "metadata": {
    "jupyter": {
     "source_hidden": true
    },
    "tags": [
     "hide-input"
    ]
   },
   "outputs": [],
   "source": [
    "model_builder = DalitzPlotDecompositionBuilder(DECAY, min_ls=True)\n",
    "dpd_model = model_builder.formulate(reference_subsystem=1)\n",
    "dpd_model.intensity"
   ]
  },
  {
   "cell_type": "code",
   "execution_count": null,
   "metadata": {
    "jupyter": {
     "source_hidden": true
    },
    "tags": [
     "hide-input",
     "full-width"
    ]
   },
   "outputs": [],
   "source": [
    "Latex(aslatex(dpd_model.amplitudes))"
   ]
  },
  {
   "cell_type": "markdown",
   "metadata": {},
   "source": [
    "There is an isobar Wigner-$d$ function, which takes the following helicity angles as argument:"
   ]
  },
  {
   "cell_type": "code",
   "execution_count": null,
   "metadata": {
    "jupyter": {
     "source_hidden": true
    },
    "tags": [
     "hide-input"
    ]
   },
   "outputs": [],
   "source": [
    "Latex(aslatex(dpd_model.variables))"
   ]
  },
  {
   "cell_type": "code",
   "execution_count": null,
   "metadata": {
    "jupyter": {
     "source_hidden": true
    },
    "tags": [
     "hide-input"
    ]
   },
   "outputs": [],
   "source": [
    "masses = {\n",
    "    sp.Symbol(\"m0\", nonnegative=True): round(D0.mass, 7),\n",
    "    sp.Symbol(\"m1\", nonnegative=True): round(K0.mass, 7),\n",
    "    sp.Symbol(\"m2\", nonnegative=True): round(Km.mass, 7),\n",
    "    sp.Symbol(\"m3\", nonnegative=True): round(Kp.mass, 7),\n",
    "}\n",
    "dpd_model.parameter_defaults.update(masses)\n",
    "Latex(aslatex(masses))"
   ]
  },
  {
   "cell_type": "markdown",
   "metadata": {
    "tags": []
   },
   "source": [
    "### AmpForm model"
   ]
  },
  {
   "cell_type": "markdown",
   "metadata": {},
   "source": [
    "AmpForm does not formulate alignment Wigner-$D$ functions. For the case of this spinless final state, this means the intensity is the same as that of the [](#dpd-model)."
   ]
  },
  {
   "cell_type": "code",
   "execution_count": null,
   "metadata": {
    "jupyter": {
     "source_hidden": true
    },
    "tags": [
     "hide-input"
    ]
   },
   "outputs": [],
   "source": [
    "model_builder = ampform.get_builder(reaction)\n",
    "model_builder.use_helicity_couplings = False\n",
    "ampform_model = model_builder.formulate()\n",
    "ampform_model.intensity"
   ]
  },
  {
   "cell_type": "code",
   "execution_count": null,
   "metadata": {
    "jupyter": {
     "source_hidden": true
    },
    "tags": [
     "hide-input",
     "full-width"
    ]
   },
   "outputs": [],
   "source": [
    "Latex(aslatex(ampform_model.amplitudes))"
   ]
  },
  {
   "cell_type": "code",
   "execution_count": null,
   "metadata": {
    "jupyter": {
     "source_hidden": true
    },
    "tags": [
     "hide-input"
    ]
   },
   "outputs": [],
   "source": [
    "Latex(aslatex(ampform_model.kinematic_variables))"
   ]
  },
  {
   "cell_type": "markdown",
   "metadata": {
    "jp-MarkdownHeadingCollapsed": true,
    "tags": []
   },
   "source": [
    "## Phase space sample"
   ]
  },
  {
   "cell_type": "code",
   "execution_count": null,
   "metadata": {
    "mystnb": {
     "code_prompt_show": "Formulate kinematic variables in terms of four-momenta"
    },
    "tags": [
     "hide-input"
    ]
   },
   "outputs": [],
   "source": [
    "p1, p2, p3 = tuple(FourMomentumSymbol(f\"p{i}\", shape=[]) for i in (0, 1, 2))\n",
    "s1, s2, s3 = sp.symbols(\"sigma1:4\", nonnegative=True)\n",
    "mass_definitions = {\n",
    "    s1: InvariantMass(p2 + p3) ** 2,\n",
    "    s2: InvariantMass(p1 + p3) ** 2,\n",
    "    s3: InvariantMass(p1 + p2) ** 2,\n",
    "    sp.Symbol(\"m_01\", nonnegative=True): InvariantMass(p1 + p2),\n",
    "    sp.Symbol(\"m_02\", nonnegative=True): InvariantMass(p1 + p3),\n",
    "    sp.Symbol(\"m_12\", nonnegative=True): InvariantMass(p2 + p3),\n",
    "}\n",
    "dpd_variables = {\n",
    "    sp.Symbol(f\"m{i}\", nonnegative=True): sp.Float(p.mass)\n",
    "    for i, p in enumerate(PARTICLE_TO_ID)\n",
    "}\n",
    "for symbol, expr in dpd_model.variables.items():\n",
    "    expr = expr.doit().xreplace(mass_definitions).xreplace(dpd_variables)\n",
    "    dpd_variables[symbol] = expr\n",
    "dpd_transformer = SympyDataTransformer.from_sympy(dpd_variables, backend=\"jax\")\n",
    "\n",
    "ampform_transformer = SympyDataTransformer.from_sympy(\n",
    "    ampform_model.kinematic_variables, backend=\"jax\"\n",
    ")"
   ]
  },
  {
   "cell_type": "code",
   "execution_count": null,
   "metadata": {
    "tags": []
   },
   "outputs": [],
   "source": [
    "def generate_phase_space(\n",
    "    reaction: ReactionInfo, size: int\n",
    ") -> dict[str, jnp.ndarray]:\n",
    "    rng = TFUniformRealNumberGenerator(seed=0)\n",
    "    phsp_generator = TFPhaseSpaceGenerator(\n",
    "        initial_state_mass=reaction.initial_state[-1].mass,\n",
    "        final_state_masses={i: p.mass for i, p in reaction.final_state.items()},\n",
    "    )\n",
    "    return phsp_generator.generate(size, rng)\n",
    "\n",
    "\n",
    "phsp = generate_phase_space(ampform_model.reaction_info, size=100_000)\n",
    "ampform_phsp = ampform_transformer(phsp)\n",
    "dpd_phsp = dpd_transformer(phsp)"
   ]
  },
  {
   "cell_type": "markdown",
   "metadata": {
    "jp-MarkdownHeadingCollapsed": true,
    "tags": []
   },
   "source": [
    "## Convert to numerical functions"
   ]
  },
  {
   "cell_type": "code",
   "execution_count": null,
   "metadata": {
    "tags": []
   },
   "outputs": [],
   "source": [
    "def unfold_intensity(model: HelicityModel) -> sp.Expr:\n",
    "    unfolded_intensity = perform_cached_doit(model.intensity)\n",
    "    unfolded_amplitudes = {\n",
    "        symbol: perform_cached_doit(expr)\n",
    "        for symbol, expr in model.amplitudes.items()\n",
    "    }\n",
    "    return unfolded_intensity.xreplace(unfolded_amplitudes)\n",
    "\n",
    "\n",
    "ampform_intensity_expr = unfold_intensity(ampform_model)\n",
    "dpd_intensity_expr = unfold_intensity(dpd_model)"
   ]
  },
  {
   "cell_type": "code",
   "execution_count": null,
   "metadata": {
    "tags": []
   },
   "outputs": [],
   "source": [
    "ampform_func = perform_cached_lambdify(\n",
    "    ampform_intensity_expr,\n",
    "    parameters=ampform_model.parameter_defaults,\n",
    ")\n",
    "dpd_func = perform_cached_lambdify(\n",
    "    dpd_intensity_expr,\n",
    "    parameters=dpd_model.parameter_defaults,\n",
    ")"
   ]
  },
  {
   "cell_type": "markdown",
   "metadata": {},
   "source": [
    "## Visualization"
   ]
  },
  {
   "cell_type": "code",
   "execution_count": null,
   "metadata": {
    "jupyter": {
     "source_hidden": true
    },
    "mystnb": {
     "code_prompt_show": "Functions for computing sub-intensities"
    },
    "tags": [
     "hide-input",
     "scroll-input"
    ]
   },
   "outputs": [],
   "source": [
    "def compute_sub_intensities(\n",
    "    func: ParametrizedFunction, phsp: DataSample, resonance_name: str\n",
    ") -> jnp.ndarray:\n",
    "    original_parameters = dict(func.parameters)\n",
    "    _set_couplings_to_zero(func, resonance_name)\n",
    "    intensity_array = func(phsp)\n",
    "    func.update_parameters(original_parameters)\n",
    "    return intensity_array\n",
    "\n",
    "\n",
    "def _set_couplings_to_zero(\n",
    "    func: ParametrizedFunction, resonance_names: list[str]\n",
    ") -> None:\n",
    "    couplings_to_zero = {\n",
    "        key: value if any(r in key for r in resonance_names) else 0\n",
    "        for key, value in _get_couplings(func).items()\n",
    "    }\n",
    "    func.update_parameters(couplings_to_zero)\n",
    "\n",
    "\n",
    "def _get_couplings(func: ParametrizedFunction) -> dict[str, ParameterValue]:\n",
    "    return {\n",
    "        key: value\n",
    "        for key, value in func.parameters.items()\n",
    "        if key.startswith(\"C\") or \"production\" in key\n",
    "    }"
   ]
  },
  {
   "cell_type": "code",
   "execution_count": null,
   "metadata": {
    "jupyter": {
     "source_hidden": true
    },
    "mystnb": {
     "code_prompt_show": "Define widget UI"
    },
    "tags": [
     "hide-input",
     "scroll-input"
    ]
   },
   "outputs": [],
   "source": [
    "def to_unicode(particle: Particle) -> str:\n",
    "    unicode = particle.name\n",
    "    unicode = unicode.replace(\"Sigma\", \"Σ\")\n",
    "    unicode = unicode.replace(\"~\", \"\")\n",
    "    unicode = unicode.replace(\"Σ\", \"~Σ\")\n",
    "    unicode = unicode.replace(\"+\", \"⁺\")\n",
    "    unicode = unicode.replace(\"-\", \"⁻\")\n",
    "    unicode = unicode.replace(\"(0)\", \"₀\")\n",
    "    unicode = unicode.replace(\")0\", \")⁰\")\n",
    "    return unicode\n",
    "\n",
    "\n",
    "resonances = ampform_model.reaction_info.get_intermediate_particles()\n",
    "resonances = sorted(resonances, key=lambda p: (p.charge, p.mass, p.name))\n",
    "resonance_selector = SelectMultiple(\n",
    "    description=\"Resonance\",\n",
    "    options={to_unicode(p): p.latex for p in resonances},\n",
    "    value=[resonances[0].latex, resonances[1].latex],\n",
    "    layout=Layout(\n",
    "        height=f\"{14 * (len(resonances)+1)}pt\",\n",
    "        width=\"auto\",\n",
    "    ),\n",
    ")\n",
    "\n",
    "all_parameters = {k: v for k, v in ampform_model.parameter_defaults.items()}\n",
    "all_parameters.update({k: v for k, v in dpd_model.parameter_defaults.items()})\n",
    "sliders = {\n",
    "    str(symbol): FloatSlider(\n",
    "        description=Rf\"\\({sp.latex(symbol)}\\)\",\n",
    "        value=complex(value).real,\n",
    "        min=0,\n",
    "        max=2.0 * complex(value).real,\n",
    "        continuous_update=False,\n",
    "        step=0.01,\n",
    "        layout=Layout(\n",
    "            width=\"16cm\",\n",
    "        ),\n",
    "        style={\n",
    "            \"description_width\": \"8cm\",\n",
    "        },\n",
    "    )\n",
    "    for symbol, value in all_parameters.items()\n",
    "}\n",
    "\n",
    "ui = HBox(\n",
    "    [\n",
    "        resonance_selector,\n",
    "        Tab(\n",
    "            children=[\n",
    "                GridBox([sliders[key] for key in sorted(sliders) if p.latex in key])\n",
    "                for p in resonances\n",
    "            ],\n",
    "            titles=[to_unicode(p) for p in resonances],\n",
    "        ),\n",
    "    ]\n",
    ")"
   ]
  },
  {
   "cell_type": "code",
   "execution_count": null,
   "metadata": {
    "jupyter": {
     "source_hidden": true
    },
    "mystnb": {
     "code_prompt_show": "Generate comparison widget"
    },
    "tags": [
     "hide-input",
     "scroll-input"
    ]
   },
   "outputs": [],
   "source": [
    "%matplotlib widget\n",
    "plt.rc(\"font\", size=12)\n",
    "fig, axes = plt.subplots(ncols=3, figsize=(16, 5), sharey=True)\n",
    "ax1, ax2, ax3 = axes\n",
    "final_state = ampform_model.reaction_info.final_state\n",
    "ax1.set_ylabel(\"Intensity (a.u.)\")\n",
    "ax1.set_xlabel(Rf\"$m({FINAL_STATE[1].latex}, {FINAL_STATE[2].latex})$\")\n",
    "ax2.set_xlabel(Rf\"$m({FINAL_STATE[0].latex}, {FINAL_STATE[2].latex})$\")\n",
    "ax3.set_xlabel(Rf\"$m({FINAL_STATE[0].latex}, {FINAL_STATE[1].latex})$\")\n",
    "fig.tight_layout()\n",
    "\n",
    "lines = None\n",
    "\n",
    "\n",
    "def plot_contributions(**kwargs) -> None:\n",
    "    kwargs.pop(\"resonance_selector\")\n",
    "    resonance_names = list(resonance_selector.value)\n",
    "    dpd_pars = {k: v for k, v in kwargs.items() if k in dpd_func.parameters}\n",
    "    ampform_pars = {k: v for k, v in kwargs.items() if k in ampform_func.parameters}\n",
    "    ampform_func.update_parameters(ampform_pars)\n",
    "    dpd_func.update_parameters(dpd_pars)\n",
    "    ampform_intensities = compute_sub_intensities(\n",
    "        ampform_func, ampform_phsp, resonance_names\n",
    "    )\n",
    "    dpd_intensities = compute_sub_intensities(dpd_func, dpd_phsp, resonance_names)\n",
    "\n",
    "    amp_values_s1, edges_s1 = jnp.histogram(\n",
    "        ampform_phsp[\"m_12\"].real,\n",
    "        bins=50,\n",
    "        weights=ampform_intensities,\n",
    "    )\n",
    "    dpd_values_s1, _ = jnp.histogram(\n",
    "        ampform_phsp[\"m_12\"].real,\n",
    "        bins=edges_s1,\n",
    "        weights=dpd_intensities,\n",
    "    )\n",
    "\n",
    "    amp_values_s2, edges_s2 = jnp.histogram(\n",
    "        ampform_phsp[\"m_02\"].real,\n",
    "        bins=50,\n",
    "        weights=ampform_intensities,\n",
    "    )\n",
    "    dpd_values_s2, _ = jnp.histogram(\n",
    "        ampform_phsp[\"m_02\"].real,\n",
    "        bins=edges_s2,\n",
    "        weights=dpd_intensities,\n",
    "    )\n",
    "\n",
    "    amp_values_s3, edges_s3 = jnp.histogram(\n",
    "        ampform_phsp[\"m_01\"].real,\n",
    "        bins=50,\n",
    "        weights=ampform_intensities,\n",
    "    )\n",
    "    dpd_values_s3, _ = jnp.histogram(\n",
    "        ampform_phsp[\"m_01\"].real,\n",
    "        bins=edges_s3,\n",
    "        weights=dpd_intensities,\n",
    "    )\n",
    "\n",
    "    global lines\n",
    "    amp_kwargs = dict(color=\"r\", label=\"ampform\", linestyle=\"solid\")\n",
    "    dpd_kwargs = dict(color=\"blue\", label=\"dpd\", linestyle=\"dotted\")\n",
    "    if lines is None:\n",
    "        x1 = (edges_s1[:-1] + edges_s1[1:]) / 2\n",
    "        x2 = (edges_s2[:-1] + edges_s2[1:]) / 2\n",
    "        x3 = (edges_s3[:-1] + edges_s3[1:]) / 2\n",
    "        lines = [\n",
    "            ax1.step(x1, amp_values_s1, **amp_kwargs)[0],\n",
    "            ax1.step(x1, dpd_values_s1, **dpd_kwargs)[0],\n",
    "            ax2.step(x2, amp_values_s2, **amp_kwargs)[0],\n",
    "            ax2.step(x2, dpd_values_s2, **dpd_kwargs)[0],\n",
    "            ax3.step(x3, amp_values_s3, **amp_kwargs)[0],\n",
    "            ax3.step(x3, dpd_values_s3, **dpd_kwargs)[0],\n",
    "        ]\n",
    "        ax1.legend(loc=\"upper right\")\n",
    "    else:\n",
    "        lines[0].set_ydata(amp_values_s1)\n",
    "        lines[1].set_ydata(dpd_values_s1)\n",
    "        lines[2].set_ydata(amp_values_s2)\n",
    "        lines[3].set_ydata(dpd_values_s2)\n",
    "        lines[4].set_ydata(amp_values_s3)\n",
    "        lines[5].set_ydata(dpd_values_s3)\n",
    "    y_max = max(\n",
    "        jnp.nanmax(amp_values_s1),\n",
    "        jnp.nanmax(dpd_values_s1),\n",
    "        jnp.nanmax(amp_values_s2),\n",
    "        jnp.nanmax(dpd_values_s2),\n",
    "        jnp.nanmax(amp_values_s3),\n",
    "        jnp.nanmax(dpd_values_s3),\n",
    "    )\n",
    "    ax1.set_ylim(0, 1.05 * y_max)\n",
    "    ax2.set_ylim(0, 1.05 * y_max)\n",
    "    ax3.set_ylim(0, 1.05 * y_max)\n",
    "\n",
    "    fig.canvas.draw_idle()\n",
    "\n",
    "    def get_symbol_values(\n",
    "        expr: sp.Expr, parameters: dict[str, ParameterValue]\n",
    "    ) -> dict[sp.Symbol, sp.Rational]:\n",
    "        parameters = {\n",
    "            key: value if any(r in key for r in resonance_names) else 0\n",
    "            for key, value in parameters.items()\n",
    "        }\n",
    "        return {\n",
    "            s: sp.Rational(parameters[s.name])\n",
    "            for s in expr.free_symbols\n",
    "            if s.name in parameters\n",
    "        }\n",
    "\n",
    "    ampform_symbols = get_symbol_values(ampform_intensity_expr, ampform_pars)\n",
    "    dpd_symbols = get_symbol_values(dpd_intensity_expr, dpd_pars)\n",
    "    src = Rf\"\"\"\n",
    "    \\begin{{eqnarray}}\n",
    "      \\text{{AmpForm:}} && {sp.latex(ampform_intensity_expr.xreplace(ampform_symbols))} \\\\\n",
    "      \\text{{DPD:}}     && {sp.latex(dpd_intensity_expr.xreplace(dpd_symbols))} \\\\\n",
    "    \\end{{eqnarray}}\n",
    "    \"\"\"\n",
    "    display(Latex(src))\n",
    "\n",
    "\n",
    "output = interactive_output(\n",
    "    plot_contributions,\n",
    "    controls={**sliders, \"resonance_selector\": resonance_selector},\n",
    ")\n",
    "display(output, ui)"
   ]
  },
  {
   "cell_type": "code",
   "execution_count": null,
   "metadata": {
    "jupyter": {
     "source_hidden": true
    },
    "tags": [
     "remove-input",
     "full-width"
    ]
   },
   "outputs": [],
   "source": [
    "if NO_TQDM:\n",
    "    filename = \"d0-to-kkk-comparison.svg\"\n",
    "    plt.savefig(filename)\n",
    "    display(SVG(filename))"
   ]
  }
 ],
 "metadata": {
  "kernelspec": {
   "display_name": "Python 3 (ipykernel)",
   "language": "python",
   "name": "python3"
  },
  "language_info": {
   "codemirror_mode": {
    "name": "ipython",
    "version": 3
   },
   "file_extension": ".py",
   "mimetype": "text/x-python",
   "name": "python",
   "nbconvert_exporter": "python",
   "pygments_lexer": "ipython3",
   "version": "3.8.16"
  }
 },
 "nbformat": 4,
 "nbformat_minor": 4
}

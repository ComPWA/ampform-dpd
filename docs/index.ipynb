{
 "cells": [
  {
   "cell_type": "markdown",
   "metadata": {},
   "source": [
    "# Welcome to AmpForm-DPD!\n",
    "\n",
    "```{title} Welcome\n",
    "```"
   ]
  },
  {
   "cell_type": "markdown",
   "metadata": {},
   "source": [
    "[![Supported Python versions](https://img.shields.io/pypi/pyversions/ampform-dpd)](https://pypi.org/project/ampform-dpd)\n",
    "[![Google Colab](https://colab.research.google.com/assets/colab-badge.svg)](https://colab.research.google.com/github/ComPWA/ampform/blob/main)\n",
    "[![Binder](https://static.mybinder.org/badge_logo.svg)](https://mybinder.org/v2/gh/ComPWA/ampform/main?urlpath=lab)"
   ]
  },
  {
   "cell_type": "markdown",
   "metadata": {},
   "source": [
    "This Python package is a (temporary) extension of [AmpForm](https://ampform.rtfd.io) and provides a symbolic implementation of Dalitz-plot decomposition ([10.1103/PhysRevD.101.034033](https://journals.aps.org/prd/abstract/10.1103/PhysRevD.101.034033)) with [SymPy](https://www.sympy.org/en/index.html). It has been extracted from the [ComPWA/polarimetry](https://github.com/ComPWA/polarimetry) repository, which is not yet public."
   ]
  },
  {
   "cell_type": "markdown",
   "metadata": {},
   "source": [
    "## Installation"
   ]
  },
  {
   "cell_type": "markdown",
   "metadata": {},
   "source": [
    "The fastest way of installing this package is through PyPI ([`ampform-dpd`](https://pypi.org/project/ampform-dpd)):\n",
    "\n",
    "```shell\n",
    "python3 -m pip install ampform-dpd\n",
    "```\n",
    "\n",
    "This installs the latest version that you can find on the [`stable`](https://github.com/ComPWA/ampform-dpd/tree/stable) branch. The latest version on the [`main`](https://github.com/ComPWA/ampform/tree/main) branch\n",
    "can be installed as follows:\n",
    "\n",
    "```shell\n",
    "python3 -m pip install git+https://github.com/ComPWA/ampform@main\n",
    "```\n",
    "\n",
    "You can substitute `main` in the above command with any of the [tags](https://github.com/ComPWA/ampform-dpd/tags) listed under the [releases](https://github.com/ComPWA/ampform-dpd/releases) or any other commit hashes. However, we highly recommend using the more dynamic, {ref}`'editable installation' <compwa:develop:Editable installation>` instead. This goes as follows:\n",
    "\n",
    "1. Get the source code (see [the Pro Git Book](https://git-scm.com/book/en/v2)):\n",
    "\n",
    "   ```shell\n",
    "   git clone https://github.com/ComPWA/ampform-dpd\n",
    "   cd ampform-dpd\n",
    "   ```\n",
    "\n",
    "2. **\\[Recommended\\]** Create a virtual environment (see {ref}`here <compwa:develop:Virtual environment>` or the tip below).\n",
    "\n",
    "3. Install the project in {ref}`'editable installation' <compwa:develop:Editable installation>` with {ref}`additional dependencies <compwa:develop:Optional dependencies>` for the developer:\n",
    "\n",
    "   ```shell\n",
    "   python3 -m pip install -e . --group dev\n",
    "   ```\n",
    "\n",
    "That's all! Have a look at the {doc}`/index` page to try out the package, and see {doc}`compwa:develop` for tips on how to work with this 'editable' developer setup!\n",
    "\n",
    ":::{tip}\n",
    "It's easiest to install the project in a virtual environment with [`uv`](https://docs.astral.sh/uv). In that case, to install in editable mode, just run:\n",
    "\n",
    "```shell\n",
    "uv sync\n",
    "source .venv/bin/activate\n",
    "```\n",
    "\n",
    "This way of installing is also safer, because it {ref}`pins all dependencies <compwa:develop:Pinning dependency versions>`.\n",
    ":::\n",
    "\n",
    "<!-- cspell:ignore pkpi -->"
   ]
  },
  {
   "cell_type": "markdown",
   "metadata": {},
   "source": [
    "## Physics"
   ]
  },
  {
   "cell_type": "markdown",
   "metadata": {},
   "source": [
    "Dalitz-plot decomposition allows us to separate variables that affect the <font color=RoyalBlue>angular distribution</font> from variables that describe the <font color=Orange>dynamics</font>. It allows rewriting a **transition amplitude**&nbsp;$T$ as"
   ]
  },
  {
   "cell_type": "markdown",
   "metadata": {},
   "source": [
    "$$\n",
    "T^{\\Lambda}_{\\{\\lambda\\}}(\\alpha,\\beta,\\gamma; \\{\\sigma\\}) = \\sum_{\\nu}\n",
    "{\\color{RoyalBlue} D_{\\Lambda,\\nu}^{J}(\\alpha,\\beta,\\gamma)}\n",
    "\\,\n",
    "{\\color{Orange} O^\\nu_{\\{\\lambda\\}}(\\{\\sigma\\})}.\n",
    "$$"
   ]
  },
  {
   "cell_type": "markdown",
   "metadata": {},
   "source": [
    "Here, $\\Lambda$ and $\\nu$ indicate the allowed spin projections of the initial state, $\\{\\lambda\\}$ are the allowed spin projections of the final state (e.g. $\\{\\lambda\\}=\\lambda_1,\\lambda_3,\\lambda_3$ for a three-body decay). The Euler angles $\\alpha,\\beta,\\gamma$ are obtained by choosing a specific aligned center-of-momentum frame (\"aligned CM\"), see Fig.&nbsp;2 in Ref&nbsp;{cite}`JPAC:2019ufm`, which gives us an \"aligned\" transition amplitude $O^\\nu_{\\{\\lambda\\}}$ that only depends on dynamic variables $\\{\\sigma\\}$ (in the case of a three-body decay, the three Mandelstam variables $\\sigma_1,\\sigma_2,\\sigma_3$).\n",
    "\n",
    "These aligned transition amplitudes are then combined into an observable **differential cross section** (intensity distribution), using a spin density matrix $\\rho_{_{\\Lambda,\\Lambda'}}$ for the spin projections $\\Lambda$ of the initial state,"
   ]
  },
  {
   "cell_type": "markdown",
   "metadata": {},
   "source": [
    "$$\n",
    "\\mathrm{d}\\sigma/\\mathrm{d}\\Phi_3 = N\n",
    "\\sum_{\\Lambda,\\Lambda'} \\rho_{_{\\Lambda,\\Lambda'}}\n",
    "\\sum_{\\nu,\\nu'} {\\color{RoyalBlue}\n",
    "      D^{J^*}_{\\Lambda,\\nu}\\left(\\alpha,\\beta,\\gamma\\right)\n",
    "      D^{J}_{\\Lambda',\\nu'}\\left(\\alpha,\\beta,\\gamma\\right)\n",
    "   }\n",
    "   \\sum_{\\{\\lambda\\}} {\\color{Orange}\n",
    "      O^\\nu_{\\{\\lambda\\}}\\left(\\{\\sigma\\}\\right)\n",
    "      O^{\\nu'*}_{\\{\\lambda\\}}\\left(\\{\\sigma\\}\\right)\n",
    "   }.\n",
    "$$"
   ]
  },
  {
   "cell_type": "markdown",
   "metadata": {},
   "source": [
    "Given the right alignment, the aligned transition amplitude can be written as"
   ]
  },
  {
   "cell_type": "markdown",
   "metadata": {},
   "source": [
    "```{math}\n",
    "---\n",
    "label: aligned-amplitude\n",
    "---\n",
    "\\begin{eqnarray}\n",
    "{\\color{Orange}O^\\nu_{\\{\\lambda\\}}\\left(\\{\\sigma\\}\\right)} &=&\n",
    "   \\sum_{(ij)k}\n",
    "   \\sum^{(ij)\\to i,j}_s\n",
    "   \\sum_\\tau\n",
    "   \\sum_{\\{\\lambda'\\}}\n",
    "   \\; {\\color{Orange}X_s\\!\\left(\\sigma_k\\right)}\n",
    "\\\\ {\\color{LightGray}\\text{production:}} && \\quad \\times\\;\n",
    "   \\eta_J\\,\n",
    "   d^J_{\\nu,\\tau-\\lambda'_k}\\!\\left(\\hat\\theta_{k(1)}\\right)\\,\n",
    "   H^{0\\to(ij),k}_{\\tau,\\lambda_k'}\\,(-1)^{j_k-\\lambda_k'}\n",
    "\\\\ {\\color{LightGray}\\text{decay:}} && \\quad \\times\\;\n",
    "   \\eta_s\\,\n",
    "   d^s_{\\tau,\\lambda'_i-\\lambda_j'}\\!\\left(\\theta_{ij}\\right)\\,\n",
    "   H^{(ij)\\to i,j}_{\\lambda'_i,\\lambda'_j}\\,(-1)^{j_j-\\lambda_j'}\n",
    "\\\\ {\\color{LightGray}\\text{rotations:}} && \\quad \\times\\;\n",
    "   d^{j_1}_{\\lambda'_1,\\lambda_1}\\!\\left(\\zeta^1_{k(0)}\\right)\\,\n",
    "   d^{j_2}_{\\lambda'_2,\\lambda_2}\\!\\left(\\zeta^2_{k(0)}\\right)\\,\n",
    "   d^{j_3}_{\\lambda'_3,\\lambda_3}\\!\\left(\\zeta^3_{k(0)}\\right).\n",
    "\\end{eqnarray}\n",
    "```"
   ]
  },
  {
   "cell_type": "markdown",
   "metadata": {},
   "source": [
    "Notice the general structure:\n",
    "\n",
    "- **Summations**: The outer sum is taken over the three decay chain combinations $(ij)k \\in \\left\\{(23)1, (31)2, (12)3\\right\\}$. Next, we sum over the spin magnitudes&nbsp;$s$ of all resonances[^1], the corresponding allowed helicities&nbsp;$\\tau$, and allowed spin projections&nbsp;$\\{\\lambda'\\}$ of the final state.\n",
    "- **Dynamics**: The function $X_s$ only depends on a single Mandelstam variable and carries all the dynamical information about the decay chain. Typically, these are your $K$-matrix or Breit-Wigner lineshape functions.\n",
    "- **Isobars**: There is a Wigner&nbsp;$d$-function and a helicity coupling $H$ for each isobar in the three-body decay chain: the $0\\to(ij),k$ production node and the $(ij)\\to i,j$ decay node. The argument of these Wigner&nbsp;$d$-functions are the polar angles. The factors $\\eta_J=\\sqrt{2S+1}$ and $\\eta_s=\\sqrt{2s+1}$ are normalization factors. The phase $(-1)^{j-\\lambda}$ is added to both helicity couplings to convert to the Jacob-Wick particle-2 convention.[^2] The convention treats the first and the second particle unequally, however, it enables the simple relation of the helicity couplings to the $LS$&nbsp;couplings explained below.\n",
    "- **Wigner rotations**: The last three Wigner&nbsp;$d$-functions represent Wigner rotations that appear when rotating the boosted frames of the production and decay isobar amplitudes back to the space-fixed CM frame.\n",
    "\n",
    "If $k=1$, we have $\\hat\\theta_{k(1)}=0$, so the Wigner&nbsp;$d$ function for the production isobar reduces to a Kronecker delta, $d^J_{\\nu,\\tau-\\lambda'_k}\\!\\left(\\hat\\theta_{k(1)}\\right) = \\delta_{\\nu,\\tau-\\lambda'_k}$.\n",
    "\n",
    "[^1]: Alternatively, one can sum over all resonances themselves, so that one has a dynamic function&nbsp;$X_\\mathcal{R}(\\sigma_k)$ for each resonance&nbsp;$\\mathcal{R}$ in subsystem&nbsp;$k$.\n",
    "\n",
    "[^2]: See also {cite}`JPAC:2021rxu`, Section&nbsp;2.1.\n",
    "\n",
    "Equation&nbsp;{eq}`aligned-amplitude` is written in terms of _helicity_ couplings, but can be rewritten in terms of _$LS$&nbsp;couplings_, using"
   ]
  },
  {
   "cell_type": "markdown",
   "metadata": {},
   "source": [
    "$$\n",
    "\\begin{aligned}\n",
    "H^{0\\to(ij),k}_{\\tau,\\lambda'_k} \\;&=\\;\n",
    "   \\sum_{LS}\n",
    "   H^{0\\to(ij),k}_{LS}\n",
    "   \\sqrt{\\frac{2L+1}{2J+1}}\n",
    "   C^{S,\\tau-\\lambda'_k}_{s,\\tau,j_k,-\\lambda'_k}\n",
    "   C^{J,\\tau-\\lambda'_k}_{L,0,S,\\tau-\\lambda'_k} \\\\\n",
    "H^{(ij)\\to i,j}_{\\lambda'_i,\\lambda'_j} \\;&=\\;\n",
    "   \\sum_{l's'}\n",
    "   H^{0\\to(ij),k}_{l's'}\n",
    "   \\sqrt{\\frac{2l'+1}{2s+1}}\n",
    "   C^{s',\\lambda'_i-\\lambda'_j}_{j_i,\\lambda'_i,j_j,-\\lambda'_j}\n",
    "   C^{s,\\lambda'_i-\\lambda'_j}_{l',0,s',\\lambda'_i-\\lambda'_j}\\,.\n",
    "\\end{aligned}\n",
    "$$"
   ]
  },
  {
   "cell_type": "markdown",
   "metadata": {},
   "source": [
    "The dynamics function is dependent on the $LS$&nbsp;values and we write $X_s^{LS;l's'}$ instead of $X_s$."
   ]
  },
  {
   "cell_type": "markdown",
   "metadata": {},
   "source": [
    "## Usage"
   ]
  },
  {
   "cell_type": "markdown",
   "metadata": {},
   "source": [
    "The core class of this package is the {class}`~ampform_dpd.DalitzPlotDecompositionBuilder`. It requires a {class}`.ThreeBodyDecay` object to formulate amplitude models. You can create such a decay object by hand, but it is easier to generate it with [QRules](https://qrules.rtfd.io). Here is an example for the decay $J/\\psi \\to p \\bar{\\varSigma}^- \\bar{K}^0$. In the last step, we \"normalize\" the state IDs of the incoming and outgoing states so that they match the index naming scheme of the [Dalitz-Plot Decomposition paper](https://journals.aps.org/prd/abstract/10.1103/PhysRevD.101.034033)."
   ]
  },
  {
   "cell_type": "code",
   "execution_count": null,
   "metadata": {},
   "outputs": [],
   "source": [
    "import qrules\n",
    "\n",
    "from ampform_dpd.adapter.qrules import normalize_state_ids\n",
    "\n",
    "reaction = qrules.generate_transitions(\n",
    "    initial_state=\"J/psi(1S)\",\n",
    "    final_state=[\"p\", \"Sigma~-\", \"K~0\"],\n",
    "    allowed_interaction_types=\"strong\",\n",
    "    mass_conservation_factor=0,\n",
    ")\n",
    "reaction = normalize_state_ids(reaction)"
   ]
  },
  {
   "cell_type": "code",
   "execution_count": null,
   "metadata": {
    "jupyter": {
     "source_hidden": true
    },
    "mystnb": {
     "code_prompt_show": "Render decay with Graphviz"
    },
    "tags": [
     "hide-input"
    ]
   },
   "outputs": [],
   "source": [
    "import graphviz\n",
    "\n",
    "dot = qrules.io.asdot(reaction, collapse_graphs=True)\n",
    "graphviz.Source(dot)"
   ]
  },
  {
   "cell_type": "markdown",
   "metadata": {},
   "source": [
    "Since AmpForm-DPD formulates amplitudes for three-body decays only, it defines its own topology class for encoding the decay chains. You can convert the QRules {class}`~qrules.transition.ReactionInfo` object to such a {class}`.ThreeBodyDecay` as follows:"
   ]
  },
  {
   "cell_type": "code",
   "execution_count": null,
   "metadata": {},
   "outputs": [],
   "source": [
    "from ampform_dpd.adapter.qrules import to_three_body_decay\n",
    "\n",
    "decay = to_three_body_decay(reaction.transitions)"
   ]
  },
  {
   "cell_type": "markdown",
   "metadata": {},
   "source": [
    "The {mod}`ampform_dpd.io` module offers some handy functions for rendering the decay chains in different format."
   ]
  },
  {
   "cell_type": "code",
   "execution_count": null,
   "metadata": {
    "jupyter": {
     "source_hidden": true
    },
    "mystnb": {
     "code_prompt_show": "Render resonance list as table"
    },
    "tags": [
     "hide-cell"
    ]
   },
   "outputs": [],
   "source": [
    "from IPython.display import Latex, Markdown\n",
    "\n",
    "from ampform_dpd.io import as_markdown_table\n",
    "\n",
    "Markdown(as_markdown_table(decay))"
   ]
  },
  {
   "cell_type": "code",
   "execution_count": null,
   "metadata": {
    "jupyter": {
     "source_hidden": true
    },
    "mystnb": {
     "code_prompt_show": "Render decay chains as LaTeX"
    },
    "tags": [
     "hide-cell"
    ]
   },
   "outputs": [],
   "source": [
    "from IPython.display import Math\n",
    "\n",
    "from ampform_dpd.io import aslatex\n",
    "\n",
    "Math(aslatex(decay))"
   ]
  },
  {
   "cell_type": "code",
   "execution_count": null,
   "metadata": {
    "mystnb": {
     "code_prompt_show": "Render decay chains as LaTeX (including Jᴾ numbers)"
    },
    "tags": [
     "hide-cell"
    ]
   },
   "outputs": [],
   "source": [
    "Math(aslatex(decay, with_jp=True))"
   ]
  },
  {
   "cell_type": "code",
   "execution_count": null,
   "metadata": {
    "mystnb": {
     "code_prompt_show": "Render information about the initial and final state"
    },
    "tags": [
     "hide-cell"
    ]
   },
   "outputs": [],
   "source": [
    "Markdown(as_markdown_table([decay.initial_state, *decay.final_state.values()]))"
   ]
  },
  {
   "cell_type": "code",
   "execution_count": null,
   "metadata": {
    "jupyter": {
     "source_hidden": true
    },
    "mystnb": {
     "code_prompt_show": "Render information about the resonances"
    },
    "tags": [
     "hide-cell"
    ]
   },
   "outputs": [],
   "source": [
    "resonances = sorted(\n",
    "    {t.resonance for t in decay.chains},\n",
    "    key=lambda p: (p.name[0], p.mass),\n",
    ")\n",
    "Markdown(as_markdown_table(resonances))"
   ]
  },
  {
   "cell_type": "markdown",
   "metadata": {},
   "source": [
    "We an now use the decay object to formulate amplitude models. Notice that we do not parametrize the dynamics for each of the chains yet, we only have a simple expression for the unpolarized differential cross-section (\"intensity\") that contains the expected Wigner-$d$ functions for the spin alignment."
   ]
  },
  {
   "cell_type": "code",
   "execution_count": null,
   "metadata": {
    "tags": [
     "full-width"
    ]
   },
   "outputs": [],
   "source": [
    "from ampform_dpd import DalitzPlotDecompositionBuilder\n",
    "\n",
    "model_builder = DalitzPlotDecompositionBuilder(decay)\n",
    "no_dynamics_model = model_builder.formulate()\n",
    "no_dynamics_model.intensity"
   ]
  },
  {
   "cell_type": "markdown",
   "metadata": {},
   "source": [
    "Unfortunately, {class}`sympy.Indexed<sympy.tensor.indexed.Indexed>` symbols with a superscript don't render nicely. To fix this, AmpForm-DPD provides the following configuration function."
   ]
  },
  {
   "cell_type": "code",
   "execution_count": null,
   "metadata": {},
   "outputs": [],
   "source": [
    "from ampform_dpd.io import simplify_latex_rendering\n",
    "\n",
    "simplify_latex_rendering()"
   ]
  },
  {
   "cell_type": "code",
   "execution_count": null,
   "metadata": {
    "tags": [
     "full-width"
    ]
   },
   "outputs": [],
   "source": [
    "no_dynamics_model.intensity"
   ]
  },
  {
   "cell_type": "markdown",
   "metadata": {},
   "source": [
    "More interesting is to formulate a model with a dynamics parametrization. The most common choice is a relativistic Breit–Wigner function. It can optionally have form factors for the production vertex and/or for the decay vertex and have an energy-dependent width."
   ]
  },
  {
   "cell_type": "code",
   "execution_count": null,
   "metadata": {},
   "outputs": [],
   "source": [
    "from ampform_dpd.dynamics.builder import BreitWignerBuilder\n",
    "\n",
    "dynamics_builder = BreitWignerBuilder(\n",
    "    energy_dependent_width=True,\n",
    "    production_form_factor=True,\n",
    "    decay_form_factor=True,\n",
    ")\n",
    "for chain in model_builder.decay.chains:\n",
    "    model_builder.dynamics_choices.register_builder(chain, dynamics_builder)\n",
    "model = model_builder.formulate()"
   ]
  },
  {
   "cell_type": "markdown",
   "metadata": {},
   "source": [
    "...or everything as a one-liner:"
   ]
  },
  {
   "cell_type": "code",
   "execution_count": null,
   "metadata": {},
   "outputs": [],
   "source": [
    "from ampform_dpd import DalitzPlotDecompositionBuilder\n",
    "from ampform_dpd.dynamics.builder import BreitWignerBuilder\n",
    "\n",
    "model_builder = DalitzPlotDecompositionBuilder(decay)\n",
    "dynamics_builder = BreitWignerBuilder()\n",
    "for chain in model_builder.decay.chains:\n",
    "    model_builder.dynamics_choices.register_builder(chain, dynamics_builder)\n",
    "model = model_builder.formulate()"
   ]
  },
  {
   "cell_type": "code",
   "execution_count": null,
   "metadata": {
    "jupyter": {
     "source_hidden": true
    },
    "mystnb": {
     "code_prompt_show": "Render a small selection of the amplitudes"
    },
    "tags": [
     "hide-input",
     "full-width"
    ]
   },
   "outputs": [],
   "source": [
    "selection = {k: v for i, (k, v) in enumerate(model.amplitudes.items()) if i % 13 == 0}\n",
    "Math(aslatex(selection, terms_per_line=1))"
   ]
  },
  {
   "cell_type": "markdown",
   "metadata": {},
   "source": [
    "Here's an example with a simple Breit–Wigner without form factors:"
   ]
  },
  {
   "cell_type": "code",
   "execution_count": null,
   "metadata": {},
   "outputs": [],
   "source": [
    "bw_builder = BreitWignerBuilder(\n",
    "    energy_dependent_width=False,\n",
    "    production_form_factor=False,\n",
    "    decay_form_factor=False,\n",
    ")\n",
    "for chain in model_builder.decay.chains:\n",
    "    model_builder.dynamics_choices.register_builder(chain, bw_builder)\n",
    "simple_model = model_builder.formulate()"
   ]
  },
  {
   "cell_type": "code",
   "execution_count": null,
   "metadata": {
    "jupyter": {
     "source_hidden": true
    },
    "mystnb": {
     "code_prompt_show": "Rendering of one of the amplitudes"
    },
    "tags": [
     "full-width",
     "hide-input"
    ]
   },
   "outputs": [],
   "source": [
    "(amp_symbol, amp_expr), *_ = simple_model.amplitudes.items()\n",
    "Math(aslatex({amp_symbol: amp_expr}, terms_per_line=1))"
   ]
  },
  {
   "cell_type": "markdown",
   "metadata": {},
   "source": [
    "Custom dynamics can be defined by defining a dynamics builder function that has a signature that matches the {class}`.DynamicsBuilder` protocol."
   ]
  },
  {
   "cell_type": "code",
   "execution_count": null,
   "metadata": {
    "mystnb": {
     "code_prompt_show": "Dynamics builder function"
    }
   },
   "outputs": [],
   "source": [
    "import sympy as sp\n",
    "\n",
    "from ampform_dpd import DefinedExpression\n",
    "from ampform_dpd.decay import ThreeBodyDecayChain\n",
    "from ampform_dpd.dynamics.builder import create_mass_symbol, get_mandelstam_s\n",
    "\n",
    "\n",
    "def formulate_gaussian(decay_chain: ThreeBodyDecayChain) -> DefinedExpression:\n",
    "    resonance = decay_chain.resonance\n",
    "    s = get_mandelstam_s(decay_chain.decay_node)\n",
    "    x = sp.sqrt(s)\n",
    "    mu = create_mass_symbol(resonance)\n",
    "    sigma2 = sp.Symbol(Rf\"\\sigma_{{{resonance.latex}}}^2\", nonnegative=True)\n",
    "    return DefinedExpression(\n",
    "        expression=sp.exp(-((x - mu) ** 2) / (2 * sigma2)),\n",
    "        parameters={\n",
    "            mu: resonance.mass,\n",
    "            sigma2: resonance.width**2,\n",
    "        },\n",
    "    )\n",
    "\n",
    "\n",
    "for chain in model_builder.decay.chains:\n",
    "    model_builder.dynamics_choices.register_builder(chain, formulate_gaussian)\n",
    "gaussian_model = model_builder.formulate()"
   ]
  },
  {
   "cell_type": "code",
   "execution_count": null,
   "metadata": {
    "jupyter": {
     "source_hidden": true
    },
    "mystnb": {
     "code_prompt_show": "Rendering of one of the amplitudes"
    },
    "tags": [
     "hide-input",
     "full-width"
    ]
   },
   "outputs": [],
   "source": [
    "(amp_symbol, amp_expr), *_ = gaussian_model.amplitudes.items()\n",
    "Math(aslatex({amp_symbol: amp_expr}, terms_per_line=1))"
   ]
  },
  {
   "cell_type": "markdown",
   "metadata": {},
   "source": [
    "The {meth}`.DalitzPlotDecompositionBuilder.formulate` method has other arguments that allow you to select a different reference subsystem and to use **one complex-valued coefficient** rather than two couplings per decay vertex. Also notice the tricks used here to hide the trivial summations over the helicities of spin-0 particles."
   ]
  },
  {
   "cell_type": "code",
   "execution_count": null,
   "metadata": {
    "tags": [
     "full-width"
    ]
   },
   "outputs": [],
   "source": [
    "for chain in model_builder.decay.chains:\n",
    "    model_builder.dynamics_choices.register_builder(chain, bw_builder)\n",
    "coefficient_model = model_builder.formulate(\n",
    "    cleanup_summations=True,\n",
    "    reference_subsystem=2,\n",
    "    use_coefficients=True,\n",
    ")\n",
    "coefficient_model.intensity.cleanup()"
   ]
  },
  {
   "cell_type": "code",
   "execution_count": null,
   "metadata": {
    "jupyter": {
     "source_hidden": true
    },
    "mystnb": {
     "code_prompt_show": "Rendering of one of the amplitudes"
    },
    "tags": [
     "hide-input",
     "full-width"
    ]
   },
   "outputs": [],
   "source": [
    "(symbol, expr), *_ = coefficient_model.amplitudes.items()\n",
    "Latex(aslatex({symbol: expr}, terms_per_line=1))"
   ]
  },
  {
   "cell_type": "markdown",
   "metadata": {},
   "source": [
    "## Examples"
   ]
  },
  {
   "cell_type": "markdown",
   "metadata": {},
   "source": [
    "```{toctree}\n",
    "---\n",
    "maxdepth: 1\n",
    "---\n",
    "lc2pkpi\n",
    "jpsi2ksp\n",
    "xib2pkk\n",
    "serialization\n",
    "```\n",
    "\n",
    "```{toctree}\n",
    "---\n",
    "maxdepth: 2\n",
    "---\n",
    "comparison\n",
    "```\n",
    "\n",
    "```{toctree}\n",
    "---\n",
    "hidden:\n",
    "---\n",
    "references\n",
    "API <api/ampform_dpd>\n",
    "```\n",
    "\n",
    "```{toctree}\n",
    "---\n",
    "caption: Related projects\n",
    "hidden:\n",
    "---\n",
    "QRules <https://qrules.readthedocs.io>\n",
    "AmpForm <https://ampform.readthedocs.io>\n",
    "TensorWaves <https://tensorwaves.readthedocs.io>\n",
    "PWA Pages <https://pwa.readthedocs.io>\n",
    "ComPWA project <https://compwa.github.io>\n",
    "```"
   ]
  }
 ],
 "metadata": {
  "colab": {
   "toc_visible": true
  },
  "kernelspec": {
   "display_name": "Python 3 (ipykernel)",
   "language": "python",
   "name": "python3"
  },
  "language_info": {
   "codemirror_mode": {
    "name": "ipython",
    "version": 3
   },
   "file_extension": ".py",
   "mimetype": "text/x-python",
   "name": "python",
   "nbconvert_exporter": "python",
   "pygments_lexer": "ipython3",
   "version": "3.13.9"
  }
 },
 "nbformat": 4,
 "nbformat_minor": 4
}

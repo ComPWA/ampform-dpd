{
 "cells": [
  {
   "cell_type": "markdown",
   "metadata": {},
   "source": [
    "# Symbolic Dalitz-Plot Decomposition\n",
    "\n",
    "```{autolink-concat}\n",
    "```"
   ]
  },
  {
   "cell_type": "code",
   "execution_count": null,
   "metadata": {
    "jupyter": {
     "source_hidden": true
    },
    "tags": [
     "hide-cell",
     "scroll-input"
    ]
   },
   "outputs": [],
   "source": [
    "from __future__ import annotations\n",
    "\n",
    "import itertools\n",
    "from typing import Iterable\n",
    "\n",
    "import qrules\n",
    "import sympy as sp\n",
    "from ampform.kinematics.phasespace import Kallen\n",
    "from ampform.sympy import (\n",
    "    UnevaluatedExpression,\n",
    "    create_expression,\n",
    "    implement_doit_method,\n",
    "    make_commutative,\n",
    ")\n",
    "from IPython.display import Latex, Markdown\n",
    "\n",
    "from ampform_dpd import DalitzPlotDecompositionBuilder, simplify_latex_rendering\n",
    "from ampform_dpd.decay import (\n",
    "    IsobarNode,\n",
    "    Particle,\n",
    "    ThreeBodyDecay,\n",
    "    ThreeBodyDecayChain,\n",
    ")\n",
    "from ampform_dpd.io import as_markdown_table, aslatex\n",
    "from ampform_dpd.spin import filter_parity_violating_ls, generate_ls_couplings\n",
    "\n",
    "simplify_latex_rendering()"
   ]
  },
  {
   "cell_type": "markdown",
   "metadata": {},
   "source": [
    "## Decay definition"
   ]
  },
  {
   "cell_type": "code",
   "execution_count": null,
   "metadata": {
    "jupyter": {
     "source_hidden": true
    },
    "tags": [
     "hide-input"
    ]
   },
   "outputs": [],
   "source": [
    "PDG = qrules.load_pdg()\n",
    "PARTICLE_DB = {\n",
    "    p.name: Particle(\n",
    "        name=p.name,\n",
    "        latex=p.latex,\n",
    "        spin=p.spin,\n",
    "        parity=int(p.parity),\n",
    "        mass=p.mass,\n",
    "        width=p.width,\n",
    "    )\n",
    "    for p in PDG\n",
    "    if p.parity is not None\n",
    "}\n",
    "PARTICLE_DB[\"Lambda(2000)\"] = Particle(\n",
    "    name=\"Lambda(2000)\",\n",
    "    latex=R\"\\Lambda(2000)\",\n",
    "    spin=0.5,\n",
    "    parity=-1,\n",
    "    mass=2.0,\n",
    "    width=(0.020 - 0.400) / 2,\n",
    ")\n",
    "Λc = PARTICLE_DB[\"Lambda(c)+\"]\n",
    "p = PARTICLE_DB[\"p\"]\n",
    "π = PARTICLE_DB[\"pi+\"]\n",
    "K = PARTICLE_DB[\"K-\"]\n",
    "PARTICLE_TO_ID = {Λc: 0, p: 1, π: 2, K: 3}\n",
    "Markdown(as_markdown_table(list(PARTICLE_TO_ID)))"
   ]
  },
  {
   "cell_type": "code",
   "execution_count": null,
   "metadata": {
    "jupyter": {
     "source_hidden": true
    },
    "tags": [
     "hide-input"
    ]
   },
   "outputs": [],
   "source": [
    "resonance_names = [\n",
    "    \"Lambda(1405)\",\n",
    "    \"Lambda(1520)\",\n",
    "    \"Lambda(1600)\",\n",
    "    \"Lambda(1670)\",\n",
    "    \"Lambda(1690)\",\n",
    "    \"Lambda(2000)\",\n",
    "    \"Delta(1232)+\",\n",
    "    \"Delta(1600)+\",\n",
    "    \"Delta(1700)+\",\n",
    "    \"K(0)*(700)+\",\n",
    "    \"K*(892)0\",\n",
    "    \"K(2)*(1430)0\",\n",
    "]\n",
    "resonances = [PARTICLE_DB[name] for name in resonance_names]\n",
    "Markdown(as_markdown_table(resonances))"
   ]
  },
  {
   "cell_type": "code",
   "execution_count": null,
   "metadata": {
    "jupyter": {
     "source_hidden": true
    },
    "tags": [
     "hide-input"
    ]
   },
   "outputs": [],
   "source": [
    "def load_three_body_decay(\n",
    "    resonance_names: Iterable[str],\n",
    "    particle_definitions: dict[str, Particle],\n",
    "    min_ls: bool = True,\n",
    ") -> ThreeBodyDecay:\n",
    "    resonances = [particle_definitions[name] for name in resonance_names]\n",
    "    chains: list[ThreeBodyDecayChain] = []\n",
    "    for res in resonances:\n",
    "        chains.extend(_create_isobar(res, min_ls))\n",
    "    return ThreeBodyDecay(\n",
    "        states={state_id: particle for particle, state_id in PARTICLE_TO_ID.items()},\n",
    "        chains=tuple(chains),\n",
    "    )\n",
    "\n",
    "\n",
    "def _create_isobar(resonance: Particle, min_ls: bool) -> list[ThreeBodyDecayChain]:\n",
    "    if resonance.name.startswith(\"K\"):\n",
    "        child1, child2, spectator = π, K, p\n",
    "    elif resonance.name.startswith(\"L\"):\n",
    "        child1, child2, spectator = K, p, π\n",
    "    elif resonance.name.startswith(\"D\"):\n",
    "        child1, child2, spectator = p, π, K\n",
    "    else:\n",
    "        raise NotImplementedError\n",
    "    prod_ls_couplings = _generate_ls(Λc, resonance, spectator, conserve_parity=False)\n",
    "    dec_ls_couplings = _generate_ls(resonance, child1, child2, conserve_parity=True)\n",
    "    if min_ls:\n",
    "        decay = IsobarNode(\n",
    "            parent=Λc,\n",
    "            child1=IsobarNode(\n",
    "                parent=resonance,\n",
    "                child1=child1,\n",
    "                child2=child2,\n",
    "                interaction=min(dec_ls_couplings),\n",
    "            ),\n",
    "            child2=spectator,\n",
    "            interaction=min(prod_ls_couplings),\n",
    "        )\n",
    "        return [ThreeBodyDecayChain(decay)]\n",
    "    chains = []\n",
    "    for dec_ls, prod_ls in itertools.product(dec_ls_couplings, prod_ls_couplings):\n",
    "        decay = IsobarNode(\n",
    "            parent=Λc,\n",
    "            child1=IsobarNode(\n",
    "                parent=resonance,\n",
    "                child1=child1,\n",
    "                child2=child2,\n",
    "                interaction=dec_ls,\n",
    "            ),\n",
    "            child2=spectator,\n",
    "            interaction=prod_ls,\n",
    "        )\n",
    "        chains.append(ThreeBodyDecayChain(decay))\n",
    "    return chains\n",
    "\n",
    "\n",
    "def _generate_ls(\n",
    "    parent: Particle, child1: Particle, child2: Particle, conserve_parity: bool\n",
    ") -> list[tuple[int, sp.Rational]]:\n",
    "    ls = generate_ls_couplings(parent.spin, child1.spin, child2.spin)\n",
    "    if conserve_parity:\n",
    "        return filter_parity_violating_ls(\n",
    "            ls, parent.parity, child1.parity, child2.parity\n",
    "        )\n",
    "    return ls\n",
    "\n",
    "\n",
    "DECAY = load_three_body_decay(\n",
    "    resonance_names,\n",
    "    particle_definitions=PARTICLE_DB,\n",
    "    min_ls=True,\n",
    ")\n",
    "Latex(aslatex(DECAY, with_jp=True))"
   ]
  },
  {
   "cell_type": "markdown",
   "metadata": {},
   "source": [
    "## Lineshapes for dynamics"
   ]
  },
  {
   "cell_type": "code",
   "execution_count": null,
   "metadata": {
    "jupyter": {
     "source_hidden": true
    },
    "tags": [
     "scroll-input",
     "hide-input"
    ]
   },
   "outputs": [],
   "source": [
    "@make_commutative\n",
    "@implement_doit_method\n",
    "class BreitWignerMinL(UnevaluatedExpression):\n",
    "    def __new__(\n",
    "        cls,\n",
    "        s,\n",
    "        decaying_mass,\n",
    "        spectator_mass,\n",
    "        resonance_mass,\n",
    "        resonance_width,\n",
    "        child2_mass,\n",
    "        child1_mass,\n",
    "        l_dec,\n",
    "        l_prod,\n",
    "        R_dec,\n",
    "        R_prod,\n",
    "    ):\n",
    "        return create_expression(\n",
    "            cls,\n",
    "            s,\n",
    "            decaying_mass,\n",
    "            spectator_mass,\n",
    "            resonance_mass,\n",
    "            resonance_width,\n",
    "            child2_mass,\n",
    "            child1_mass,\n",
    "            l_dec,\n",
    "            l_prod,\n",
    "            R_dec,\n",
    "            R_prod,\n",
    "        )\n",
    "\n",
    "    def evaluate(self):\n",
    "        s, m_top, m_spec, m0, Γ0, m1, m2, l_dec, l_prod, R_dec, R_prod = self.args\n",
    "        q = Q(s, m_top, m_spec)\n",
    "        q0 = Q(m0**2, m_top, m_spec)\n",
    "        p = P(s, m1, m2)\n",
    "        p0 = P(m0**2, m1, m2)\n",
    "        width = EnergyDependentWidth(s, m0, Γ0, m1, m2, l_dec, R_dec)\n",
    "        return sp.Mul(\n",
    "            (q / q0) ** l_prod,\n",
    "            BlattWeisskopf(q * R_prod, l_prod) / BlattWeisskopf(q0 * R_prod, l_prod),\n",
    "            1 / (m0**2 - s - sp.I * m0 * width),\n",
    "            (p / p0) ** l_dec,\n",
    "            BlattWeisskopf(p * R_dec, l_dec) / BlattWeisskopf(p0 * R_dec, l_dec),\n",
    "            evaluate=False,\n",
    "        )\n",
    "\n",
    "    def _latex(self, printer, *args) -> str:\n",
    "        s = printer._print(self.args[0])\n",
    "        return Rf\"\\mathcal{{R}}\\left({s}\\right)\"\n",
    "\n",
    "\n",
    "@make_commutative\n",
    "@implement_doit_method\n",
    "class P(UnevaluatedExpression):\n",
    "    def __new__(cls, s, mi, mj, **hints):\n",
    "        return create_expression(cls, s, mi, mj, **hints)\n",
    "\n",
    "    def evaluate(self):\n",
    "        s, mi, mj = self.args\n",
    "        return sp.sqrt(Kallen(s, mi**2, mj**2)) / (2 * sp.sqrt(s))\n",
    "\n",
    "    def _latex(self, printer, *args):\n",
    "        s, mi, mj = map(printer._print, self.args)\n",
    "        return Rf\"p_{{{mi},{mj}}}\\left({s}\\right)\"\n",
    "\n",
    "\n",
    "@make_commutative\n",
    "@implement_doit_method\n",
    "class Q(UnevaluatedExpression):\n",
    "    def __new__(cls, s, m0, mk, **hints):\n",
    "        return create_expression(cls, s, m0, mk, **hints)\n",
    "\n",
    "    def evaluate(self):\n",
    "        s, m0, mk = self.args\n",
    "        return sp.sqrt(Kallen(s, m0**2, mk**2)) / (2 * m0)  # <-- not s!\n",
    "\n",
    "    def _latex(self, printer, *args):\n",
    "        s, m0, mk = map(printer._print, self.args)\n",
    "        return Rf\"q_{{{m0},{mk}}}\\left({s}\\right)\"\n",
    "\n",
    "\n",
    "@make_commutative\n",
    "@implement_doit_method\n",
    "class EnergyDependentWidth(UnevaluatedExpression):\n",
    "    def __new__(cls, s, m0, Γ0, m1, m2, L, R):\n",
    "        return create_expression(cls, s, m0, Γ0, m1, m2, L, R)\n",
    "\n",
    "    def evaluate(self):\n",
    "        s, m0, Γ0, m1, m2, L, R = self.args\n",
    "        p = P(s, m1, m2)\n",
    "        p0 = P(m0**2, m1, m2)\n",
    "        ff = BlattWeisskopf(p * R, L) ** 2\n",
    "        ff0 = BlattWeisskopf(p0 * R, L) ** 2\n",
    "        return sp.Mul(\n",
    "            Γ0,\n",
    "            (p / p0) ** (2 * L + 1),\n",
    "            m0 / sp.sqrt(s),\n",
    "            ff / ff0,\n",
    "            evaluate=False,\n",
    "        )\n",
    "\n",
    "    def _latex(self, printer, *args) -> str:\n",
    "        s = printer._print(self.args[0])\n",
    "        return Rf\"\\Gamma\\left({s}\\right)\"\n",
    "\n",
    "\n",
    "@make_commutative\n",
    "@implement_doit_method\n",
    "class BlattWeisskopf(UnevaluatedExpression):\n",
    "    def __new__(cls, z, L, **hints):\n",
    "        return create_expression(cls, z, L, **hints)\n",
    "\n",
    "    def evaluate(self) -> sp.Piecewise:\n",
    "        z, L = self.args\n",
    "        cases = {\n",
    "            0: 1,\n",
    "            1: 1 / (1 + z**2),\n",
    "            2: 1 / (9 + 3 * z**2 + z**4),\n",
    "        }\n",
    "        return sp.Piecewise(\n",
    "            *[(sp.sqrt(expr), sp.Eq(L, l_val)) for l_val, expr in cases.items()]\n",
    "        )\n",
    "\n",
    "    def _latex(self, printer, *args):\n",
    "        z, L = map(printer._print, self.args)\n",
    "        return Rf\"F_{{{L}}}\\left({z}\\right)\"\n",
    "\n",
    "\n",
    "s, m0, Γ0, m1, m2 = sp.symbols(\"s m0 Gamma0 m1 m2\", nonnegative=True)\n",
    "m_top, m_spec = sp.symbols(R\"m_\\mathrm{top} m_\\mathrm{spectator}\")\n",
    "R_dec, R_prod = sp.symbols(R\"R_\\mathrm{res} R_{\\Lambda_c}\")\n",
    "l_Λc, l_R = sp.symbols(R\"l_{\\Lambda_c} l_R\", integer=True, positive=True)\n",
    "bw = BreitWignerMinL(s, m_top, m_spec, m0, Γ0, m1, m2, l_R, l_Λc, R_dec, R_prod)\n",
    "Latex(aslatex({bw: bw.doit(deep=False)}))"
   ]
  },
  {
   "cell_type": "code",
   "execution_count": null,
   "metadata": {
    "jupyter": {
     "source_hidden": true
    },
    "tags": [
     "hide-input"
    ]
   },
   "outputs": [],
   "source": [
    "def formulate_breit_wigner(\n",
    "    decay_chain: ThreeBodyDecayChain,\n",
    ") -> tuple[BreitWignerMinL, dict[sp.Symbol, float]]:\n",
    "    s = _get_mandelstam_s(decay_chain)\n",
    "    child1_mass, child2_mass = map(_to_mass_symbol, decay_chain.decay_products)\n",
    "    l_dec = sp.Rational(decay_chain.outgoing_ls.L)\n",
    "    l_prod = sp.Rational(decay_chain.incoming_ls.L)\n",
    "    parent_mass = sp.Symbol(f\"m_{{{decay_chain.parent.name}}}\")\n",
    "    spectator_mass = sp.Symbol(f\"m_{{{decay_chain.spectator.name}}}\")\n",
    "    resonance_mass = sp.Symbol(f\"m_{{{decay_chain.resonance.name}}}\")\n",
    "    resonance_width = sp.Symbol(Rf\"\\Gamma_{{{decay_chain.resonance.name}}}\")\n",
    "    R_dec = sp.Symbol(R\"R_\\mathrm{res}\")\n",
    "    R_prod = sp.Symbol(R\"R_{\\Lambda_c}\")\n",
    "    parameter_defaults = {\n",
    "        parent_mass: decay_chain.parent.mass,\n",
    "        spectator_mass: decay_chain.spectator.mass,\n",
    "        resonance_mass: decay_chain.resonance.mass,\n",
    "        resonance_width: decay_chain.resonance.width,\n",
    "        child1_mass: decay_chain.decay_products[0].mass,\n",
    "        child2_mass: decay_chain.decay_products[1].mass,\n",
    "        # https://github.com/ComPWA/polarimetry/pull/11#issuecomment-1128784376\n",
    "        R_dec: 1.5,\n",
    "        R_prod: 5,\n",
    "    }\n",
    "    dynamics = BreitWignerMinL(\n",
    "        s,\n",
    "        parent_mass,\n",
    "        spectator_mass,\n",
    "        resonance_mass,\n",
    "        resonance_width,\n",
    "        child1_mass,\n",
    "        child2_mass,\n",
    "        l_dec,\n",
    "        l_prod,\n",
    "        R_dec,\n",
    "        R_prod,\n",
    "    )\n",
    "    return dynamics, parameter_defaults\n",
    "\n",
    "\n",
    "def _get_mandelstam_s(decay: ThreeBodyDecayChain) -> sp.Symbol:\n",
    "    s1, s2, s3 = sp.symbols(\"sigma1:4\", nonnegative=True)\n",
    "    m1, m2, m3 = map(_to_mass_symbol, [p, π, K])\n",
    "    decay_masses = {_to_mass_symbol(p) for p in decay.decay_products}\n",
    "    if decay_masses == {m2, m3}:\n",
    "        return s1\n",
    "    if decay_masses == {m1, m3}:\n",
    "        return s2\n",
    "    if decay_masses == {m1, m2}:\n",
    "        return s3\n",
    "    raise NotImplementedError(\n",
    "        f\"Cannot find Mandelstam variable for {''.join(decay_masses)}\"\n",
    "    )\n",
    "\n",
    "\n",
    "def _to_mass_symbol(particle: Particle) -> sp.Symbol:\n",
    "    state_id = PARTICLE_TO_ID.get(particle)\n",
    "    if state_id is not None:\n",
    "        return sp.Symbol(f\"m{state_id}\", nonnegative=True)\n",
    "    return sp.Symbol(f\"m_{{{particle.name}}}\", nonnegative=True)"
   ]
  },
  {
   "cell_type": "markdown",
   "metadata": {},
   "source": [
    "## Model formulation"
   ]
  },
  {
   "cell_type": "code",
   "execution_count": null,
   "metadata": {},
   "outputs": [],
   "source": [
    "model_builder = DalitzPlotDecompositionBuilder(DECAY, min_ls=True)\n",
    "for chain in model_builder.decay.chains:\n",
    "    model_builder.dynamics_choices.register_builder(chain, formulate_breit_wigner)\n",
    "model = model_builder.formulate(reference_subsystem=1)\n",
    "model.intensity"
   ]
  },
  {
   "cell_type": "code",
   "execution_count": null,
   "metadata": {
    "tags": [
     "hide-input",
     "full-width"
    ]
   },
   "outputs": [],
   "source": [
    "Latex(aslatex(model.amplitudes))"
   ]
  },
  {
   "cell_type": "markdown",
   "metadata": {},
   "source": [
    "```{toctree}\n",
    "---\n",
    "hidden:\n",
    "maxdepth: 2\n",
    "---\n",
    "API <api/ampform_dpd>\n",
    "```"
   ]
  }
 ],
 "metadata": {
  "kernelspec": {
   "display_name": "Python 3 (ipykernel)",
   "language": "python",
   "name": "python3"
  },
  "language_info": {
   "codemirror_mode": {
    "name": "ipython",
    "version": 3
   },
   "file_extension": ".py",
   "mimetype": "text/x-python",
   "name": "python",
   "nbconvert_exporter": "python",
   "pygments_lexer": "ipython3",
   "version": "3.8.13"
  }
 },
 "nbformat": 4,
 "nbformat_minor": 4
}

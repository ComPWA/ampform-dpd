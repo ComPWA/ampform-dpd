{
 "cells": [
  {
   "cell_type": "markdown",
   "metadata": {
    "tags": []
   },
   "source": [
    "# J/ψ → K⁰ Σ⁺ p̅\n",
    "\n",
    "```{autolink-concat}\n",
    "```"
   ]
  },
  {
   "cell_type": "code",
   "execution_count": null,
   "metadata": {
    "jupyter": {
     "source_hidden": true
    },
    "tags": [
     "hide-cell",
     "scroll-input"
    ]
   },
   "outputs": [],
   "source": [
    "from __future__ import annotations\n",
    "\n",
    "import logging\n",
    "import os\n",
    "import warnings\n",
    "from typing import TYPE_CHECKING\n",
    "\n",
    "import graphviz\n",
    "import jax.numpy as jnp\n",
    "import matplotlib.pyplot as plt\n",
    "import qrules\n",
    "import sympy as sp\n",
    "from ampform.dynamics import BlattWeisskopfSquared, EnergyDependentWidth\n",
    "from ampform.sympy import perform_cached_doit\n",
    "from IPython.display import Latex, Markdown\n",
    "from tensorwaves.data.transform import SympyDataTransformer\n",
    "from tqdm.auto import tqdm\n",
    "\n",
    "from ampform_dpd import DalitzPlotDecompositionBuilder\n",
    "from ampform_dpd.adapter.qrules import normalize_state_ids, to_three_body_decay\n",
    "from ampform_dpd.dynamics import FormFactor, RelativisticBreitWigner\n",
    "from ampform_dpd.dynamics.builder import formulate_breit_wigner_with_form_factor\n",
    "from ampform_dpd.io import (\n",
    "    as_markdown_table,\n",
    "    aslatex,\n",
    "    perform_cached_lambdify,\n",
    "    simplify_latex_rendering,\n",
    ")\n",
    "\n",
    "simplify_latex_rendering()\n",
    "logging.getLogger(\"absl\").setLevel(logging.ERROR)  # mute JAX\n",
    "warnings.simplefilter(\"ignore\")\n",
    "\n",
    "NO_TQDM = \"EXECUTE_NB\" in os.environ\n",
    "if NO_TQDM:\n",
    "    logging.getLogger(\"ampform_dpd.io\").setLevel(logging.ERROR)\n",
    "if TYPE_CHECKING:\n",
    "    from tensorwaves.interface import DataSample, ParametrizedFunction"
   ]
  },
  {
   "cell_type": "markdown",
   "metadata": {
    "jp-MarkdownHeadingCollapsed": true
   },
   "source": [
    "## Decay definition"
   ]
  },
  {
   "cell_type": "markdown",
   "metadata": {},
   "source": [
    "We follow [this example](https://qrules.readthedocs.io/en/0.10.1/usage.html#investigate-intermediate-resonances), which was generated with QRules, and leave out the $K$-resonances and the resonances that lie far outside of phase space."
   ]
  },
  {
   "cell_type": "code",
   "execution_count": null,
   "metadata": {
    "jupyter": {
     "source_hidden": true
    },
    "tags": [
     "hide-input"
    ]
   },
   "outputs": [],
   "source": [
    "REACTION = qrules.generate_transitions(\n",
    "    initial_state=\"J/psi(1S)\",\n",
    "    final_state=[\"K0\", \"Sigma+\", \"p~\"],\n",
    "    allowed_interaction_types=\"strong\",\n",
    "    formalism=\"canonical-helicity\",\n",
    "    mass_conservation_factor=0.05,\n",
    ")\n",
    "REACTION = normalize_state_ids(REACTION)\n",
    "dot = qrules.io.asdot(REACTION, collapse_graphs=True)\n",
    "graphviz.Source(dot)"
   ]
  },
  {
   "cell_type": "code",
   "execution_count": null,
   "metadata": {
    "jupyter": {
     "source_hidden": true
    },
    "tags": [
     "hide-input"
    ]
   },
   "outputs": [],
   "source": [
    "DECAY = to_three_body_decay(REACTION.transitions, min_ls=True)\n",
    "Markdown(as_markdown_table([DECAY.initial_state, *DECAY.final_state.values()]))"
   ]
  },
  {
   "cell_type": "code",
   "execution_count": null,
   "metadata": {
    "jupyter": {
     "source_hidden": true
    },
    "tags": [
     "hide-input"
    ]
   },
   "outputs": [],
   "source": [
    "resonances = sorted(\n",
    "    {t.resonance for t in DECAY.chains},\n",
    "    key=lambda p: (p.name[0], p.mass),\n",
    ")\n",
    "resonance_names = [p.name for p in resonances]\n",
    "Markdown(as_markdown_table(resonances))"
   ]
  },
  {
   "cell_type": "code",
   "execution_count": null,
   "metadata": {
    "tags": [
     "hide-input"
    ]
   },
   "outputs": [],
   "source": [
    "Latex(aslatex(DECAY, with_jp=True))"
   ]
  },
  {
   "cell_type": "markdown",
   "metadata": {
    "jp-MarkdownHeadingCollapsed": true
   },
   "source": [
    "## Model formulation"
   ]
  },
  {
   "cell_type": "markdown",
   "metadata": {},
   "source": [
    "The total, aligned intensity expression looks as follows:"
   ]
  },
  {
   "cell_type": "code",
   "execution_count": null,
   "metadata": {
    "tags": [
     "full-width"
    ]
   },
   "outputs": [],
   "source": [
    "model_builder = DalitzPlotDecompositionBuilder(DECAY, min_ls=False)\n",
    "for chain in model_builder.decay.chains:\n",
    "    model_builder.dynamics_choices.register_builder(\n",
    "        chain, formulate_breit_wigner_with_form_factor\n",
    "    )\n",
    "model = model_builder.formulate(reference_subsystem=1)\n",
    "model.intensity"
   ]
  },
  {
   "cell_type": "markdown",
   "metadata": {},
   "source": [
    "where the angles can be computed from initial and final state masses $m_0$, $m_1$, $m_2$, and $m_3$:"
   ]
  },
  {
   "cell_type": "code",
   "execution_count": null,
   "metadata": {
    "jupyter": {
     "source_hidden": true
    },
    "tags": [
     "hide-input"
    ]
   },
   "outputs": [],
   "source": [
    "Latex(aslatex(model.variables))"
   ]
  },
  {
   "cell_type": "markdown",
   "metadata": {},
   "source": [
    "Each **unaligned** amplitude is defined as follows:"
   ]
  },
  {
   "cell_type": "code",
   "execution_count": null,
   "metadata": {
    "tags": [
     "hide-input",
     "full-width",
     "hide-output"
    ]
   },
   "outputs": [],
   "source": [
    "Latex(aslatex({k: v for k, v in model.amplitudes.items() if v}))"
   ]
  },
  {
   "cell_type": "code",
   "execution_count": null,
   "metadata": {
    "jupyter": {
     "source_hidden": true
    },
    "tags": [
     "hide-input",
     "full-width"
    ]
   },
   "outputs": [],
   "source": [
    "s, m0, w0, m1, m2, L, R, z = sp.symbols(\"s m0 Gamma0 m1 m2 L R z\")\n",
    "exprs = [\n",
    "    RelativisticBreitWigner(s, m0, w0, m1, m2, L, R),\n",
    "    EnergyDependentWidth(s, m0, w0, m1, m2, L, R),\n",
    "    FormFactor(s, m1, m2, L, R),\n",
    "    BlattWeisskopfSquared(z, L),\n",
    "]\n",
    "Latex(aslatex({e: e.doit(deep=False) for e in exprs}))"
   ]
  },
  {
   "cell_type": "markdown",
   "metadata": {
    "tags": []
   },
   "source": [
    "## Preparing for input data"
   ]
  },
  {
   "cell_type": "markdown",
   "metadata": {},
   "source": [
    "The {meth}`~sympy.core.basic.Basic.doit` operation can be cached to disk with {func}`~ampform.sympy.perform_cached_doit`. We do this twice, once for the unfolding of the {attr}`~.AmplitudeModel.intensity` expression and second for the substitution and unfolding of the {attr}`~.AmplitudeModel.amplitudes`. Note that we could also have unfolded the intensity and substituted the amplitudes with {attr}`~.AmplitudeModel.full_expression`, but then the unfolded {attr}`~.AmplitudeModel.intensity` expression is not cached."
   ]
  },
  {
   "cell_type": "code",
   "execution_count": null,
   "metadata": {
    "tags": []
   },
   "outputs": [],
   "source": [
    "unfolded_intensity_expr = perform_cached_doit(model.intensity)\n",
    "full_intensity_expr = perform_cached_doit(\n",
    "    unfolded_intensity_expr.xreplace(model.amplitudes)\n",
    ")"
   ]
  },
  {
   "cell_type": "markdown",
   "metadata": {
    "tags": []
   },
   "source": [
    "With this, the remaining {class}`~sympy.core.symbol.Symbol`s in the full expression are kinematic variables.[^1]\n",
    "\n",
    "[^1]: Yes, there are still $\\mathcal{H}^\\mathrm{production}$ and $\\mathcal{H}^\\mathrm{decay}$, but these are the {attr}`~sympy.tensor.indexed.Indexed.base`s of the {class}`~sympy.tensor.indexed.Indexed` coupling symbols. They should **NOT** be substituted."
   ]
  },
  {
   "cell_type": "code",
   "execution_count": null,
   "metadata": {
    "tags": [
     "hide-input"
    ]
   },
   "outputs": [],
   "source": [
    "sp.Array(\n",
    "    sorted(full_intensity_expr.free_symbols - set(model.parameter_defaults), key=str)\n",
    ")"
   ]
  },
  {
   "cell_type": "markdown",
   "metadata": {
    "tags": []
   },
   "source": [
    "The $\\theta$ and $\\zeta$ angles are defined by the {attr}`~.AmplitudeModel.variables` attribute (they are shown under {ref}`jpsi2ksp:Model formulation`). Those definitions allow us to create a converter that computes kinematic variables from masses and Mandelstam variables:"
   ]
  },
  {
   "cell_type": "code",
   "execution_count": null,
   "metadata": {
    "tags": [
     "hide-output"
    ]
   },
   "outputs": [],
   "source": [
    "masses_to_angles = SympyDataTransformer.from_sympy(model.variables, backend=\"jax\")\n",
    "masses_to_angles.functions"
   ]
  },
  {
   "cell_type": "markdown",
   "metadata": {},
   "source": [
    "## Dalitz plot"
   ]
  },
  {
   "cell_type": "markdown",
   "metadata": {
    "tags": []
   },
   "source": [
    "The data input for this data transformer can be several things. One can compute them from a (generated) data sample of four-momenta. Or one can compute them for a Dalitz plane. We do the latter in this section.\n",
    "\n",
    "First, the data transformer defined above expects values for the masses. We have already defined these values above, but we need to convert them from {mod}`sympy` objects to numerical data:"
   ]
  },
  {
   "cell_type": "code",
   "execution_count": null,
   "metadata": {
    "tags": []
   },
   "outputs": [],
   "source": [
    "dalitz_data = {str(s): float(v) for s, v in model.masses.items()}"
   ]
  },
  {
   "cell_type": "markdown",
   "metadata": {},
   "source": [
    "Next, we define a grid of data points over Mandelstam (Dalitz) variables $\\sigma_2=m_{13}, \\sigma_3=m_{12}$:"
   ]
  },
  {
   "cell_type": "code",
   "execution_count": null,
   "metadata": {},
   "outputs": [],
   "source": [
    "resolution = 500\n",
    "X, Y = jnp.meshgrid(\n",
    "    jnp.linspace(1.66**2, 2.18**2, num=resolution),\n",
    "    jnp.linspace(1.4**2, 1.93**2, num=resolution),\n",
    ")\n",
    "dalitz_data[\"sigma3\"] = X\n",
    "dalitz_data[\"sigma2\"] = Y"
   ]
  },
  {
   "cell_type": "markdown",
   "metadata": {
    "tags": []
   },
   "source": [
    "The remaining Mandelstam variable can be expressed in terms of the others as follows:"
   ]
  },
  {
   "cell_type": "code",
   "execution_count": null,
   "metadata": {
    "tags": [
     "hide-input"
    ]
   },
   "outputs": [],
   "source": [
    "(s1, s1_expr), *_ = model.invariants.items()\n",
    "Latex(aslatex({s1: s1_expr}))"
   ]
  },
  {
   "cell_type": "markdown",
   "metadata": {
    "tags": []
   },
   "source": [
    "That completes the data sample over which we want to evaluate the intensity model defined above:"
   ]
  },
  {
   "cell_type": "code",
   "execution_count": null,
   "metadata": {
    "tags": [
     "hide-output"
    ]
   },
   "outputs": [],
   "source": [
    "sigma1_func = perform_cached_lambdify(s1_expr, backend=\"jax\")\n",
    "dalitz_data[\"sigma1\"] = sigma1_func(dalitz_data)\n",
    "dalitz_data"
   ]
  },
  {
   "cell_type": "markdown",
   "metadata": {
    "tags": []
   },
   "source": [
    "We can now extend the sample with angle definitions so that we have a data sample over which the intensity can be evaluated."
   ]
  },
  {
   "cell_type": "code",
   "execution_count": null,
   "metadata": {
    "tags": []
   },
   "outputs": [],
   "source": [
    "angle_data = masses_to_angles(dalitz_data)\n",
    "dalitz_data.update(angle_data)"
   ]
  },
  {
   "cell_type": "code",
   "execution_count": null,
   "metadata": {
    "tags": [
     "remove-input"
    ]
   },
   "outputs": [],
   "source": [
    "for k, v in dalitz_data.items():\n",
    "    assert not jnp.all(jnp.isnan(v)), f\"All values for {k} are NaN\""
   ]
  },
  {
   "cell_type": "code",
   "execution_count": null,
   "metadata": {
    "tags": []
   },
   "outputs": [],
   "source": [
    "free_parameters = {\n",
    "    k: v\n",
    "    for k, v in model.parameter_defaults.items()\n",
    "    if isinstance(k, sp.Indexed)\n",
    "    if \"production\" in str(k) or \"decay\" in str(k)\n",
    "}\n",
    "fixed_parameters = {\n",
    "    k: v for k, v in model.parameter_defaults.items() if k not in free_parameters\n",
    "}\n",
    "intensity_func = perform_cached_lambdify(\n",
    "    full_intensity_expr.xreplace(fixed_parameters),\n",
    "    parameters=free_parameters,\n",
    "    backend=\"jax\",\n",
    ")"
   ]
  },
  {
   "cell_type": "code",
   "execution_count": null,
   "metadata": {
    "tags": [
     "remove-input"
    ]
   },
   "outputs": [],
   "source": [
    "%config InlineBackend.figure_formats = ['png']"
   ]
  },
  {
   "cell_type": "code",
   "execution_count": null,
   "metadata": {
    "jupyter": {
     "source_hidden": true
    },
    "tags": [
     "hide-input"
    ]
   },
   "outputs": [],
   "source": [
    "plt.rc(\"font\", size=18)\n",
    "intensities = intensity_func(dalitz_data)\n",
    "I_tot = jnp.nansum(intensities)\n",
    "normalized_intensities = intensities / I_tot\n",
    "assert not jnp.all(jnp.isnan(normalized_intensities)), \"All intensities are NaN\"\n",
    "\n",
    "fig, ax = plt.subplots(figsize=(14, 10))\n",
    "mesh = ax.pcolormesh(X, Y, normalized_intensities)\n",
    "ax.set_aspect(\"equal\")\n",
    "c_bar = plt.colorbar(mesh, ax=ax, pad=0.01)\n",
    "c_bar.ax.set_ylabel(\"Normalized intensity (a.u.)\")\n",
    "ax.set_xlabel(R\"$\\sigma_3 = M^2\\left(K^0\\Sigma^+\\right)$\")\n",
    "ax.set_ylabel(R\"$\\sigma_2 = M^2\\left(K^0\\bar{p}\\right)$\")\n",
    "plt.show()"
   ]
  },
  {
   "cell_type": "code",
   "execution_count": null,
   "metadata": {
    "tags": [
     "remove-input"
    ]
   },
   "outputs": [],
   "source": [
    "%config InlineBackend.figure_formats = ['svg']"
   ]
  },
  {
   "cell_type": "code",
   "execution_count": null,
   "metadata": {
    "jupyter": {
     "source_hidden": true
    },
    "tags": [
     "hide-input",
     "full-width",
     "scroll-input"
    ]
   },
   "outputs": [],
   "source": [
    "def compute_sub_intensity(\n",
    "    func: ParametrizedFunction, phsp: DataSample, resonance_latex: str\n",
    ") -> jnp.ndarray:\n",
    "    original_parameters = dict(func.parameters)\n",
    "    zero_parameters = {\n",
    "        k: 0\n",
    "        for k, v in func.parameters.items()\n",
    "        if R\"\\mathcal{H}\" in k\n",
    "        if resonance_latex not in k\n",
    "    }\n",
    "    func.update_parameters(zero_parameters)\n",
    "    intensities = func(phsp)\n",
    "    func.update_parameters(original_parameters)\n",
    "    return intensities\n",
    "\n",
    "\n",
    "plt.rc(\"font\", size=16)\n",
    "fig, axes = plt.subplots(figsize=(18, 6), ncols=2, sharey=True)\n",
    "fig.subplots_adjust(wspace=0.02)\n",
    "ax1, ax2 = axes\n",
    "x = jnp.sqrt(X[0])\n",
    "y = jnp.sqrt(Y[:, 0])\n",
    "ax1.fill_between(x, jnp.nansum(normalized_intensities, axis=0), alpha=0.5)\n",
    "ax2.fill_between(y, jnp.nansum(normalized_intensities, axis=1), alpha=0.5)\n",
    "for ax in axes:\n",
    "    _, y_max = ax.get_ylim()\n",
    "    ax.set_ylim(0, y_max)\n",
    "    ax.autoscale(enable=False, axis=\"x\")\n",
    "ax1.set_ylabel(\"Normalized intensity (a.u.)\")\n",
    "ax1.set_xlabel(R\"$M\\left(K^0\\Sigma^+\\right)$\")\n",
    "ax2.set_xlabel(R\"$M\\left(K^0\\bar{p}\\right)$\")\n",
    "i1, i2 = 0, 0\n",
    "for chain in tqdm(model.decay.chains, disable=NO_TQDM):\n",
    "    resonance = chain.resonance\n",
    "    decay_product = {p.name for p in chain.decay_products}\n",
    "    if decay_product == {\"K0\", \"Sigma+\"}:\n",
    "        ax = ax1\n",
    "        i1 += 1\n",
    "        i = i1\n",
    "        projection_axis = 0\n",
    "        x_data = x\n",
    "    elif decay_product == {\"K0\", \"p~\"}:\n",
    "        ax = ax2\n",
    "        i2 += 1\n",
    "        i = i2\n",
    "        projection_axis = 1\n",
    "        x_data = y\n",
    "    else:\n",
    "        continue\n",
    "    sub_intensities = compute_sub_intensity(\n",
    "        intensity_func, dalitz_data, resonance.latex\n",
    "    )\n",
    "    ax.plot(\n",
    "        x_data, jnp.nansum(sub_intensities / I_tot, axis=projection_axis), c=f\"C{i}\"\n",
    "    )\n",
    "    ax.axvline(resonance.mass, label=f\"${resonance.latex}$\", c=f\"C{i}\", ls=\"dashed\")\n",
    "for ax in axes:\n",
    "    ax.legend(fontsize=12)\n",
    "plt.show()"
   ]
  }
 ],
 "metadata": {
  "colab": {
   "toc_visible": true
  },
  "kernelspec": {
   "display_name": "Python 3 (ipykernel)",
   "language": "python",
   "name": "python3"
  },
  "language_info": {
   "codemirror_mode": {
    "name": "ipython",
    "version": 3
   },
   "file_extension": ".py",
   "mimetype": "text/x-python",
   "name": "python",
   "nbconvert_exporter": "python",
   "pygments_lexer": "ipython3",
   "version": "3.9.19"
  }
 },
 "nbformat": 4,
 "nbformat_minor": 4
}

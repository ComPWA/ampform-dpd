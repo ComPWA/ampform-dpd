{
 "cells": [
  {
   "cell_type": "markdown",
   "metadata": {},
   "source": [
    "# J/ψ → K⁰Σ⁺p̅\n",
    "\n",
    "```{autolink-concat}\n",
    "```"
   ]
  },
  {
   "cell_type": "code",
   "execution_count": null,
   "metadata": {
    "jupyter": {
     "source_hidden": true
    },
    "tags": [
     "hide-cell",
     "scroll-input"
    ]
   },
   "outputs": [],
   "source": [
    "# pyright: reportPrivateUsage=false\n",
    "from __future__ import annotations\n",
    "\n",
    "import itertools\n",
    "from typing import Iterable\n",
    "\n",
    "import qrules\n",
    "import sympy as sp\n",
    "from ampform.dynamics import EnergyDependentWidth, formulate_form_factor\n",
    "from IPython.display import Latex, Markdown\n",
    "\n",
    "from ampform_dpd import (\n",
    "    DalitzPlotDecompositionBuilder,\n",
    "    _get_particle,\n",
    "    simplify_latex_rendering,\n",
    ")\n",
    "from ampform_dpd.decay import (\n",
    "    IsobarNode,\n",
    "    Particle,\n",
    "    ThreeBodyDecay,\n",
    "    ThreeBodyDecayChain,\n",
    ")\n",
    "from ampform_dpd.io import as_markdown_table, aslatex\n",
    "from ampform_dpd.spin import filter_parity_violating_ls, generate_ls_couplings\n",
    "\n",
    "simplify_latex_rendering()"
   ]
  },
  {
   "cell_type": "markdown",
   "metadata": {},
   "source": [
    "## Decay definition"
   ]
  },
  {
   "cell_type": "markdown",
   "metadata": {},
   "source": [
    "We follow [this example](https://qrules.readthedocs.io/en/0.9.7/usage.html#investigate-intermediate-resonances), which was generated with QRules, and leave out the $K$-resonances:\n",
    "\n",
    "![](https://qrules.readthedocs.io/en/0.9.7/_images/usage_9_0.svg)"
   ]
  },
  {
   "cell_type": "code",
   "execution_count": null,
   "metadata": {
    "jupyter": {
     "source_hidden": true
    },
    "tags": [
     "hide-input"
    ]
   },
   "outputs": [],
   "source": [
    "PDG = qrules.load_pdg()\n",
    "PARTICLE_DB = {\n",
    "    p.name: Particle(\n",
    "        name=p.name,\n",
    "        latex=p.latex,\n",
    "        spin=p.spin,\n",
    "        parity=int(p.parity),\n",
    "        mass=p.mass,\n",
    "        width=p.width,\n",
    "    )\n",
    "    for p in PDG\n",
    "    if p.parity is not None\n",
    "}\n",
    "Jpsi = PARTICLE_DB[\"J/psi(1S)\"]\n",
    "K = PARTICLE_DB[\"K0\"]\n",
    "Σ = PARTICLE_DB[\"Sigma+\"]\n",
    "pbar = PARTICLE_DB[\"p~\"]\n",
    "PARTICLE_TO_ID = {Jpsi: 0, K: 1, Σ: 2, pbar: 3}\n",
    "Markdown(as_markdown_table(list(PARTICLE_TO_ID)))"
   ]
  },
  {
   "cell_type": "code",
   "execution_count": null,
   "metadata": {
    "jupyter": {
     "source_hidden": true
    },
    "tags": [
     "hide-input"
    ]
   },
   "outputs": [],
   "source": [
    "resonance_names = [\n",
    "    \"Sigma(1385)~-\",\n",
    "    \"Sigma(1660)~-\",\n",
    "    \"Sigma(1670)~-\",\n",
    "    \"Sigma(1750)~-\",\n",
    "    \"Sigma(1775)~-\",\n",
    "    \"Sigma(1910)~-\",\n",
    "    \"N(1440)+\",\n",
    "    \"N(1520)+\",\n",
    "    \"N(1535)+\",\n",
    "    \"N(1650)+\",\n",
    "    \"N(1675)+\",\n",
    "    \"N(1700)+\",\n",
    "    \"N(1710)+\",\n",
    "    \"N(1720)+\",\n",
    "]\n",
    "resonances = [PARTICLE_DB[name] for name in resonance_names]\n",
    "Markdown(as_markdown_table(resonances))"
   ]
  },
  {
   "cell_type": "code",
   "execution_count": null,
   "metadata": {
    "jupyter": {
     "source_hidden": true
    },
    "tags": [
     "hide-input"
    ]
   },
   "outputs": [],
   "source": [
    "def load_three_body_decay(\n",
    "    resonance_names: Iterable[str],\n",
    "    particle_definitions: dict[str, Particle],\n",
    "    min_ls: bool = True,\n",
    ") -> ThreeBodyDecay:\n",
    "    resonances = [particle_definitions[name] for name in resonance_names]\n",
    "    chains: list[ThreeBodyDecayChain] = []\n",
    "    for res in resonances:\n",
    "        chains.extend(_create_isobar(res, min_ls))\n",
    "    return ThreeBodyDecay(\n",
    "        states={state_id: particle for particle, state_id in PARTICLE_TO_ID.items()},\n",
    "        chains=tuple(chains),\n",
    "    )\n",
    "\n",
    "\n",
    "def _create_isobar(resonance: Particle, min_ls: bool) -> list[ThreeBodyDecayChain]:\n",
    "    if resonance.name.startswith(\"Sigma\"):\n",
    "        child1, child2, spectator = pbar, K, Σ\n",
    "    elif resonance.name.startswith(\"N\"):\n",
    "        child1, child2, spectator = K, Σ, pbar\n",
    "    elif resonance.name.startswith(\"K\"):\n",
    "        child1, child2, spectator = Σ, pbar, K\n",
    "    else:\n",
    "        raise NotImplementedError\n",
    "    prod_ls_couplings = _generate_ls(\n",
    "        Jpsi, resonance, spectator, conserve_parity=False\n",
    "    )\n",
    "    dec_ls_couplings = _generate_ls(resonance, child1, child2, conserve_parity=True)\n",
    "    if min_ls:\n",
    "        decay = IsobarNode(\n",
    "            parent=Jpsi,\n",
    "            child1=IsobarNode(\n",
    "                parent=resonance,\n",
    "                child1=child1,\n",
    "                child2=child2,\n",
    "                interaction=min(dec_ls_couplings),\n",
    "            ),\n",
    "            child2=spectator,\n",
    "            interaction=min(prod_ls_couplings),\n",
    "        )\n",
    "        return [ThreeBodyDecayChain(decay)]\n",
    "    chains = []\n",
    "    for dec_ls, prod_ls in itertools.product(dec_ls_couplings, prod_ls_couplings):\n",
    "        decay = IsobarNode(\n",
    "            parent=Jpsi,\n",
    "            child1=IsobarNode(\n",
    "                parent=resonance,\n",
    "                child1=child1,\n",
    "                child2=child2,\n",
    "                interaction=dec_ls,\n",
    "            ),\n",
    "            child2=spectator,\n",
    "            interaction=prod_ls,\n",
    "        )\n",
    "        chains.append(ThreeBodyDecayChain(decay))\n",
    "    return chains\n",
    "\n",
    "\n",
    "def _generate_ls(\n",
    "    parent: Particle, child1: Particle, child2: Particle, conserve_parity: bool\n",
    ") -> list[tuple[int, sp.Rational]]:\n",
    "    ls = generate_ls_couplings(parent.spin, child1.spin, child2.spin)\n",
    "    if conserve_parity:\n",
    "        return filter_parity_violating_ls(\n",
    "            ls, parent.parity, child1.parity, child2.parity\n",
    "        )\n",
    "    return ls\n",
    "\n",
    "\n",
    "DECAY = load_three_body_decay(\n",
    "    resonance_names,\n",
    "    particle_definitions=PARTICLE_DB,\n",
    "    min_ls=True,\n",
    ")\n",
    "Latex(aslatex(DECAY, with_jp=True))"
   ]
  },
  {
   "cell_type": "markdown",
   "metadata": {},
   "source": [
    "## Lineshapes for dynamics"
   ]
  },
  {
   "cell_type": "markdown",
   "metadata": {},
   "source": [
    ":::{note}\n",
    "As opposed to [AmpForm](https://ampform.rtfd.io), AmpForm-DPD defines dynamics over the **entire decay chain**, not a single isobar node. The dynamics classes and the corresponding builders would have to be extended to implement other dynamics lineshapes.\n",
    ":::"
   ]
  },
  {
   "cell_type": "code",
   "execution_count": null,
   "metadata": {
    "jupyter": {
     "source_hidden": true
    },
    "tags": [
     "hide-input"
    ]
   },
   "outputs": [],
   "source": [
    "def formulate_breit_wigner_with_ff(\n",
    "    decay_chain: ThreeBodyDecayChain,\n",
    ") -> tuple[sp.Expr, dict[sp.Symbol, float]]:\n",
    "    production_node = decay_chain.decay\n",
    "    assert isinstance(\n",
    "        production_node.child1, IsobarNode\n",
    "    ), \"Not a 3-body isobar decay\"\n",
    "    decay_node = production_node.child1\n",
    "\n",
    "    s = _get_mandelstam_s(decay_chain)\n",
    "    parameter_defaults = {}\n",
    "    production_ff, new_pars = _create_form_factor(s, production_node)\n",
    "    parameter_defaults.update(new_pars)\n",
    "    decay_ff, new_pars = _create_form_factor(s, decay_node)\n",
    "    parameter_defaults.update(new_pars)\n",
    "    breit_wigner, new_pars = _create_breit_wigner(s, decay_node)\n",
    "    return (\n",
    "        production_ff * decay_ff * breit_wigner,\n",
    "        parameter_defaults,\n",
    "    )\n",
    "\n",
    "\n",
    "def _create_form_factor(\n",
    "    s: sp.Symbol, isobar: IsobarNode\n",
    ") -> tuple[sp.Expr, dict[sp.Symbol, float]]:\n",
    "    assert isobar.interaction is not None, \"Need LS-couplings\"\n",
    "    inv_mass = _create_mass_symbol(isobar.parent)\n",
    "    outgoing_state_mass1 = _create_mass_symbol(isobar.child1)\n",
    "    outgoing_state_mass2 = _create_mass_symbol(isobar.child2)\n",
    "    meson_radius = _create_meson_radius_symbol(isobar.parent)\n",
    "    form_factor = formulate_form_factor(\n",
    "        s=inv_mass**2,\n",
    "        m_a=outgoing_state_mass1,\n",
    "        m_b=outgoing_state_mass2,\n",
    "        angular_momentum=isobar.interaction.L,\n",
    "        meson_radius=meson_radius,\n",
    "    )\n",
    "    parameter_defaults = {\n",
    "        meson_radius: 1,\n",
    "    }\n",
    "    return form_factor, parameter_defaults\n",
    "\n",
    "\n",
    "def _create_breit_wigner(\n",
    "    s: sp.Symbol, isobar: IsobarNode\n",
    ") -> tuple[sp.Expr, dict[sp.Symbol, float]]:\n",
    "    assert isobar.interaction is not None, \"Need LS-couplings\"\n",
    "    outgoing_state_mass1 = _create_mass_symbol(isobar.child1)\n",
    "    outgoing_state_mass2 = _create_mass_symbol(isobar.child2)\n",
    "    angular_momentum = isobar.interaction.L\n",
    "    res_mass = _create_mass_symbol(isobar.parent)\n",
    "    res_width = sp.Symbol(Rf\"\\Gamma_{{{isobar.parent.latex}}}\", nonnegative=True)\n",
    "    meson_radius = _create_meson_radius_symbol(isobar.parent)\n",
    "\n",
    "    mass_dependent_width = EnergyDependentWidth(\n",
    "        s=s,\n",
    "        mass0=res_mass,\n",
    "        gamma0=res_width,\n",
    "        m_a=outgoing_state_mass1,\n",
    "        m_b=outgoing_state_mass2,\n",
    "        angular_momentum=angular_momentum,\n",
    "        meson_radius=meson_radius,\n",
    "    )\n",
    "    breit_wigner_expr = (res_mass * res_width) / (\n",
    "        res_mass**2 - s - mass_dependent_width * res_mass * sp.I\n",
    "    )\n",
    "    parameter_defaults = {\n",
    "        res_mass: isobar.parent.mass,\n",
    "        res_width: isobar.parent.width,\n",
    "        meson_radius: 1,\n",
    "    }\n",
    "    return breit_wigner_expr, parameter_defaults\n",
    "\n",
    "\n",
    "def _create_meson_radius_symbol(isobar: IsobarNode) -> sp.Symbol:\n",
    "    if _get_particle(isobar) is Jpsi:\n",
    "        return sp.Symbol(R\"R_{J/\\psi}\")\n",
    "    return sp.Symbol(R\"R_\\mathrm{res}\")\n",
    "\n",
    "\n",
    "def _create_mass_symbol(particle: IsobarNode | Particle) -> sp.Symbol:\n",
    "    particle = _get_particle(particle)\n",
    "    state_id = PARTICLE_TO_ID.get(particle)\n",
    "    if state_id is not None:\n",
    "        return sp.Symbol(f\"m{state_id}\", nonnegative=True)\n",
    "    return sp.Symbol(f\"m_{{{particle.latex}}}\", nonnegative=True)\n",
    "\n",
    "\n",
    "def _get_mandelstam_s(decay: ThreeBodyDecayChain) -> sp.Symbol:\n",
    "    s1, s2, s3 = sp.symbols(\"sigma1:4\", nonnegative=True)\n",
    "    m1, m2, m3 = map(_create_mass_symbol, [K, Σ, pbar])\n",
    "    decay_masses = {_create_mass_symbol(p) for p in decay.decay_products}\n",
    "    if decay_masses == {m2, m3}:\n",
    "        return s1\n",
    "    if decay_masses == {m1, m3}:\n",
    "        return s2\n",
    "    if decay_masses == {m1, m2}:\n",
    "        return s3\n",
    "    raise NotImplementedError(\n",
    "        f\"Cannot find Mandelstam variable for {''.join(decay_masses)}\"\n",
    "    )"
   ]
  },
  {
   "cell_type": "markdown",
   "metadata": {},
   "source": [
    "## Model formulation"
   ]
  },
  {
   "cell_type": "code",
   "execution_count": null,
   "metadata": {
    "tags": [
     "full-width"
    ]
   },
   "outputs": [],
   "source": [
    "model_builder = DalitzPlotDecompositionBuilder(DECAY, min_ls=True)\n",
    "for chain in model_builder.decay.chains:\n",
    "    model_builder.dynamics_choices.register_builder(\n",
    "        chain, formulate_breit_wigner_with_ff\n",
    "    )\n",
    "model = model_builder.formulate(reference_subsystem=1)\n",
    "model.intensity"
   ]
  },
  {
   "cell_type": "code",
   "execution_count": null,
   "metadata": {
    "tags": [
     "hide-input",
     "full-width"
    ]
   },
   "outputs": [],
   "source": [
    "Latex(aslatex(model.amplitudes))"
   ]
  },
  {
   "cell_type": "markdown",
   "metadata": {},
   "source": [
    ":::{note}\n",
    "As opposed to {doc}`/lc2pkpi`, some amplitudes are zero. This is because we do not considered all three subsystems in this example.\n",
    ":::"
   ]
  }
 ],
 "metadata": {
  "kernelspec": {
   "display_name": "Python 3 (ipykernel)",
   "language": "python",
   "name": "python3"
  },
  "language_info": {
   "codemirror_mode": {
    "name": "ipython",
    "version": 3
   },
   "file_extension": ".py",
   "mimetype": "text/x-python",
   "name": "python",
   "nbconvert_exporter": "python",
   "pygments_lexer": "ipython3",
   "version": "3.8.13"
  }
 },
 "nbformat": 4,
 "nbformat_minor": 4
}

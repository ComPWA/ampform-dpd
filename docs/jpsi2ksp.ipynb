{
 "cells": [
  {
   "cell_type": "markdown",
   "metadata": {},
   "source": [
    "# J/ψ → K⁰Σ⁺p̅\n",
    "\n",
    "```{autolink-concat}\n",
    "```"
   ]
  },
  {
   "cell_type": "code",
   "execution_count": null,
   "metadata": {
    "jupyter": {
     "source_hidden": true
    },
    "tags": [
     "hide-cell",
     "scroll-input"
    ]
   },
   "outputs": [],
   "source": [
    "# pyright: reportPrivateUsage=false\n",
    "# pyright: reportUnusedExpression=false\n",
    "from __future__ import annotations\n",
    "\n",
    "import itertools\n",
    "import logging\n",
    "import os\n",
    "from typing import Iterable\n",
    "\n",
    "import jax.numpy as jnp\n",
    "import matplotlib.pyplot as plt\n",
    "import qrules\n",
    "import sympy as sp\n",
    "from ampform.dynamics import EnergyDependentWidth, formulate_form_factor\n",
    "from ampform.kinematics.phasespace import compute_third_mandelstam\n",
    "from ampform.sympy import (\n",
    "    UnevaluatedExpression,\n",
    "    create_expression,\n",
    "    implement_doit_method,\n",
    "    make_commutative,\n",
    ")\n",
    "from IPython.display import Latex, Markdown\n",
    "from tensorwaves.data.transform import SympyDataTransformer\n",
    "from tensorwaves.function.sympy import create_function\n",
    "\n",
    "from ampform_dpd import (\n",
    "    DalitzPlotDecompositionBuilder,\n",
    "    _get_particle,\n",
    "    simplify_latex_rendering,\n",
    ")\n",
    "from ampform_dpd.decay import (\n",
    "    IsobarNode,\n",
    "    Particle,\n",
    "    ThreeBodyDecay,\n",
    "    ThreeBodyDecayChain,\n",
    ")\n",
    "from ampform_dpd.io import as_markdown_table, aslatex, perform_cached_doit\n",
    "from ampform_dpd.spin import filter_parity_violating_ls, generate_ls_couplings\n",
    "\n",
    "simplify_latex_rendering()\n",
    "logging.getLogger(\"absl\").setLevel(logging.ERROR)  # mute JAX\n",
    "NO_TQDM = \"EXECUTE_NB\" in os.environ\n",
    "if NO_TQDM:\n",
    "    logging.getLogger(\"ampform_dpd.io\").setLevel(logging.ERROR)"
   ]
  },
  {
   "cell_type": "markdown",
   "metadata": {},
   "source": [
    "## Decay definition"
   ]
  },
  {
   "cell_type": "markdown",
   "metadata": {},
   "source": [
    "We follow [this example](https://qrules.readthedocs.io/en/0.9.7/usage.html#investigate-intermediate-resonances), which was generated with QRules, and leave out the $K$-resonances and the resonances that lie far outside of phase space:\n",
    "\n",
    "![](https://qrules.readthedocs.io/en/0.9.7/_images/usage_9_0.svg)\n",
    "\n",
    ":::{warning}\n",
    "In the above figure, the final states are labeled `0`, `1`, `2`, but in the DPD formalism, the final states are labeled `1`, `2`, `3`.\n",
    ":::"
   ]
  },
  {
   "cell_type": "code",
   "execution_count": null,
   "metadata": {
    "jupyter": {
     "source_hidden": true
    },
    "tags": [
     "hide-input"
    ]
   },
   "outputs": [],
   "source": [
    "PDG = qrules.load_pdg()\n",
    "PARTICLE_DB = {\n",
    "    p.name: Particle(\n",
    "        name=p.name,\n",
    "        latex=p.latex,\n",
    "        spin=p.spin,\n",
    "        parity=int(p.parity),\n",
    "        mass=p.mass,\n",
    "        width=p.width,\n",
    "    )\n",
    "    for p in PDG\n",
    "    if p.parity is not None\n",
    "}\n",
    "Jpsi = PARTICLE_DB[\"J/psi(1S)\"]\n",
    "K = PARTICLE_DB[\"K0\"]\n",
    "Σ = PARTICLE_DB[\"Sigma+\"]\n",
    "pbar = PARTICLE_DB[\"p~\"]\n",
    "PARTICLE_TO_ID = {Jpsi: 0, K: 1, Σ: 2, pbar: 3}\n",
    "Markdown(as_markdown_table(list(PARTICLE_TO_ID)))"
   ]
  },
  {
   "cell_type": "code",
   "execution_count": null,
   "metadata": {
    "jupyter": {
     "source_hidden": true
    },
    "tags": [
     "hide-input"
    ]
   },
   "outputs": [],
   "source": [
    "resonance_names = [\n",
    "    \"Sigma(1660)~-\",\n",
    "    \"Sigma(1670)~-\",\n",
    "    \"Sigma(1750)~-\",\n",
    "    \"Sigma(1775)~-\",\n",
    "    \"Sigma(1910)~-\",\n",
    "    \"N(1675)+\",\n",
    "    \"N(1700)+\",\n",
    "    \"N(1710)+\",\n",
    "    \"N(1720)+\",\n",
    "]\n",
    "resonances = [PARTICLE_DB[name] for name in resonance_names]\n",
    "Markdown(as_markdown_table(resonances))"
   ]
  },
  {
   "cell_type": "code",
   "execution_count": null,
   "metadata": {
    "jupyter": {
     "source_hidden": true
    },
    "tags": [
     "hide-input"
    ]
   },
   "outputs": [],
   "source": [
    "def load_three_body_decay(\n",
    "    resonance_names: Iterable[str],\n",
    "    particle_definitions: dict[str, Particle],\n",
    "    min_ls: bool = True,\n",
    ") -> ThreeBodyDecay:\n",
    "    resonances = [particle_definitions[name] for name in resonance_names]\n",
    "    chains: list[ThreeBodyDecayChain] = []\n",
    "    for res in resonances:\n",
    "        chains.extend(_create_isobar(res, min_ls))\n",
    "    return ThreeBodyDecay(\n",
    "        states={state_id: particle for particle, state_id in PARTICLE_TO_ID.items()},\n",
    "        chains=tuple(chains),\n",
    "    )\n",
    "\n",
    "\n",
    "def _create_isobar(resonance: Particle, min_ls: bool) -> list[ThreeBodyDecayChain]:\n",
    "    if resonance.name.startswith(\"Sigma\"):\n",
    "        child1, child2, spectator = pbar, K, Σ\n",
    "    elif resonance.name.startswith(\"N\"):\n",
    "        child1, child2, spectator = K, Σ, pbar\n",
    "    elif resonance.name.startswith(\"K\"):\n",
    "        child1, child2, spectator = Σ, pbar, K\n",
    "    else:\n",
    "        raise NotImplementedError\n",
    "    prod_ls_couplings = _generate_ls(\n",
    "        Jpsi, resonance, spectator, conserve_parity=False\n",
    "    )\n",
    "    dec_ls_couplings = _generate_ls(resonance, child1, child2, conserve_parity=True)\n",
    "    if min_ls:\n",
    "        decay = IsobarNode(\n",
    "            parent=Jpsi,\n",
    "            child1=IsobarNode(\n",
    "                parent=resonance,\n",
    "                child1=child1,\n",
    "                child2=child2,\n",
    "                interaction=min(dec_ls_couplings),\n",
    "            ),\n",
    "            child2=spectator,\n",
    "            interaction=min(prod_ls_couplings),\n",
    "        )\n",
    "        return [ThreeBodyDecayChain(decay)]\n",
    "    chains = []\n",
    "    for dec_ls, prod_ls in itertools.product(dec_ls_couplings, prod_ls_couplings):\n",
    "        decay = IsobarNode(\n",
    "            parent=Jpsi,\n",
    "            child1=IsobarNode(\n",
    "                parent=resonance,\n",
    "                child1=child1,\n",
    "                child2=child2,\n",
    "                interaction=dec_ls,\n",
    "            ),\n",
    "            child2=spectator,\n",
    "            interaction=prod_ls,\n",
    "        )\n",
    "        chains.append(ThreeBodyDecayChain(decay))\n",
    "    return chains\n",
    "\n",
    "\n",
    "def _generate_ls(\n",
    "    parent: Particle, child1: Particle, child2: Particle, conserve_parity: bool\n",
    ") -> list[tuple[int, sp.Rational]]:\n",
    "    ls = generate_ls_couplings(parent.spin, child1.spin, child2.spin)\n",
    "    if conserve_parity:\n",
    "        return filter_parity_violating_ls(\n",
    "            ls, parent.parity, child1.parity, child2.parity\n",
    "        )\n",
    "    return ls\n",
    "\n",
    "\n",
    "DECAY = load_three_body_decay(\n",
    "    resonance_names,\n",
    "    particle_definitions=PARTICLE_DB,\n",
    "    min_ls=True,\n",
    ")\n",
    "Latex(aslatex(DECAY, with_jp=True))"
   ]
  },
  {
   "cell_type": "markdown",
   "metadata": {},
   "source": [
    "## Lineshapes for dynamics"
   ]
  },
  {
   "cell_type": "markdown",
   "metadata": {},
   "source": [
    ":::{note}\n",
    "As opposed to [AmpForm](https://ampform.rtfd.io), AmpForm-DPD defines dynamics over the **entire decay chain**, not a single isobar node. The dynamics classes and the corresponding builders would have to be extended to implement other dynamics lineshapes.\n",
    ":::"
   ]
  },
  {
   "cell_type": "markdown",
   "metadata": {},
   "source": [
    "In the following, we define the **relativistic Breit-Wigner function** as:"
   ]
  },
  {
   "cell_type": "code",
   "execution_count": null,
   "metadata": {
    "jupyter": {
     "source_hidden": true
    },
    "tags": [
     "hide-input"
    ]
   },
   "outputs": [],
   "source": [
    "@make_commutative\n",
    "@implement_doit_method\n",
    "class RelativisticBreitWigner(UnevaluatedExpression):\n",
    "    def __new__(cls, s, mass0, gamma0, m1, m2, angular_momentum, meson_radius):\n",
    "        return create_expression(\n",
    "            cls, s, mass0, gamma0, m1, m2, angular_momentum, meson_radius\n",
    "        )\n",
    "\n",
    "    def evaluate(self):\n",
    "        s, m0, w0, m1, m2, angular_momentum, meson_radius = self.args\n",
    "        width = EnergyDependentWidth(\n",
    "            s=s,\n",
    "            mass0=m0,\n",
    "            gamma0=w0,\n",
    "            m_a=m1,\n",
    "            m_b=m2,\n",
    "            angular_momentum=angular_momentum,\n",
    "            meson_radius=meson_radius,\n",
    "            name=Rf\"\\Gamma_{{{sp.latex(angular_momentum)}}}\",\n",
    "        )\n",
    "        return (m0 * w0) / (m0**2 - s - width * m0 * sp.I)\n",
    "\n",
    "    def _latex(self, printer, *args) -> str:\n",
    "        s, m0, w0, _, _, L, *_ = map(printer._print, self.args)\n",
    "        return Rf\"\\mathcal{{R}}_{{{L}}}\\left({s}, {m0}, {w0}\\right)\"\n",
    "\n",
    "\n",
    "bw = RelativisticBreitWigner(*sp.symbols(\"s m0 Gamma0 m1 m2 L R\"))\n",
    "Latex(aslatex({bw: bw.doit(deep=False)}))"
   ]
  },
  {
   "cell_type": "markdown",
   "metadata": {},
   "source": [
    "with $\\Gamma_0(s)$ a {class}`~ampform.dynamics.EnergyDependentWidth`, and we define the **form factor** as:"
   ]
  },
  {
   "cell_type": "code",
   "execution_count": null,
   "metadata": {
    "jupyter": {
     "source_hidden": true
    },
    "tags": [
     "hide-input"
    ]
   },
   "outputs": [],
   "source": [
    "@make_commutative\n",
    "@implement_doit_method\n",
    "class FormFactor(UnevaluatedExpression):\n",
    "    def __new__(cls, s, m1, m2, angular_momentum, meson_radius):\n",
    "        return create_expression(cls, s, m1, m2, angular_momentum, meson_radius)\n",
    "\n",
    "    def evaluate(self):\n",
    "        s, m1, m2, angular_momentum, meson_radius = self.args\n",
    "        return formulate_form_factor(\n",
    "            s=s,\n",
    "            m_a=m1,\n",
    "            m_b=m2,\n",
    "            angular_momentum=angular_momentum,\n",
    "            meson_radius=meson_radius,\n",
    "        )\n",
    "\n",
    "    def _latex(self, printer, *args) -> str:\n",
    "        s, m1, m2, L, *_ = map(printer._print, self.args)\n",
    "        return Rf\"\\mathcal{{F}}_{{{L}}}\\left({s}, {m1}, {m1}\\right)\"\n",
    "\n",
    "\n",
    "ff = FormFactor(*sp.symbols(\"s m1 m2 L R\"))\n",
    "Latex(aslatex({ff: ff.doit(deep=False)}))"
   ]
  },
  {
   "cell_type": "markdown",
   "metadata": {},
   "source": [
    "Here, $B_L^2$ is a {class}`~ampform.dynamics.BlattWeisskopfSquared`."
   ]
  },
  {
   "cell_type": "code",
   "execution_count": null,
   "metadata": {
    "jupyter": {
     "source_hidden": true
    },
    "tags": [
     "hide-input",
     "scroll-input"
    ]
   },
   "outputs": [],
   "source": [
    "def formulate_breit_wigner_with_ff(\n",
    "    decay_chain: ThreeBodyDecayChain,\n",
    ") -> tuple[sp.Expr, dict[sp.Symbol, float]]:\n",
    "    production_node = decay_chain.decay\n",
    "    assert isinstance(\n",
    "        production_node.child1, IsobarNode\n",
    "    ), \"Not a 3-body isobar decay\"\n",
    "    decay_node = production_node.child1\n",
    "\n",
    "    s = _get_mandelstam_s(decay_chain)\n",
    "    parameter_defaults = {}\n",
    "    production_ff, new_pars = _create_form_factor(s, production_node)\n",
    "    parameter_defaults.update(new_pars)\n",
    "    decay_ff, new_pars = _create_form_factor(s, decay_node)\n",
    "    parameter_defaults.update(new_pars)\n",
    "    breit_wigner, new_pars = _create_breit_wigner(s, decay_node)\n",
    "    parameter_defaults.update(new_pars)\n",
    "    return (\n",
    "        production_ff * decay_ff * breit_wigner,\n",
    "        parameter_defaults,\n",
    "    )\n",
    "\n",
    "\n",
    "def _create_form_factor(\n",
    "    s: sp.Symbol, isobar: IsobarNode\n",
    ") -> tuple[sp.Expr, dict[sp.Symbol, float]]:\n",
    "    assert isobar.interaction is not None, \"Need LS-couplings\"\n",
    "    inv_mass = _create_mass_symbol(isobar.parent)\n",
    "    outgoing_state_mass1 = _create_mass_symbol(isobar.child1)\n",
    "    outgoing_state_mass2 = _create_mass_symbol(isobar.child2)\n",
    "    meson_radius = _create_meson_radius_symbol(isobar.parent)\n",
    "    form_factor = FormFactor(\n",
    "        s=inv_mass**2,\n",
    "        m1=outgoing_state_mass1,\n",
    "        m2=outgoing_state_mass2,\n",
    "        angular_momentum=isobar.interaction.L,\n",
    "        meson_radius=meson_radius,\n",
    "    )\n",
    "    parameter_defaults = {\n",
    "        meson_radius: 1,\n",
    "    }\n",
    "    return form_factor, parameter_defaults\n",
    "\n",
    "\n",
    "def _create_breit_wigner(\n",
    "    s: sp.Symbol, isobar: IsobarNode\n",
    ") -> tuple[sp.Expr, dict[sp.Symbol, float]]:\n",
    "    assert isobar.interaction is not None, \"Need LS-couplings\"\n",
    "    outgoing_state_mass1 = _create_mass_symbol(isobar.child1)\n",
    "    outgoing_state_mass2 = _create_mass_symbol(isobar.child2)\n",
    "    angular_momentum = isobar.interaction.L\n",
    "    res_mass = _create_mass_symbol(isobar.parent)\n",
    "    res_width = sp.Symbol(Rf\"\\Gamma_{{{isobar.parent.latex}}}\", nonnegative=True)\n",
    "    meson_radius = _create_meson_radius_symbol(isobar.parent)\n",
    "\n",
    "    breit_wigner_expr = RelativisticBreitWigner(\n",
    "        s=s,\n",
    "        mass0=res_mass,\n",
    "        gamma0=res_width,\n",
    "        m1=outgoing_state_mass1,\n",
    "        m2=outgoing_state_mass2,\n",
    "        angular_momentum=angular_momentum,\n",
    "        meson_radius=meson_radius,\n",
    "    )\n",
    "    parameter_defaults = {\n",
    "        res_mass: isobar.parent.mass,\n",
    "        res_width: isobar.parent.width,\n",
    "        meson_radius: 1,\n",
    "    }\n",
    "    return breit_wigner_expr, parameter_defaults\n",
    "\n",
    "\n",
    "def _create_meson_radius_symbol(isobar: IsobarNode) -> sp.Symbol:\n",
    "    if _get_particle(isobar) is Jpsi:\n",
    "        return sp.Symbol(R\"R_{J/\\psi}\")\n",
    "    return sp.Symbol(R\"R_\\mathrm{res}\")\n",
    "\n",
    "\n",
    "def _create_mass_symbol(particle: IsobarNode | Particle) -> sp.Symbol:\n",
    "    particle = _get_particle(particle)\n",
    "    state_id = PARTICLE_TO_ID.get(particle)\n",
    "    if state_id is not None:\n",
    "        return sp.Symbol(f\"m{state_id}\", nonnegative=True)\n",
    "    return sp.Symbol(f\"m_{{{particle.latex}}}\", nonnegative=True)\n",
    "\n",
    "\n",
    "def _get_mandelstam_s(decay: ThreeBodyDecayChain) -> sp.Symbol:\n",
    "    s1, s2, s3 = sp.symbols(\"sigma1:4\", nonnegative=True)\n",
    "    m1, m2, m3 = map(_create_mass_symbol, [K, Σ, pbar])\n",
    "    decay_masses = {_create_mass_symbol(p) for p in decay.decay_products}\n",
    "    if decay_masses == {m2, m3}:\n",
    "        return s1\n",
    "    if decay_masses == {m1, m3}:\n",
    "        return s2\n",
    "    if decay_masses == {m1, m2}:\n",
    "        return s3\n",
    "    raise NotImplementedError(\n",
    "        f\"Cannot find Mandelstam variable for {''.join(decay_masses)}\"\n",
    "    )"
   ]
  },
  {
   "cell_type": "markdown",
   "metadata": {},
   "source": [
    "## Model formulation"
   ]
  },
  {
   "cell_type": "markdown",
   "metadata": {},
   "source": [
    "The total, aligned intensity expression looks as follows:"
   ]
  },
  {
   "cell_type": "code",
   "execution_count": null,
   "metadata": {
    "tags": [
     "full-width"
    ]
   },
   "outputs": [],
   "source": [
    "model_builder = DalitzPlotDecompositionBuilder(DECAY, min_ls=True)\n",
    "for chain in model_builder.decay.chains:\n",
    "    model_builder.dynamics_choices.register_builder(\n",
    "        chain, formulate_breit_wigner_with_ff\n",
    "    )\n",
    "model = model_builder.formulate(reference_subsystem=1)\n",
    "model.intensity"
   ]
  },
  {
   "cell_type": "markdown",
   "metadata": {},
   "source": [
    "where the angles can be computed from initial and final state masses $m_0$, $m_1$, $m_2$, and $m_3$:"
   ]
  },
  {
   "cell_type": "code",
   "execution_count": null,
   "metadata": {
    "jupyter": {
     "source_hidden": true
    },
    "tags": [
     "hide-input"
    ]
   },
   "outputs": [],
   "source": [
    "Latex(aslatex(model.variables))"
   ]
  },
  {
   "cell_type": "code",
   "execution_count": null,
   "metadata": {
    "jupyter": {
     "source_hidden": true
    },
    "tags": [
     "hide-input"
    ]
   },
   "outputs": [],
   "source": [
    "masses = {\n",
    "    _create_mass_symbol(Jpsi): Jpsi.mass,\n",
    "    _create_mass_symbol(K): K.mass,\n",
    "    _create_mass_symbol(Σ): Σ.mass,\n",
    "    _create_mass_symbol(pbar): pbar.mass,\n",
    "}\n",
    "model.parameter_defaults.update(masses)\n",
    "Latex(aslatex(masses))"
   ]
  },
  {
   "cell_type": "markdown",
   "metadata": {},
   "source": [
    "Each **unaligned** amplitude is defined as follows:"
   ]
  },
  {
   "cell_type": "code",
   "execution_count": null,
   "metadata": {
    "jupyter": {
     "source_hidden": true
    },
    "tags": [
     "hide-input",
     "full-width",
     "hide-output"
    ]
   },
   "outputs": [],
   "source": [
    "Latex(aslatex(model.amplitudes))"
   ]
  },
  {
   "cell_type": "markdown",
   "metadata": {},
   "source": [
    "## Preparing for input data"
   ]
  },
  {
   "cell_type": "markdown",
   "metadata": {},
   "source": [
    "The {meth}`~sympy.core.basic.Basic.doit` operation can be cached to disk with {func}`.perform_cached_doit`. We do this twice, once for the unfolding of the {attr}`~.AmplitudeModel.intensity` expression and second for the substitution and unfolding of the {attr}`~.AmplitudeModel.amplitudes`. Note that we could also have unfolded the intensity and substituted the amplitudes with {attr}`~.AmplitudeModel.full_expression`, but then the unfolded {attr}`~.AmplitudeModel.intensity` expression is not cached."
   ]
  },
  {
   "cell_type": "code",
   "execution_count": null,
   "metadata": {},
   "outputs": [],
   "source": [
    "unfolded_intensity_expr = perform_cached_doit(model.intensity)\n",
    "full_intensity_expr = perform_cached_doit(\n",
    "    unfolded_intensity_expr.xreplace(model.amplitudes)\n",
    ")"
   ]
  },
  {
   "cell_type": "markdown",
   "metadata": {},
   "source": [
    "We set each helicity coupling to $1$, so that each each parameter {class}`~sympy.core.symbol.Symbol` in the expression has a definition:"
   ]
  },
  {
   "cell_type": "code",
   "execution_count": null,
   "metadata": {},
   "outputs": [],
   "source": [
    "couplings = {\n",
    "    s: 1\n",
    "    for s in full_intensity_expr.free_symbols\n",
    "    if \"production\" in str(s) or \"decay\" in str(s)\n",
    "}\n",
    "model.parameter_defaults.update(couplings)"
   ]
  },
  {
   "cell_type": "markdown",
   "metadata": {},
   "source": [
    "With this, the remaining {class}`~sympy.core.symbol.Symbol`s in the full expression are kinematic variables."
   ]
  },
  {
   "cell_type": "code",
   "execution_count": null,
   "metadata": {
    "jupyter": {
     "source_hidden": true
    },
    "tags": [
     "hide-input"
    ]
   },
   "outputs": [],
   "source": [
    "sp.Array(full_intensity_expr.free_symbols - set(model.parameter_defaults))"
   ]
  },
  {
   "cell_type": "markdown",
   "metadata": {},
   "source": [
    "The $\\theta$ and $\\zeta$ angles are defined by the {attr}`~.AmplitudeModel.variables` attribute (they are shown under {ref}`jpsi2ksp:Model formulation`). Those definitions allow us to create a converter that computes kinematic variables from masses and Mandelstam variables:"
   ]
  },
  {
   "cell_type": "code",
   "execution_count": null,
   "metadata": {
    "tags": [
     "hide-output"
    ]
   },
   "outputs": [],
   "source": [
    "masses_to_angles = SympyDataTransformer.from_sympy(model.variables, backend=\"jax\")\n",
    "masses_to_angles.functions"
   ]
  },
  {
   "cell_type": "markdown",
   "metadata": {},
   "source": [
    "## Dalitz plot"
   ]
  },
  {
   "cell_type": "markdown",
   "metadata": {},
   "source": [
    "The data input for this data transformer can be several things. One can compute them from a (generated) data sample of four-momenta. Or one can compute them for a Dalitz plane. We do the latter in this section.\n",
    "\n",
    "First, the data transformer defined above expects values for the masses. We have already defined these values above, but we need to convert them from {mod}`sympy` objects to numerical data:"
   ]
  },
  {
   "cell_type": "code",
   "execution_count": null,
   "metadata": {},
   "outputs": [],
   "source": [
    "dalitz_data = {str(s): float(v) for s, v in masses.items()}"
   ]
  },
  {
   "cell_type": "markdown",
   "metadata": {},
   "source": [
    "Next, we define a grid of data points over Mandelstam (Dalitz) variables $\\sigma_2=m_{13}, \\sigma_3=m_{12}$:"
   ]
  },
  {
   "cell_type": "code",
   "execution_count": null,
   "metadata": {},
   "outputs": [],
   "source": [
    "resolution = 500\n",
    "X, Y = jnp.meshgrid(\n",
    "    jnp.linspace(1.66**2, 2.18**2, num=resolution),\n",
    "    jnp.linspace(1.4**2, 1.93**2, num=resolution),\n",
    ")\n",
    "dalitz_data[\"sigma3\"] = X\n",
    "dalitz_data[\"sigma2\"] = Y"
   ]
  },
  {
   "cell_type": "markdown",
   "metadata": {},
   "source": [
    "The remaining Mandelstam variable can be expressed in terms of the others as follows:"
   ]
  },
  {
   "cell_type": "code",
   "execution_count": null,
   "metadata": {
    "jupyter": {
     "source_hidden": true
    },
    "tags": [
     "hide-input"
    ]
   },
   "outputs": [],
   "source": [
    "s1, s2, s3 = sp.symbols(\"sigma1:4\", nonnegative=True)\n",
    "m0, m1, m2, m3 = sorted(masses, key=str)\n",
    "s1_expr = compute_third_mandelstam(s3, s2, m0, m1, m2, m3)\n",
    "Latex(aslatex({s1: s1_expr}))"
   ]
  },
  {
   "cell_type": "markdown",
   "metadata": {},
   "source": [
    "That completes the data sample over which we want to evaluate the intensity model defined above:"
   ]
  },
  {
   "cell_type": "code",
   "execution_count": null,
   "metadata": {
    "tags": [
     "hide-output"
    ]
   },
   "outputs": [],
   "source": [
    "sigma1_func = create_function(s1_expr, backend=\"jax\")\n",
    "dalitz_data[\"sigma1\"] = sigma1_func(dalitz_data)\n",
    "dalitz_data"
   ]
  },
  {
   "cell_type": "markdown",
   "metadata": {},
   "source": [
    "We can now extend the sample with angle definitions so that we have a data sample over which the intensity can be evaluated."
   ]
  },
  {
   "cell_type": "code",
   "execution_count": null,
   "metadata": {},
   "outputs": [],
   "source": [
    "angle_data = masses_to_angles(dalitz_data)\n",
    "dalitz_data.update(angle_data)"
   ]
  },
  {
   "cell_type": "code",
   "execution_count": null,
   "metadata": {
    "tags": [
     "remove-input"
    ]
   },
   "outputs": [],
   "source": [
    "for k, v in dalitz_data.items():\n",
    "    assert not jnp.all(jnp.isnan(v)), f\"All values for {k} are NaN\""
   ]
  },
  {
   "cell_type": "code",
   "execution_count": null,
   "metadata": {},
   "outputs": [],
   "source": [
    "intensity_func = create_function(\n",
    "    full_intensity_expr.xreplace(model.parameter_defaults),\n",
    "    backend=\"jax\",\n",
    ")"
   ]
  },
  {
   "cell_type": "code",
   "execution_count": null,
   "metadata": {
    "tags": [
     "remove-input"
    ]
   },
   "outputs": [],
   "source": [
    "%config InlineBackend.figure_formats = ['png']"
   ]
  },
  {
   "cell_type": "code",
   "execution_count": null,
   "metadata": {
    "jupyter": {
     "source_hidden": true
    },
    "tags": [
     "hide-input"
    ]
   },
   "outputs": [],
   "source": [
    "plt.rc(\"font\", size=18)\n",
    "intensities = intensity_func(dalitz_data)\n",
    "normalized_intensities = intensities / jnp.nansum(intensities)\n",
    "\n",
    "fig, ax = plt.subplots(figsize=(14, 10))\n",
    "mesh = ax.pcolormesh(X, Y, normalized_intensities)\n",
    "ax.set_aspect(\"equal\")\n",
    "c_bar = plt.colorbar(mesh, ax=ax, pad=0.01)\n",
    "c_bar.ax.set_ylabel(\"Normalized intensity (a.u.)\")\n",
    "ax.set_xlabel(R\"$\\sigma_3 = M^2\\left(K^0\\Sigma^+\\right)$\")\n",
    "ax.set_ylabel(R\"$\\sigma_2 = M^2\\left(K^0\\bar{p}\\right)$\")\n",
    "plt.show()"
   ]
  },
  {
   "cell_type": "code",
   "execution_count": null,
   "metadata": {
    "tags": [
     "remove-input"
    ]
   },
   "outputs": [],
   "source": [
    "%config InlineBackend.figure_formats = ['svg']"
   ]
  },
  {
   "cell_type": "code",
   "execution_count": null,
   "metadata": {
    "jupyter": {
     "source_hidden": true
    },
    "tags": [
     "hide-input",
     "full-width",
     "scroll-input"
    ]
   },
   "outputs": [],
   "source": [
    "plt.rc(\"font\", size=16)\n",
    "fig, axes = plt.subplots(figsize=(18, 6), ncols=2, sharey=True)\n",
    "fig.subplots_adjust(wspace=0.02)\n",
    "ax1, ax2 = axes\n",
    "ax1.fill_between(jnp.sqrt(X[0]), jnp.nansum(normalized_intensities, axis=0))\n",
    "ax2.fill_between(jnp.sqrt(Y[:, 0]), jnp.nansum(normalized_intensities, axis=1))\n",
    "for ax in axes:\n",
    "    _, y_max = ax.get_ylim()\n",
    "    ax.set_ylim(0, y_max)\n",
    "    ax.autoscale(enable=False, axis=\"x\")\n",
    "ax1.set_ylabel(\"Normalized intensity (a.u.)\")\n",
    "ax1.set_xlabel(R\"$M\\left(K^0\\Sigma^+\\right)$\")\n",
    "ax2.set_xlabel(R\"$M\\left(K^0\\bar{p}\\right)$\")\n",
    "i1, i2 = 0, 0\n",
    "for chain in model.decay.chains:\n",
    "    resonance = chain.resonance\n",
    "    decay_product = set(chain.decay_products)\n",
    "    if decay_product == {K, Σ}:\n",
    "        ax = ax1\n",
    "        i1 += 1\n",
    "        i = i1\n",
    "    elif decay_product == {K, pbar}:\n",
    "        ax = ax2\n",
    "        i2 += 1\n",
    "        i = i2\n",
    "    else:\n",
    "        continue\n",
    "    ax.axvline(resonance.mass, label=f\"${resonance.latex}$\", c=f\"C{i}\", ls=\"dashed\")\n",
    "for ax in axes:\n",
    "    ax.legend(fontsize=12)\n",
    "plt.show()"
   ]
  }
 ],
 "metadata": {
  "kernelspec": {
   "display_name": "Python 3 (ipykernel)",
   "language": "python",
   "name": "python3"
  },
  "language_info": {
   "codemirror_mode": {
    "name": "ipython",
    "version": 3
   },
   "file_extension": ".py",
   "mimetype": "text/x-python",
   "name": "python",
   "nbconvert_exporter": "python",
   "pygments_lexer": "ipython3",
   "version": "3.8.13"
  }
 },
 "nbformat": 4,
 "nbformat_minor": 4
}

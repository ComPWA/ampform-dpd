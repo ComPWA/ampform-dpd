{
 "cells": [
  {
   "cell_type": "markdown",
   "metadata": {
    "tags": []
   },
   "source": [
    "# Model serialization"
   ]
  },
  {
   "cell_type": "markdown",
   "metadata": {},
   "source": [
    "This notebooks illustrates the use of the {mod}`ampform_dpd.io.serialization` module, which can be used to build amplitude models from the [amplitude-serialization](https://rub-ep1.github.io/amplitude-serialization) initiative.\n",
    "\n",
    ":::{warning}\n",
    "The {mode}`ampform_dpd.io.serialization` module is a preview feature.\n",
    ":::"
   ]
  },
  {
   "cell_type": "markdown",
   "metadata": {
    "tags": []
   },
   "source": [
    "## Import model"
   ]
  },
  {
   "cell_type": "code",
   "execution_count": null,
   "metadata": {
    "jupyter": {
     "source_hidden": true
    },
    "tags": [
     "hide-input",
     "scroll-input"
    ]
   },
   "outputs": [],
   "source": [
    "from __future__ import annotations\n",
    "\n",
    "import json\n",
    "import logging\n",
    "import os\n",
    "\n",
    "import jax.numpy as jnp\n",
    "import matplotlib.pyplot as plt\n",
    "import pandas as pd\n",
    "import sympy as sp\n",
    "from ampform.dynamics import BlattWeisskopfSquared\n",
    "from ampform.dynamics.phasespace import BreakupMomentumSquared\n",
    "from ampform.kinematics.phasespace import Kallen\n",
    "from ampform.sympy import perform_cached_doit\n",
    "from IPython.display import JSON, Math\n",
    "from tqdm.auto import tqdm\n",
    "\n",
    "from ampform_dpd import DefinedExpression\n",
    "from ampform_dpd.decay import FinalStateID, State, ThreeBodyDecay\n",
    "from ampform_dpd.dynamics import (\n",
    "    BreitWigner,\n",
    "    BuggBreitWigner,\n",
    "    ChannelArguments,\n",
    "    EnergyDependentWidth,\n",
    "    FormFactor,\n",
    "    MultichannelBreitWigner,\n",
    "    P,\n",
    "    SimpleBreitWigner,\n",
    ")\n",
    "from ampform_dpd.io import aslatex, perform_cached_lambdify, simplify_latex_rendering\n",
    "from ampform_dpd.io.serialization.amplitude import (\n",
    "    HelicityRecoupling,\n",
    "    LSRecoupling,\n",
    "    ParityRecoupling,\n",
    "    formulate,\n",
    "    formulate_aligned_amplitude,\n",
    "    formulate_chain_amplitude,\n",
    "    formulate_recoupling,\n",
    ")\n",
    "from ampform_dpd.io.serialization.decay import get_final_state, to_decay\n",
    "from ampform_dpd.io.serialization.dynamics import (\n",
    "    formulate_breit_wigner,\n",
    "    formulate_dynamics,\n",
    "    formulate_form_factor,\n",
    "    formulate_multichannel_breit_wigner,\n",
    "    to_mandelstam_symbol,\n",
    "    to_mass_symbol,\n",
    ")\n",
    "from ampform_dpd.io.serialization.format import (\n",
    "    ModelDefinition,\n",
    "    Propagator,\n",
    "    get_decay_chains,\n",
    "    get_function_definition,\n",
    ")\n",
    "\n",
    "logging.getLogger(\"ampform.sympy\").setLevel(logging.ERROR)\n",
    "simplify_latex_rendering()"
   ]
  },
  {
   "cell_type": "code",
   "execution_count": null,
   "metadata": {
    "tags": []
   },
   "outputs": [],
   "source": [
    "with open(\"Lc2ppiK.json\") as stream:\n",
    "    MODEL_DEFINITION = json.load(stream)"
   ]
  },
  {
   "cell_type": "code",
   "execution_count": null,
   "metadata": {
    "tags": [
     "remove-cell"
    ]
   },
   "outputs": [],
   "source": [
    "JSON(MODEL_DEFINITION)"
   ]
  },
  {
   "cell_type": "markdown",
   "metadata": {
    "jp-MarkdownHeadingCollapsed": true,
    "tags": []
   },
   "source": [
    "## Construct `ThreeBodyDecay`"
   ]
  },
  {
   "cell_type": "code",
   "execution_count": null,
   "metadata": {
    "jupyter": {
     "source_hidden": true
    },
    "mystnb": {
     "code_prompt_show": "Name-to-LaTeX converter"
    },
    "tags": [
     "hide-input"
    ]
   },
   "outputs": [],
   "source": [
    "def to_latex(name: str) -> str:\n",
    "    latex = {\n",
    "        \"Lc\": R\"\\Lambda_c^+\",\n",
    "        \"pi\": R\"\\pi^+\",\n",
    "        \"K\": \"K^-\",\n",
    "        \"p\": \"p\",\n",
    "    }.get(name)\n",
    "    if latex is not None:\n",
    "        return latex\n",
    "    mass_str = name[1:].strip(\"(\").strip(\")\")\n",
    "    subsystem_letter = name[0]\n",
    "    subsystem = {\"D\": \"D\", \"K\": \"K\", \"L\": R\"\\Lambda\"}.get(subsystem_letter)\n",
    "    if subsystem is None:\n",
    "        return name\n",
    "    return f\"{subsystem}({mass_str})\""
   ]
  },
  {
   "cell_type": "code",
   "execution_count": null,
   "metadata": {
    "tags": []
   },
   "outputs": [],
   "source": [
    "DECAY = to_decay(MODEL_DEFINITION, to_latex=to_latex)\n",
    "Math(aslatex(DECAY, with_jp=True))"
   ]
  },
  {
   "cell_type": "markdown",
   "metadata": {
    "tags": []
   },
   "source": [
    "## Dynamics"
   ]
  },
  {
   "cell_type": "markdown",
   "metadata": {
    "tags": []
   },
   "source": [
    ":::{seealso} [RUB-EP1/amplitude-serialization#22](https://github.com/RUB-EP1/amplitude-serialization/issues/22)\n",
    ":::"
   ]
  },
  {
   "cell_type": "code",
   "execution_count": null,
   "metadata": {
    "tags": []
   },
   "outputs": [],
   "source": [
    "CHAIN_DEFS = get_decay_chains(MODEL_DEFINITION)"
   ]
  },
  {
   "cell_type": "markdown",
   "metadata": {},
   "source": [
    "### Vertices"
   ]
  },
  {
   "cell_type": "markdown",
   "metadata": {
    "tags": []
   },
   "source": [
    "#### Blatt-Weisskopf form factor"
   ]
  },
  {
   "cell_type": "code",
   "execution_count": null,
   "metadata": {
    "jupyter": {
     "source_hidden": true
    },
    "tags": [
     "hide-input",
     "full-width"
    ]
   },
   "outputs": [],
   "source": [
    "z = sp.Symbol(\"z\", nonnegative=True)\n",
    "s, m1, m2, L, d = sp.symbols(\"s m1 m2 L R\", nonnegative=True)\n",
    "exprs = [\n",
    "    FormFactor(s, m1, m2, L, d),\n",
    "    BlattWeisskopfSquared(z, L),\n",
    "    BreakupMomentumSquared(s, m1, m2),\n",
    "]\n",
    "Math(aslatex({e: e.doit(deep=False) for e in exprs}))"
   ]
  },
  {
   "cell_type": "code",
   "execution_count": null,
   "metadata": {
    "tags": []
   },
   "outputs": [],
   "source": [
    "ff_L1520 = formulate_form_factor(\n",
    "    vertex=CHAIN_DEFS[2][\"vertices\"][0],\n",
    "    model=MODEL_DEFINITION,\n",
    ")\n",
    "Math(aslatex(ff_L1520))"
   ]
  },
  {
   "cell_type": "markdown",
   "metadata": {
    "tags": []
   },
   "source": [
    "### Propagators"
   ]
  },
  {
   "cell_type": "markdown",
   "metadata": {
    "tags": []
   },
   "source": [
    "#### Breit-Wigner"
   ]
  },
  {
   "cell_type": "code",
   "execution_count": null,
   "metadata": {
    "jupyter": {
     "source_hidden": true
    },
    "tags": [
     "hide-input"
    ]
   },
   "outputs": [],
   "source": [
    "x, y, z = sp.symbols(\"x:z\")\n",
    "s, m0, Γ0, m1, m2, L, d = sp.symbols(\"s m0 Gamma0 m1 m2 L R\", nonnegative=True)\n",
    "exprs = [\n",
    "    BreitWigner(s, m0, Γ0, m1, m2, L, d),\n",
    "    SimpleBreitWigner(s, m0, Γ0),\n",
    "    EnergyDependentWidth(s, m0, Γ0, m1, m2, L, d),\n",
    "    FormFactor(s, m1, m2, L, d),\n",
    "    P(s, m1, m2),\n",
    "    Kallen(x, y, z),\n",
    "]\n",
    "Math(aslatex({e: e.doit(deep=False) for e in exprs}))"
   ]
  },
  {
   "cell_type": "code",
   "execution_count": null,
   "metadata": {
    "tags": []
   },
   "outputs": [],
   "source": [
    "K892_BW = formulate_breit_wigner(\n",
    "    propagator=CHAIN_DEFS[20][\"propagators\"][0],\n",
    "    resonance=to_latex(CHAIN_DEFS[20][\"name\"]),\n",
    "    model=MODEL_DEFINITION,\n",
    ")\n",
    "Math(aslatex(K892_BW))"
   ]
  },
  {
   "cell_type": "markdown",
   "metadata": {
    "tags": []
   },
   "source": [
    "#### Multi-channel Breit-Wigner"
   ]
  },
  {
   "cell_type": "code",
   "execution_count": null,
   "metadata": {
    "jupyter": {
     "source_hidden": true
    },
    "tags": [
     "hide-input"
    ]
   },
   "outputs": [],
   "source": [
    "x, y, z = sp.symbols(\"x:z\")\n",
    "s, m0, Γ0, m1, m2, L, d = sp.symbols(\"s m0 Gamma0 m1 m2 L R\", nonnegative=True)\n",
    "channels = tuple(\n",
    "    ChannelArguments(\n",
    "        s,\n",
    "        m0,\n",
    "        width=sp.Symbol(f\"Gamma{i}\", nonnegative=True),\n",
    "        m1=sp.Symbol(f\"m_{{a,{i}}}\", nonnegative=True),\n",
    "        m2=sp.Symbol(f\"m_{{b,{i}}}\", nonnegative=True),\n",
    "        angular_momentum=sp.Symbol(f\"L{i}\", integer=True, nonnegative=True),\n",
    "        meson_radius=d,\n",
    "    )\n",
    "    for i in [1, 2]\n",
    ")\n",
    "exprs = [\n",
    "    MultichannelBreitWigner(s, m0, channels),\n",
    "    BreitWigner(s, m0, Γ0, m1, m2, L, d),\n",
    "    BreitWigner(s, m0, Γ0),\n",
    "    EnergyDependentWidth(s, m0, Γ0, m1, m2, L, d),\n",
    "    FormFactor(s, m1, m2, L, d),\n",
    "    P(s, m1, m2),\n",
    "    Kallen(x, y, z),\n",
    "]\n",
    "Math(aslatex({e: e.doit(deep=False) for e in exprs}))"
   ]
  },
  {
   "cell_type": "code",
   "execution_count": null,
   "metadata": {
    "tags": [
     "full-width"
    ]
   },
   "outputs": [],
   "source": [
    "L1405_Flatte = formulate_multichannel_breit_wigner(\n",
    "    propagator=CHAIN_DEFS[0][\"propagators\"][0],\n",
    "    resonance=to_latex(CHAIN_DEFS[0][\"name\"]),\n",
    "    model=MODEL_DEFINITION,\n",
    ")\n",
    "Math(aslatex(L1405_Flatte))"
   ]
  },
  {
   "cell_type": "markdown",
   "metadata": {
    "tags": []
   },
   "source": [
    "#### Breit-Wigner with exponential"
   ]
  },
  {
   "cell_type": "markdown",
   "metadata": {},
   "source": [
    "The model contains one lineshape function that is not standard, so we have to implement a custom propagator dynamics builder for this."
   ]
  },
  {
   "cell_type": "code",
   "execution_count": null,
   "metadata": {
    "jupyter": {
     "source_hidden": true
    },
    "tags": [
     "hide-input"
    ]
   },
   "outputs": [],
   "source": [
    "s, m0, Γ0, m1, m2, γ = sp.symbols(\"s m0 Gamma0 m1 m2 gamma\", nonnegative=True)\n",
    "expr = BuggBreitWigner(s, m0, Γ0, m1, m2, γ)\n",
    "Math(aslatex({expr: expr.doit(deep=False)}))"
   ]
  },
  {
   "cell_type": "code",
   "execution_count": null,
   "metadata": {},
   "outputs": [],
   "source": [
    "CHAIN_DEFS[18]"
   ]
  },
  {
   "cell_type": "code",
   "execution_count": null,
   "metadata": {
    "tags": []
   },
   "outputs": [],
   "source": [
    "get_function_definition(\"K700_BuggBW\", MODEL_DEFINITION)"
   ]
  },
  {
   "cell_type": "code",
   "execution_count": null,
   "metadata": {},
   "outputs": [],
   "source": [
    "def formulate_bugg_breit_wigner(\n",
    "    propagator: Propagator, resonance: str, model: ModelDefinition\n",
    ") -> DefinedExpression:\n",
    "    function_definition = get_function_definition(propagator[\"parametrization\"], model)\n",
    "    node = propagator[\"node\"]\n",
    "    i, j = node\n",
    "    s = to_mandelstam_symbol(node)\n",
    "    mass = sp.Symbol(f\"m_{{{resonance}}}\", nonnegative=True)\n",
    "    width = sp.Symbol(Rf\"\\Gamma_{{{resonance}}}\", nonnegative=True)\n",
    "    γ = sp.Symbol(Rf\"\\gamma_{{{resonance}}}\", nonnegative=True)\n",
    "    m1 = to_mass_symbol(i)\n",
    "    m2 = to_mass_symbol(j)\n",
    "    final_state = get_final_state(model)\n",
    "    return DefinedExpression(\n",
    "        expression=BuggBreitWigner(s, mass, width, m1, m2, γ),\n",
    "        definitions={\n",
    "            mass: function_definition[\"mass\"],\n",
    "            width: function_definition[\"width\"],\n",
    "            m1: final_state[i].mass,\n",
    "            m2: final_state[j].mass,\n",
    "            γ: function_definition[\"slope\"],\n",
    "        },\n",
    "    )"
   ]
  },
  {
   "cell_type": "code",
   "execution_count": null,
   "metadata": {
    "tags": []
   },
   "outputs": [],
   "source": [
    "CHAIN_18 = CHAIN_DEFS[18]\n",
    "K700_BuggBW = formulate_bugg_breit_wigner(\n",
    "    propagator=CHAIN_18[\"propagators\"][0],\n",
    "    resonance=to_latex(CHAIN_18[\"name\"]),\n",
    "    model=MODEL_DEFINITION,\n",
    ")\n",
    "Math(aslatex(K700_BuggBW))"
   ]
  },
  {
   "cell_type": "markdown",
   "metadata": {},
   "source": [
    "#### General propagator dynamics builder"
   ]
  },
  {
   "cell_type": "code",
   "execution_count": null,
   "metadata": {
    "tags": []
   },
   "outputs": [],
   "source": [
    "DYNAMICS_BUILDERS = {\n",
    "    \"BreitWignerWidthExpLikeBugg\": formulate_bugg_breit_wigner,\n",
    "}"
   ]
  },
  {
   "cell_type": "code",
   "execution_count": null,
   "metadata": {
    "jupyter": {
     "source_hidden": true
    },
    "tags": [
     "hide-input",
     "full-width"
    ]
   },
   "outputs": [],
   "source": [
    "exprs = [\n",
    "    formulate_dynamics(CHAIN_DEFS[0], MODEL_DEFINITION, to_latex, DYNAMICS_BUILDERS),\n",
    "    formulate_dynamics(CHAIN_DEFS[18], MODEL_DEFINITION, to_latex, DYNAMICS_BUILDERS),\n",
    "    formulate_dynamics(CHAIN_DEFS[20], MODEL_DEFINITION, to_latex, DYNAMICS_BUILDERS),\n",
    "]\n",
    "Math(aslatex(exprs))"
   ]
  },
  {
   "cell_type": "markdown",
   "metadata": {
    "tags": []
   },
   "source": [
    "## Construct `AmplitudeModel`"
   ]
  },
  {
   "cell_type": "markdown",
   "metadata": {},
   "source": [
    "### Unpolarized intensity"
   ]
  },
  {
   "cell_type": "code",
   "execution_count": null,
   "metadata": {
    "tags": [
     "full-width"
    ]
   },
   "outputs": [],
   "source": [
    "λ0, λ1, λ2, λ3 = sp.symbols(\"lambda(:4)\", rational=True)\n",
    "amplitude_expr, _ = formulate_aligned_amplitude(MODEL_DEFINITION, λ0, λ1, λ2, λ3)\n",
    "amplitude_expr.cleanup()"
   ]
  },
  {
   "cell_type": "markdown",
   "metadata": {},
   "source": [
    "### Amplitude for the decay chain"
   ]
  },
  {
   "cell_type": "markdown",
   "metadata": {},
   "source": [
    "#### Helicity recouplings"
   ]
  },
  {
   "cell_type": "code",
   "execution_count": null,
   "metadata": {
    "jupyter": {
     "source_hidden": true
    },
    "tags": [
     "hide-input"
    ]
   },
   "outputs": [],
   "source": [
    "λa = sp.Symbol(R\"\\lambda_a\", rational=True)\n",
    "λb = sp.Symbol(R\"\\lambda_b\", rational=True)\n",
    "λa0 = sp.Symbol(R\"\\lambda_a^0\", rational=True)\n",
    "λb0 = sp.Symbol(R\"\\lambda_b^0\", rational=True)\n",
    "f = sp.Symbol(\"f\", integer=True)\n",
    "l = sp.Symbol(\"l\", integer=True, nonnegative=True)\n",
    "s = sp.Symbol(\"s\", nonnegative=True, rational=True)\n",
    "ja = sp.Symbol(\"j_a\", nonnegative=True, rational=True)\n",
    "jb = sp.Symbol(\"j_b\", nonnegative=True, rational=True)\n",
    "j = sp.Symbol(\"j\", nonnegative=True, rational=True)\n",
    "exprs = [\n",
    "    HelicityRecoupling(λa, λb, λa0, λb0),\n",
    "    ParityRecoupling(λa, λb, λa0, λb0, f),\n",
    "    LSRecoupling(λa, λb, l, s, ja, jb, j),\n",
    "]\n",
    "Math(aslatex({e: e.doit(deep=False) for e in exprs}))"
   ]
  },
  {
   "cell_type": "markdown",
   "metadata": {},
   "source": [
    "#### Recoupling deserialization"
   ]
  },
  {
   "cell_type": "code",
   "execution_count": null,
   "metadata": {
    "tags": [
     "hide-input"
    ]
   },
   "outputs": [],
   "source": [
    "recouplings = [\n",
    "    formulate_recoupling(MODEL_DEFINITION, chain_idx=0, vertex_idx=i) for i in range(2)\n",
    "]\n",
    "Math(aslatex({e: e.doit(deep=False) for e in recouplings}))"
   ]
  },
  {
   "cell_type": "markdown",
   "metadata": {},
   "source": [
    "#### Chain amplitudes"
   ]
  },
  {
   "cell_type": "code",
   "execution_count": null,
   "metadata": {
    "tags": [
     "full-width"
    ]
   },
   "outputs": [],
   "source": [
    "definitions = formulate_chain_amplitude(λ0, λ1, λ2, λ3, MODEL_DEFINITION, chain_idx=0)\n",
    "Math(aslatex(definitions))"
   ]
  },
  {
   "cell_type": "markdown",
   "metadata": {},
   "source": [
    "### Full amplitude model"
   ]
  },
  {
   "cell_type": "code",
   "execution_count": null,
   "metadata": {
    "jupyter": {
     "source_hidden": true
    },
    "tags": [
     "full-width"
    ]
   },
   "outputs": [],
   "source": [
    "MODEL = formulate(\n",
    "    MODEL_DEFINITION,\n",
    "    additional_builders=DYNAMICS_BUILDERS,\n",
    "    cleanup_summations=True,\n",
    "    to_latex=to_latex,\n",
    ")\n",
    "MODEL.intensity"
   ]
  },
  {
   "cell_type": "code",
   "execution_count": null,
   "metadata": {
    "jupyter": {
     "source_hidden": true
    },
    "tags": [
     "hide-input",
     "full-width",
     "scroll-output"
    ]
   },
   "outputs": [],
   "source": [
    "if \"EXECUTE_NB\" in os.environ:\n",
    "    selected_amplitudes = MODEL.amplitudes\n",
    "else:\n",
    "    selected_amplitudes = {\n",
    "        k: v for i, (k, v) in enumerate(MODEL.amplitudes.items()) if i < 2\n",
    "    }\n",
    "Math(aslatex(selected_amplitudes, terms_per_line=1))"
   ]
  },
  {
   "cell_type": "code",
   "execution_count": null,
   "metadata": {
    "tags": [
     "hide-input"
    ]
   },
   "outputs": [],
   "source": [
    "Math(aslatex(MODEL.variables))"
   ]
  },
  {
   "cell_type": "code",
   "execution_count": null,
   "metadata": {
    "tags": [
     "hide-input"
    ]
   },
   "outputs": [],
   "source": [
    "Math(aslatex({**MODEL.invariants, **MODEL.masses}))"
   ]
  },
  {
   "cell_type": "markdown",
   "metadata": {
    "tags": []
   },
   "source": [
    "## Numeric results"
   ]
  },
  {
   "cell_type": "code",
   "execution_count": null,
   "metadata": {
    "tags": []
   },
   "outputs": [],
   "source": [
    "intensity_expr = MODEL.full_expression.xreplace(MODEL.variables)\n",
    "intensity_expr = intensity_expr.xreplace(MODEL.parameter_defaults)"
   ]
  },
  {
   "cell_type": "code",
   "execution_count": null,
   "metadata": {
    "jupyter": {
     "source_hidden": true
    },
    "tags": [
     "remove-input"
    ]
   },
   "outputs": [],
   "source": [
    "free_symbols = intensity_expr.free_symbols\n",
    "assert len(free_symbols) == 3\n",
    "assert str(sorted(free_symbols, key=str)) == \"[sigma1, sigma2, sigma3]\""
   ]
  },
  {
   "cell_type": "code",
   "execution_count": null,
   "metadata": {
    "mystnb": {
     "code_prompt_show": "Lambdify to numeric function"
    },
    "tags": [
     "hide-input"
    ]
   },
   "outputs": [],
   "source": [
    "intensity_funcs = {}\n",
    "for s, s_expr in tqdm(MODEL.invariants.items()):\n",
    "    k = int(str(s)[-1])\n",
    "    s_expr = s_expr.xreplace(MODEL.masses).doit()\n",
    "    expr = perform_cached_doit(intensity_expr.xreplace({s: s_expr}))\n",
    "    func = perform_cached_lambdify(expr, backend=\"jax\")\n",
    "    assert len(func.argument_order) == 2, func.argument_order\n",
    "    intensity_funcs[k] = func"
   ]
  },
  {
   "cell_type": "markdown",
   "metadata": {
    "tags": []
   },
   "source": [
    "### Validation"
   ]
  },
  {
   "cell_type": "markdown",
   "metadata": {
    "tags": []
   },
   "source": [
    ":::{error}\n",
    "The following serves as a numerical check on whether the amplitude model has been deserialized correctly. For now, this is not the case, see [ComPWA/ampform-dpd#133](https://github.com/ComPWA/ampform-dpd/issues/133) for updates.\n",
    ":::"
   ]
  },
  {
   "cell_type": "code",
   "execution_count": null,
   "metadata": {
    "tags": []
   },
   "outputs": [],
   "source": [
    "checksums = {\n",
    "    misc_key: {checksum[\"name\"]: checksum[\"value\"] for checksum in misc_value}\n",
    "    for misc_key, misc_value in MODEL_DEFINITION[\"misc\"].items()\n",
    "    if \"checksum\" in misc_key\n",
    "}\n",
    "checksums"
   ]
  },
  {
   "cell_type": "code",
   "execution_count": null,
   "metadata": {
    "tags": []
   },
   "outputs": [],
   "source": [
    "checksum_points = {\n",
    "    point[\"name\"]: {par[\"name\"]: par[\"value\"] for par in point[\"parameters\"]}\n",
    "    for point in MODEL_DEFINITION[\"parameter_points\"]\n",
    "}\n",
    "checksum_points"
   ]
  },
  {
   "cell_type": "code",
   "execution_count": null,
   "metadata": {
    "jupyter": {
     "source_hidden": true
    },
    "tags": [
     "hide-input"
    ]
   },
   "outputs": [],
   "source": [
    "array = []\n",
    "for distribution_name, checksum in checksums.items():\n",
    "    for point_name, expected in checksum.items():\n",
    "        parameters = checksum_points[point_name]\n",
    "        s1 = parameters[\"m_31_2\"] ** 2\n",
    "        s2 = parameters[\"m_31\"] ** 2\n",
    "        computed = intensity_funcs[3]({\"sigma1\": s1, \"sigma2\": s2})\n",
    "        status = \"🟢\" if computed == expected else \"🔴\"\n",
    "        array.append((distribution_name, point_name, computed, expected, status))\n",
    "pd.DataFrame(array, columns=[\"Distribution\", \"Point\", \"Computed\", \"Expected\", \"Status\"])"
   ]
  },
  {
   "cell_type": "markdown",
   "metadata": {
    "tags": []
   },
   "source": [
    "### Dalitz plot"
   ]
  },
  {
   "cell_type": "code",
   "execution_count": null,
   "metadata": {
    "tags": [
     "hide-input"
    ]
   },
   "outputs": [],
   "source": [
    "i, j = (2, 1)\n",
    "k, *_ = {1, 2, 3} - {i, j}\n",
    "σk, σk_expr = list(MODEL.invariants.items())[k - 1]\n",
    "Math(aslatex({σk: σk_expr}))"
   ]
  },
  {
   "cell_type": "code",
   "execution_count": null,
   "metadata": {
    "jupyter": {
     "source_hidden": true
    },
    "mystnb": {
     "code_prompt_show": "Define meshgrid for Dalitz plot"
    },
    "tags": [
     "hide-input",
     "remove-output"
    ]
   },
   "outputs": [],
   "source": [
    "resolution = 1_000\n",
    "m = sorted(MODEL.masses, key=str)\n",
    "x_min = float(((m[j] + m[k]) ** 2).xreplace(MODEL.masses))\n",
    "x_max = float(((m[0] - m[i]) ** 2).xreplace(MODEL.masses))\n",
    "y_min = float(((m[i] + m[k]) ** 2).xreplace(MODEL.masses))\n",
    "y_max = float(((m[0] - m[j]) ** 2).xreplace(MODEL.masses))\n",
    "x_diff = x_max - x_min\n",
    "y_diff = y_max - y_min\n",
    "x_min -= 0.05 * x_diff\n",
    "x_max += 0.05 * x_diff\n",
    "y_min -= 0.05 * y_diff\n",
    "y_max += 0.05 * y_diff\n",
    "X, Y = jnp.meshgrid(\n",
    "    jnp.linspace(x_min, x_max, num=resolution),\n",
    "    jnp.linspace(y_min, y_max, num=resolution),\n",
    ")\n",
    "dalitz_data = {\n",
    "    f\"sigma{i}\": X,\n",
    "    f\"sigma{j}\": Y,\n",
    "}"
   ]
  },
  {
   "cell_type": "code",
   "execution_count": null,
   "metadata": {
    "mystnb": {
     "code_prompt_show": "Prepare parametrized numerical function"
    },
    "tags": []
   },
   "outputs": [],
   "source": [
    "intensities = intensity_funcs[k](dalitz_data)"
   ]
  },
  {
   "cell_type": "code",
   "execution_count": null,
   "metadata": {
    "jupyter": {
     "source_hidden": true
    },
    "tags": [
     "remove-input"
    ]
   },
   "outputs": [],
   "source": [
    "assert not jnp.all(jnp.isnan(intensities)), \"All intensities are NaN\""
   ]
  },
  {
   "cell_type": "code",
   "execution_count": null,
   "metadata": {
    "jupyter": {
     "source_hidden": true
    },
    "mystnb": {
     "code_prompt_show": "Dalitz plot is not yet correct"
    },
    "tags": [
     "hide-input",
     "hide-output"
    ]
   },
   "outputs": [],
   "source": [
    "def get_decay_products(\n",
    "    decay: ThreeBodyDecay, subsystem_id: FinalStateID\n",
    ") -> tuple[State, State]:\n",
    "    if subsystem_id not in decay.final_state:\n",
    "        msg = f\"Subsystem ID {subsystem_id} is not a valid final state ID\"\n",
    "        raise ValueError(msg)\n",
    "    return tuple(s for s in decay.final_state.values() if s.index != subsystem_id)\n",
    "\n",
    "\n",
    "plt.rc(\"font\", size=18)\n",
    "I_tot = jnp.nansum(intensities)\n",
    "normalized_intensities = intensities / I_tot\n",
    "\n",
    "fig, ax = plt.subplots(figsize=(14, 10))\n",
    "mesh = ax.pcolormesh(X, Y, normalized_intensities)\n",
    "ax.set_aspect(\"equal\")\n",
    "c_bar = plt.colorbar(mesh, ax=ax, pad=0.01)\n",
    "c_bar.ax.set_ylabel(\"Normalized intensity (a.u.)\")\n",
    "sigma_labels = {\n",
    "    i: Rf\"$\\sigma_{i} = M^2\\left({' '.join(p.latex for p in get_decay_products(DECAY, i))}\\right)$\"\n",
    "    for i in (1, 2, 3)\n",
    "}\n",
    "ax.set_xlabel(sigma_labels[i])\n",
    "ax.set_ylabel(sigma_labels[j])\n",
    "plt.show()"
   ]
  }
 ],
 "metadata": {
  "colab": {
   "toc_visible": true
  },
  "kernelspec": {
   "display_name": "Python 3 (ipykernel)",
   "language": "python",
   "name": "python3"
  },
  "language_info": {
   "codemirror_mode": {
    "name": "ipython",
    "version": 3
   },
   "file_extension": ".py",
   "mimetype": "text/x-python",
   "name": "python",
   "nbconvert_exporter": "python",
   "pygments_lexer": "ipython3",
   "version": "3.9.19"
  }
 },
 "nbformat": 4,
 "nbformat_minor": 4
}

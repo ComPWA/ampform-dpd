{
 "cells": [
  {
   "cell_type": "markdown",
   "metadata": {},
   "source": [
    "# Model serialization"
   ]
  },
  {
   "cell_type": "markdown",
   "metadata": {
    "tags": []
   },
   "source": [
    "## Import model"
   ]
  },
  {
   "cell_type": "code",
   "execution_count": null,
   "metadata": {
    "tags": [
     "remove-input"
    ]
   },
   "outputs": [],
   "source": [
    "from __future__ import annotations"
   ]
  },
  {
   "cell_type": "code",
   "execution_count": null,
   "metadata": {
    "tags": []
   },
   "outputs": [],
   "source": [
    "import json\n",
    "\n",
    "with open(\"Lc2ppiK.json\") as stream:\n",
    "    model_def = json.load(stream)"
   ]
  },
  {
   "cell_type": "code",
   "execution_count": null,
   "metadata": {
    "jupyter": {
     "source_hidden": true
    },
    "tags": [
     "remove-cell"
    ]
   },
   "outputs": [],
   "source": [
    "from IPython.display import JSON\n",
    "\n",
    "JSON(model_def)"
   ]
  },
  {
   "cell_type": "markdown",
   "metadata": {
    "tags": []
   },
   "source": [
    "## Construct `ThreeBodyDecay`"
   ]
  },
  {
   "cell_type": "code",
   "execution_count": null,
   "metadata": {
    "jupyter": {
     "source_hidden": true
    },
    "tags": [
     "hide-cell",
     "scroll-input"
    ]
   },
   "outputs": [],
   "source": [
    "from typing import Callable\n",
    "from warnings import warn\n",
    "\n",
    "from ampform_dpd.decay import (\n",
    "    FinalStateID,\n",
    "    IsobarNode,\n",
    "    Particle,\n",
    "    State,\n",
    "    ThreeBodyDecay,\n",
    "    ThreeBodyDecayChain,\n",
    ")\n",
    "\n",
    "\n",
    "def to_decay(\n",
    "    definition: dict, to_latex: Callable[[str], str] | None = None\n",
    ") -> ThreeBodyDecay:\n",
    "    distributions_def = model_def[\"distributions\"]\n",
    "    n_distributions = len(distributions_def)\n",
    "    if n_distributions == 0:\n",
    "        msg = \"The serialized model does not have any distributions\"\n",
    "        raise ValueError(msg)\n",
    "    if n_distributions > 1:\n",
    "        msg = f\"There are {n_distributions} distributions, but expecting one only\"\n",
    "        warn(msg, category=UserWarning)\n",
    "    decay_description = distributions_def[0][\"decay_description\"]\n",
    "    initial_state, final_state = _get_states(decay_description[\"kinematics\"])\n",
    "    return ThreeBodyDecay(\n",
    "        states={\n",
    "            initial_state.index: initial_state,\n",
    "            **final_state,\n",
    "        },\n",
    "        chains=sorted({\n",
    "            to_decay_chain(chain, initial_state, final_state, to_latex)\n",
    "            for chain in decay_description[\"chains\"]\n",
    "        }),\n",
    "    )\n",
    "\n",
    "\n",
    "def to_decay_chain(\n",
    "    chain_def: dict,\n",
    "    initial_state: State,\n",
    "    final_state: dict[FinalStateID, State],\n",
    "    to_latex: Callable[[str], str] | None = None,\n",
    ") -> ThreeBodyDecayChain:\n",
    "    vertices = chain_def[\"vertices\"]\n",
    "    if to_latex is None:\n",
    "        to_latex = lambda x: x  # noqa:E731\n",
    "    resonance = Particle(\n",
    "        name=chain_def[\"name\"],\n",
    "        latex=name_to_latex(chain_def[\"name\"]),\n",
    "        spin=chain_def[\"propagators\"][0][\"spin\"],\n",
    "        mass=0,\n",
    "        width=0,\n",
    "        parity=None,\n",
    "    )\n",
    "    return ThreeBodyDecayChain(\n",
    "        decay=IsobarNode(\n",
    "            parent=initial_state,\n",
    "            child1=IsobarNode(\n",
    "                parent=resonance,\n",
    "                child1=final_state[vertices[1][\"node\"][0]],\n",
    "                child2=final_state[vertices[1][\"node\"][1]],\n",
    "            ),\n",
    "            child2=final_state[vertices[0][\"node\"][1]],\n",
    "        )\n",
    "    )\n",
    "\n",
    "\n",
    "def _get_states(kinematics: dict) -> tuple[State, dict[FinalStateID, State]]:\n",
    "    initial_state_def = kinematics[\"initial_state\"]\n",
    "    final_state_def = kinematics[\"final_state\"]\n",
    "    initial_state = dict_to_particle(initial_state_def)\n",
    "    final_state = {p[\"index\"]: dict_to_particle(p) for p in final_state_def}\n",
    "    return initial_state, final_state\n",
    "\n",
    "\n",
    "def dict_to_particle(dct: dict) -> State:\n",
    "    return State(\n",
    "        name=dct[\"name\"],\n",
    "        latex=name_to_latex(dct[\"name\"]),\n",
    "        mass=dct[\"mass\"],\n",
    "        width=0,\n",
    "        spin=dct[\"spin\"],\n",
    "        parity=None,\n",
    "        index=dct[\"index\"],\n",
    "    )"
   ]
  },
  {
   "cell_type": "code",
   "execution_count": null,
   "metadata": {
    "tags": []
   },
   "outputs": [],
   "source": [
    "def name_to_latex(name: str) -> str:\n",
    "    latex = {\n",
    "        \"Lc\": R\"\\Lambda_c^+\",\n",
    "        \"pi\": R\"\\pi^+\",\n",
    "        \"K\": \"K^-\",\n",
    "        \"p\": \"p\",\n",
    "    }.get(name)\n",
    "    if latex is not None:\n",
    "        return latex\n",
    "    mass_str = name[1:].strip(\"(\").strip(\")\")\n",
    "    subsystem_letter = name[0]\n",
    "    subsystem = {\"D\": \"D\", \"K\": \"K\", \"L\": R\"\\Lambda\"}.get(subsystem_letter)\n",
    "    if subsystem is None:\n",
    "        return name\n",
    "    return f\"{subsystem}({mass_str})\"\n",
    "\n",
    "\n",
    "decay = to_decay(model_def, to_latex=name_to_latex)"
   ]
  },
  {
   "cell_type": "code",
   "execution_count": null,
   "metadata": {
    "jupyter": {
     "source_hidden": true
    },
    "tags": [
     "hide-input"
    ]
   },
   "outputs": [],
   "source": [
    "from IPython.display import Math\n",
    "\n",
    "from ampform_dpd.io import aslatex\n",
    "\n",
    "Math(aslatex(decay))"
   ]
  },
  {
   "cell_type": "code",
   "execution_count": null,
   "metadata": {
    "jupyter": {
     "source_hidden": true
    },
    "tags": [
     "hide-input"
    ]
   },
   "outputs": [],
   "source": [
    "from IPython.display import Markdown\n",
    "\n",
    "from ampform_dpd.io import as_markdown_table\n",
    "\n",
    "Markdown(as_markdown_table(decay))"
   ]
  }
 ],
 "metadata": {
  "colab": {
   "toc_visible": true
  },
  "kernelspec": {
   "display_name": "Python 3 (ipykernel)",
   "language": "python",
   "name": "python3"
  },
  "language_info": {
   "codemirror_mode": {
    "name": "ipython",
    "version": 3
   },
   "file_extension": ".py",
   "mimetype": "text/x-python",
   "name": "python",
   "nbconvert_exporter": "python",
   "pygments_lexer": "ipython3",
   "version": "3.9.19"
  }
 },
 "nbformat": 4,
 "nbformat_minor": 4
}

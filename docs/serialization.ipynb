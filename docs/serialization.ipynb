{
 "cells": [
  {
   "cell_type": "markdown",
   "metadata": {
    "tags": []
   },
   "source": [
    "# Model serialization"
   ]
  },
  {
   "cell_type": "markdown",
   "metadata": {
    "tags": []
   },
   "source": [
    "## Import model"
   ]
  },
  {
   "cell_type": "code",
   "execution_count": null,
   "metadata": {
    "jupyter": {
     "source_hidden": true
    },
    "tags": [
     "hide-input",
     "scroll-input"
    ]
   },
   "outputs": [],
   "source": [
    "from __future__ import annotations\n",
    "\n",
    "import json\n",
    "\n",
    "import sympy as sp\n",
    "from ampform.dynamics import BlattWeisskopfSquared\n",
    "from ampform.dynamics.phasespace import BreakupMomentumSquared\n",
    "from ampform.kinematics.phasespace import Kallen\n",
    "from IPython.display import JSON, Markdown, Math, display\n",
    "\n",
    "from ampform_dpd import DefinedExpression\n",
    "from ampform_dpd.dynamics import (\n",
    "    BreitWigner,\n",
    "    BuggBreitWigner,\n",
    "    ChannelArguments,\n",
    "    EnergyDependentWidth,\n",
    "    FormFactor,\n",
    "    MultichannelBreitWigner,\n",
    "    P,\n",
    "    SimpleBreitWigner,\n",
    ")\n",
    "from ampform_dpd.io import as_markdown_table, aslatex\n",
    "from ampform_dpd.io.serialization.decay import (\n",
    "    _get_decay_chains,\n",
    "    get_final_state,\n",
    "    to_decay,\n",
    ")\n",
    "from ampform_dpd.io.serialization.dynamics import (\n",
    "    formulate_breit_wigner,\n",
    "    formulate_dynamics,\n",
    "    formulate_form_factor,\n",
    "    formulate_multichannel_breit_wigner,\n",
    "    to_mandelstam_symbol,\n",
    "    to_mass_symbol,\n",
    ")\n",
    "from ampform_dpd.io.serialization.format import (\n",
    "    ModelDefinition,\n",
    "    Propagator,\n",
    "    get_function_definition,\n",
    ")"
   ]
  },
  {
   "cell_type": "code",
   "execution_count": null,
   "metadata": {
    "tags": []
   },
   "outputs": [],
   "source": [
    "with open(\"Lc2ppiK.json\") as stream:\n",
    "    MODEL_DEFINITION = json.load(stream)"
   ]
  },
  {
   "cell_type": "code",
   "execution_count": null,
   "metadata": {
    "tags": [
     "remove-cell"
    ]
   },
   "outputs": [],
   "source": [
    "JSON(MODEL_DEFINITION)"
   ]
  },
  {
   "cell_type": "markdown",
   "metadata": {
    "jp-MarkdownHeadingCollapsed": true,
    "tags": []
   },
   "source": [
    "## Construct `ThreeBodyDecay`"
   ]
  },
  {
   "cell_type": "code",
   "execution_count": null,
   "metadata": {
    "jupyter": {
     "source_hidden": true
    },
    "mystnb": {
     "code_prompt_show": "Name-to-LaTeX converter"
    },
    "tags": [
     "hide-input"
    ]
   },
   "outputs": [],
   "source": [
    "def to_latex(name: str) -> str:\n",
    "    latex = {\n",
    "        \"Lc\": R\"\\Lambda_c^+\",\n",
    "        \"pi\": R\"\\pi^+\",\n",
    "        \"K\": \"K^-\",\n",
    "        \"p\": \"p\",\n",
    "    }.get(name)\n",
    "    if latex is not None:\n",
    "        return latex\n",
    "    mass_str = name[1:].strip(\"(\").strip(\")\")\n",
    "    subsystem_letter = name[0]\n",
    "    subsystem = {\"D\": \"D\", \"K\": \"K\", \"L\": R\"\\Lambda\"}.get(subsystem_letter)\n",
    "    if subsystem is None:\n",
    "        return name\n",
    "    return f\"{subsystem}({mass_str})\""
   ]
  },
  {
   "cell_type": "code",
   "execution_count": null,
   "metadata": {
    "tags": []
   },
   "outputs": [],
   "source": [
    "DECAY = to_decay(MODEL_DEFINITION, to_latex=to_latex)\n",
    "Math(aslatex(DECAY))"
   ]
  },
  {
   "cell_type": "code",
   "execution_count": null,
   "metadata": {
    "tags": [
     "hide-input"
    ]
   },
   "outputs": [],
   "source": [
    "Markdown(as_markdown_table(DECAY))"
   ]
  },
  {
   "cell_type": "markdown",
   "metadata": {
    "tags": []
   },
   "source": [
    "## Dynamics"
   ]
  },
  {
   "cell_type": "markdown",
   "metadata": {
    "tags": []
   },
   "source": [
    ":::{seealso} [RUB-EP1/amplitude-serialization#22](https://github.com/RUB-EP1/amplitude-serialization/issues/22)\n",
    ":::"
   ]
  },
  {
   "cell_type": "code",
   "execution_count": null,
   "metadata": {
    "tags": []
   },
   "outputs": [],
   "source": [
    "CHAIN_DEFS = _get_decay_chains(MODEL_DEFINITION)"
   ]
  },
  {
   "cell_type": "markdown",
   "metadata": {},
   "source": [
    "### Vertices"
   ]
  },
  {
   "cell_type": "markdown",
   "metadata": {
    "tags": []
   },
   "source": [
    "#### Blatt-Weisskopf form factor"
   ]
  },
  {
   "cell_type": "code",
   "execution_count": null,
   "metadata": {
    "jupyter": {
     "source_hidden": true
    },
    "tags": [
     "hide-input",
     "full-width"
    ]
   },
   "outputs": [],
   "source": [
    "z = sp.Symbol(\"z\", nonnegative=True)\n",
    "s, m1, m2, L, d = sp.symbols(\"s m1 m2 L R\")\n",
    "exprs = [\n",
    "    FormFactor(s, m1, m2, L, d),\n",
    "    BlattWeisskopfSquared(z, L),\n",
    "    BreakupMomentumSquared(s, m1, m2),\n",
    "]\n",
    "Math(aslatex({e: e.doit(deep=False) for e in exprs}))"
   ]
  },
  {
   "cell_type": "code",
   "execution_count": null,
   "metadata": {
    "tags": []
   },
   "outputs": [],
   "source": [
    "ff_L1520 = formulate_form_factor(\n",
    "    vertex=CHAIN_DEFS[2][\"vertices\"][0],\n",
    "    model=MODEL_DEFINITION,\n",
    ")\n",
    "Math(aslatex(ff_L1520))"
   ]
  },
  {
   "cell_type": "markdown",
   "metadata": {
    "tags": []
   },
   "source": [
    "### Propagators"
   ]
  },
  {
   "cell_type": "markdown",
   "metadata": {
    "tags": []
   },
   "source": [
    "#### Breit-Wigner"
   ]
  },
  {
   "cell_type": "code",
   "execution_count": null,
   "metadata": {
    "jupyter": {
     "source_hidden": true
    },
    "tags": [
     "hide-input"
    ]
   },
   "outputs": [],
   "source": [
    "x, y, z = sp.symbols(\"x:z\")\n",
    "s, m0, Γ0, m1, m2, L, d = sp.symbols(\"s m0 Gamma0 m1 m2 L R\")\n",
    "exprs = [\n",
    "    BreitWigner(s, m0, Γ0, m1, m2, L, d),\n",
    "    SimpleBreitWigner(s, m0, Γ0),\n",
    "    EnergyDependentWidth(s, m0, Γ0, m1, m2, L, d),\n",
    "    FormFactor(s, m1, m2, L, d),\n",
    "    P(s, m1, m2),\n",
    "    Kallen(x, y, z),\n",
    "]\n",
    "Math(aslatex({e: e.doit(deep=False) for e in exprs}))"
   ]
  },
  {
   "cell_type": "code",
   "execution_count": null,
   "metadata": {
    "tags": []
   },
   "outputs": [],
   "source": [
    "K892_BW = formulate_breit_wigner(\n",
    "    propagator=CHAIN_DEFS[20][\"propagators\"][0],\n",
    "    resonance=to_latex(CHAIN_DEFS[20][\"name\"]),\n",
    "    model=MODEL_DEFINITION,\n",
    ")\n",
    "Math(aslatex(K892_BW))"
   ]
  },
  {
   "cell_type": "markdown",
   "metadata": {
    "tags": []
   },
   "source": [
    "#### Multi-channel Breit-Wigner"
   ]
  },
  {
   "cell_type": "code",
   "execution_count": null,
   "metadata": {
    "jupyter": {
     "source_hidden": true
    },
    "tags": [
     "hide-input"
    ]
   },
   "outputs": [],
   "source": [
    "x, y, z = sp.symbols(\"x:z\")\n",
    "s, m0, Γ0, m1, m2, L, d = sp.symbols(\"s m0 Gamma0 m1 m2 L R\")\n",
    "channels = [\n",
    "    ChannelArguments(\n",
    "        sp.Symbol(f\"Gamma{i}\"),\n",
    "        sp.Symbol(f\"m_{{a,{i}}}\"),\n",
    "        sp.Symbol(f\"m_{{b,{i}}}\"),\n",
    "        sp.Symbol(f\"L{i}\"),\n",
    "        d,\n",
    "    )\n",
    "    for i in [1, 2]\n",
    "]\n",
    "exprs = [\n",
    "    MultichannelBreitWigner(s, m0, channels),\n",
    "    BreitWigner(s, m0, Γ0, m1, m2, L, d),\n",
    "    BreitWigner(s, m0, Γ0),\n",
    "    EnergyDependentWidth(s, m0, Γ0, m1, m2, L, d),\n",
    "    FormFactor(s, m1, m2, L, d),\n",
    "    P(s, m1, m2),\n",
    "    Kallen(x, y, z),\n",
    "]\n",
    "Math(aslatex({e: e.doit(deep=False) for e in exprs}))"
   ]
  },
  {
   "cell_type": "code",
   "execution_count": null,
   "metadata": {
    "tags": [
     "full-width"
    ]
   },
   "outputs": [],
   "source": [
    "L1405_Flatte = formulate_multichannel_breit_wigner(\n",
    "    propagator=CHAIN_DEFS[0][\"propagators\"][0],\n",
    "    resonance=to_latex(CHAIN_DEFS[0][\"name\"]),\n",
    "    model=MODEL_DEFINITION,\n",
    ")\n",
    "Math(aslatex(L1405_Flatte))"
   ]
  },
  {
   "cell_type": "markdown",
   "metadata": {
    "tags": []
   },
   "source": [
    "#### Breit-Wigner with exponential"
   ]
  },
  {
   "cell_type": "markdown",
   "metadata": {},
   "source": [
    "The model contains one lineshape function that is not standard, so we have to implement a custom propagator dynamics builder for this."
   ]
  },
  {
   "cell_type": "code",
   "execution_count": null,
   "metadata": {
    "jupyter": {
     "source_hidden": true
    },
    "tags": [
     "hide-input"
    ]
   },
   "outputs": [],
   "source": [
    "s, m0, Γ0, m1, m2, γ = sp.symbols(\"s m0 Gamma0 m1 m2 gamma\")\n",
    "expr = BuggBreitWigner(s, m0, Γ0, m1, m2, γ)\n",
    "Math(aslatex({expr: expr.doit(deep=False)}))"
   ]
  },
  {
   "cell_type": "code",
   "execution_count": null,
   "metadata": {},
   "outputs": [],
   "source": [
    "CHAIN_DEFS[18]"
   ]
  },
  {
   "cell_type": "code",
   "execution_count": null,
   "metadata": {
    "tags": []
   },
   "outputs": [],
   "source": [
    "get_function_definition(\"K700_BuggBW\", MODEL_DEFINITION)"
   ]
  },
  {
   "cell_type": "code",
   "execution_count": null,
   "metadata": {},
   "outputs": [],
   "source": [
    "def formulate_bugg_breit_wigner(\n",
    "    propagator: Propagator, resonance: str, model: ModelDefinition\n",
    ") -> DefinedExpression:\n",
    "    function_definition = get_function_definition(propagator[\"parametrization\"], model)\n",
    "    node = propagator[\"node\"]\n",
    "    i, j = node\n",
    "    s = to_mandelstam_symbol(node)\n",
    "    mass = sp.Symbol(f\"m_{{{resonance}}}\", nonnegative=True)\n",
    "    width = sp.Symbol(Rf\"\\Gamma_{{{resonance}}}\", nonnegative=True)\n",
    "    γ = sp.Symbol(Rf\"\\gamma_{{{resonance}}}\")\n",
    "    m1 = to_mass_symbol(i)\n",
    "    m2 = to_mass_symbol(j)\n",
    "    final_state = get_final_state(model)\n",
    "    return DefinedExpression(\n",
    "        expression=BuggBreitWigner(s, mass, width, m1, m2, γ),\n",
    "        definitions={\n",
    "            mass: function_definition[\"mass\"],\n",
    "            width: function_definition[\"width\"],\n",
    "            m1: final_state[i].mass,\n",
    "            m2: final_state[j].mass,\n",
    "            γ: function_definition[\"slope\"],\n",
    "        },\n",
    "    )"
   ]
  },
  {
   "cell_type": "code",
   "execution_count": null,
   "metadata": {
    "tags": []
   },
   "outputs": [],
   "source": [
    "CHAIN_18 = CHAIN_DEFS[18]\n",
    "K700_BuggBW = formulate_bugg_breit_wigner(\n",
    "    propagator=CHAIN_18[\"propagators\"][0],\n",
    "    resonance=to_latex(CHAIN_18[\"name\"]),\n",
    "    model=MODEL_DEFINITION,\n",
    ")\n",
    "Math(aslatex(K700_BuggBW))"
   ]
  },
  {
   "cell_type": "markdown",
   "metadata": {},
   "source": [
    "#### General propagator dynamics builder"
   ]
  },
  {
   "cell_type": "code",
   "execution_count": null,
   "metadata": {
    "tags": []
   },
   "outputs": [],
   "source": [
    "DYNAMICS_BUILDERS = {\n",
    "    \"BreitWignerWidthExpLikeBugg\": formulate_bugg_breit_wigner,\n",
    "}"
   ]
  },
  {
   "cell_type": "code",
   "execution_count": null,
   "metadata": {
    "jupyter": {
     "source_hidden": true
    },
    "tags": [
     "hide-input",
     "full-width"
    ]
   },
   "outputs": [],
   "source": [
    "exprs = [\n",
    "    formulate_dynamics(CHAIN_DEFS[0], MODEL_DEFINITION, to_latex, DYNAMICS_BUILDERS),\n",
    "    formulate_dynamics(CHAIN_DEFS[18], MODEL_DEFINITION, to_latex, DYNAMICS_BUILDERS),\n",
    "    formulate_dynamics(CHAIN_DEFS[20], MODEL_DEFINITION, to_latex, DYNAMICS_BUILDERS),\n",
    "]\n",
    "for expr in exprs:\n",
    "    display(Math(aslatex(expr)))"
   ]
  }
 ],
 "metadata": {
  "colab": {
   "toc_visible": true
  },
  "kernelspec": {
   "display_name": "Python 3 (ipykernel)",
   "language": "python",
   "name": "python3"
  },
  "language_info": {
   "codemirror_mode": {
    "name": "ipython",
    "version": 3
   },
   "file_extension": ".py",
   "mimetype": "text/x-python",
   "name": "python",
   "nbconvert_exporter": "python",
   "pygments_lexer": "ipython3",
   "version": "3.9.19"
  }
 },
 "nbformat": 4,
 "nbformat_minor": 4
}

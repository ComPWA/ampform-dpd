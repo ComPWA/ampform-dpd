{
 "cells": [
  {
   "cell_type": "markdown",
   "metadata": {},
   "source": [
    "# Model serialization"
   ]
  },
  {
   "cell_type": "markdown",
   "metadata": {
    "tags": []
   },
   "source": [
    "## Import model"
   ]
  },
  {
   "cell_type": "code",
   "execution_count": null,
   "metadata": {
    "jupyter": {
     "source_hidden": true
    },
    "tags": [
     "hide-cell"
    ]
   },
   "outputs": [],
   "source": [
    "from __future__ import annotations\n",
    "\n",
    "import json\n",
    "from collections import abc\n",
    "from difflib import get_close_matches\n",
    "from typing import Any, Callable, Sequence, Union\n",
    "from warnings import warn\n",
    "\n",
    "import sympy as sp\n",
    "from ampform.dynamics import BlattWeisskopfSquared\n",
    "from ampform.kinematics.phasespace import Kallen\n",
    "from ampform.sympy import argument, unevaluated\n",
    "from attrs import asdict, frozen\n",
    "from IPython.display import JSON, Markdown, Math\n",
    "from sympy.core.symbol import Str\n",
    "from sympy.physics.quantum.spin import Rotation as Wigner\n",
    "from sympy.printing.latex import LatexPrinter\n",
    "\n",
    "from ampform_dpd import (\n",
    "    DefinedExpression,\n",
    "    _create_coupling_symbol,  # noqa:PLC2701\n",
    ")\n",
    "from ampform_dpd.angles import formulate_scattering_angle\n",
    "from ampform_dpd.decay import (\n",
    "    FinalStateID,\n",
    "    IsobarNode,\n",
    "    Particle,\n",
    "    State,\n",
    "    StateID,\n",
    "    ThreeBodyDecay,\n",
    "    ThreeBodyDecayChain,\n",
    ")\n",
    "from ampform_dpd.dynamics import BuggBreitWigner, EnergyDependentWidth, FormFactor, P\n",
    "from ampform_dpd.io import as_markdown_table, aslatex, simplify_latex_rendering\n",
    "\n",
    "simplify_latex_rendering()"
   ]
  },
  {
   "cell_type": "code",
   "execution_count": null,
   "metadata": {
    "tags": []
   },
   "outputs": [],
   "source": [
    "with open(\"Lc2ppiK.json\") as stream:\n",
    "    MODEL_DEFINITION = json.load(stream)"
   ]
  },
  {
   "cell_type": "code",
   "execution_count": null,
   "metadata": {
    "tags": [
     "remove-cell"
    ]
   },
   "outputs": [],
   "source": [
    "JSON(MODEL_DEFINITION)"
   ]
  },
  {
   "cell_type": "markdown",
   "metadata": {
    "jp-MarkdownHeadingCollapsed": true,
    "tags": []
   },
   "source": [
    "## Construct `ThreeBodyDecay`"
   ]
  },
  {
   "cell_type": "code",
   "execution_count": null,
   "metadata": {
    "jupyter": {
     "source_hidden": true
    },
    "tags": [
     "hide-cell",
     "scroll-input"
    ]
   },
   "outputs": [],
   "source": [
    "def to_decay(\n",
    "    model: dict, to_latex: Callable[[str], str] | None = None\n",
    ") -> ThreeBodyDecay:\n",
    "    initial_state = _get_initial_state(model)\n",
    "    final_state = _get_final_state(model)\n",
    "    return ThreeBodyDecay(\n",
    "        states=_get_states(model),\n",
    "        chains=sorted({\n",
    "            to_decay_chain(chain, initial_state, final_state, to_latex)\n",
    "            for chain in _get_decay_chains(model)\n",
    "        }),\n",
    "    )\n",
    "\n",
    "\n",
    "def _get_decay_chains(model: dict) -> list[dict]:\n",
    "    distribution_def = _get_distribution_def(model)\n",
    "    return distribution_def[\"decay_description\"][\"chains\"]\n",
    "\n",
    "\n",
    "def _get_distribution_def(model: dict) -> dict:\n",
    "    distribution_defs = MODEL_DEFINITION[\"distributions\"]\n",
    "    n_distributions = len(distribution_defs)\n",
    "    if n_distributions == 0:\n",
    "        msg = \"The serialized model does not have any distributions\"\n",
    "        raise ValueError(msg)\n",
    "    if n_distributions > 1:\n",
    "        msg = f\"There are {n_distributions} distributions, but expecting one only\"\n",
    "        warn(msg, category=UserWarning)\n",
    "    return distribution_defs[0]\n",
    "\n",
    "\n",
    "def to_decay_chain(\n",
    "    chain_def: dict,\n",
    "    initial_state: State,\n",
    "    final_state: dict[FinalStateID, State],\n",
    "    to_latex: Callable[[str], str] | None = None,\n",
    ") -> ThreeBodyDecayChain:\n",
    "    vertices = chain_def[\"vertices\"]\n",
    "    if to_latex is None:\n",
    "        to_latex = lambda x: x  # noqa:E731\n",
    "    resonance = Particle(\n",
    "        name=chain_def[\"name\"],\n",
    "        latex=name_to_latex(chain_def[\"name\"]),\n",
    "        spin=chain_def[\"propagators\"][0][\"spin\"],\n",
    "        mass=0,\n",
    "        width=0,\n",
    "        parity=None,\n",
    "    )\n",
    "    return ThreeBodyDecayChain(\n",
    "        decay=IsobarNode(\n",
    "            parent=initial_state,\n",
    "            child1=IsobarNode(\n",
    "                parent=resonance,\n",
    "                child1=final_state[vertices[1][\"node\"][0]],\n",
    "                child2=final_state[vertices[1][\"node\"][1]],\n",
    "            ),\n",
    "            child2=final_state[vertices[0][\"node\"][1]],\n",
    "        )\n",
    "    )\n",
    "\n",
    "\n",
    "def _get_states(model: dict) -> dict[StateID, State]:\n",
    "    initial_state = _get_initial_state(model)\n",
    "    final_state = _get_final_state(model)\n",
    "    return {initial_state.index: initial_state, **final_state}\n",
    "\n",
    "\n",
    "def _get_initial_state(model: dict) -> dict[StateID, State]:\n",
    "    distribution_def = _get_distribution_def(model)\n",
    "    decay_description = distribution_def[\"decay_description\"]\n",
    "    kinematics = decay_description[\"kinematics\"]\n",
    "    return dict_to_particle(kinematics[\"initial_state\"])\n",
    "\n",
    "\n",
    "def _get_final_state(model: dict) -> dict[StateID, State]:\n",
    "    distribution_def = _get_distribution_def(model)\n",
    "    decay_description = distribution_def[\"decay_description\"]\n",
    "    kinematics = decay_description[\"kinematics\"]\n",
    "    final_state_def = kinematics[\"final_state\"]\n",
    "    return {p[\"index\"]: dict_to_particle(p) for p in final_state_def}\n",
    "\n",
    "\n",
    "def dict_to_particle(dct: dict) -> State:\n",
    "    return State(\n",
    "        name=dct[\"name\"],\n",
    "        latex=name_to_latex(dct[\"name\"]),\n",
    "        mass=dct[\"mass\"],\n",
    "        width=0,\n",
    "        spin=dct[\"spin\"],\n",
    "        parity=None,\n",
    "        index=dct[\"index\"],\n",
    "    )"
   ]
  },
  {
   "cell_type": "code",
   "execution_count": null,
   "metadata": {
    "jupyter": {
     "source_hidden": true
    },
    "tags": []
   },
   "outputs": [],
   "source": [
    "def name_to_latex(name: str) -> str:\n",
    "    latex = {\n",
    "        \"Lc\": R\"\\Lambda_c^+\",\n",
    "        \"pi\": R\"\\pi^+\",\n",
    "        \"K\": \"K^-\",\n",
    "        \"p\": \"p\",\n",
    "    }.get(name)\n",
    "    if latex is not None:\n",
    "        return latex\n",
    "    mass_str = name[1:].strip(\"(\").strip(\")\")\n",
    "    subsystem_letter = name[0]\n",
    "    subsystem = {\"D\": \"D\", \"K\": \"K\", \"L\": R\"\\Lambda\"}.get(subsystem_letter)\n",
    "    if subsystem is None:\n",
    "        return name\n",
    "    return f\"{subsystem}({mass_str})\"\n",
    "\n",
    "\n",
    "DECAY = to_decay(MODEL_DEFINITION, to_latex=name_to_latex)"
   ]
  },
  {
   "cell_type": "code",
   "execution_count": null,
   "metadata": {
    "tags": [
     "hide-input"
    ]
   },
   "outputs": [],
   "source": [
    "Math(aslatex(DECAY))"
   ]
  },
  {
   "cell_type": "code",
   "execution_count": null,
   "metadata": {
    "tags": [
     "hide-input"
    ]
   },
   "outputs": [],
   "source": [
    "Markdown(as_markdown_table(DECAY))"
   ]
  },
  {
   "cell_type": "markdown",
   "metadata": {
    "tags": []
   },
   "source": [
    "## Dynamics"
   ]
  },
  {
   "cell_type": "markdown",
   "metadata": {
    "tags": []
   },
   "source": [
    ":::{seealso} [RUB-EP1/amplitude-serialization#22](https://github.com/RUB-EP1/amplitude-serialization/issues/22)\n",
    ":::"
   ]
  },
  {
   "cell_type": "markdown",
   "metadata": {
    "jp-MarkdownHeadingCollapsed": true
   },
   "source": [
    "### Function look-up mechanism"
   ]
  },
  {
   "cell_type": "code",
   "execution_count": null,
   "metadata": {
    "tags": []
   },
   "outputs": [],
   "source": [
    "function_defs = MODEL_DEFINITION[\"functions\"]\n",
    "{f[\"type\"] for f in function_defs}"
   ]
  },
  {
   "cell_type": "code",
   "execution_count": null,
   "metadata": {
    "tags": []
   },
   "outputs": [],
   "source": [
    "CHAIN_DEFINITIONS = _get_decay_chains(MODEL_DEFINITION)\n",
    "CHAIN_DEFINITIONS[2]"
   ]
  },
  {
   "cell_type": "code",
   "execution_count": null,
   "metadata": {
    "tags": []
   },
   "outputs": [],
   "source": [
    "def get_function_definition(function_name: str, model: dict) -> dict:\n",
    "    function_definitions = model[\"functions\"]\n",
    "    for function_def in function_definitions:\n",
    "        if function_def[\"name\"] == function_name:\n",
    "            return function_def\n",
    "    existing_names = {f[\"name\"] for f in function_definitions}\n",
    "    msg = f\"Could not find function with name {function_name!r}.\"\n",
    "    candidates = get_close_matches(function_name, existing_names)\n",
    "    if candidates:\n",
    "        msg += f\" Did you mean any of these? {', '.join(sorted(candidates))}\"\n",
    "    raise KeyError(msg)"
   ]
  },
  {
   "cell_type": "code",
   "execution_count": null,
   "metadata": {
    "tags": [
     "raises-exception"
    ]
   },
   "outputs": [],
   "source": [
    "get_function_definition(\"BlattWeiskopf\", MODEL_DEFINITION)"
   ]
  },
  {
   "cell_type": "markdown",
   "metadata": {},
   "source": [
    "<!-- cspell:ignore Weiskopf -->\n",
    "### Vertices"
   ]
  },
  {
   "cell_type": "markdown",
   "metadata": {
    "tags": []
   },
   "source": [
    "#### Blatt-Weisskopf form factor"
   ]
  },
  {
   "cell_type": "code",
   "execution_count": null,
   "metadata": {
    "tags": []
   },
   "outputs": [],
   "source": [
    "get_function_definition(\"BlattWeisskopf_resonance_l1\", MODEL_DEFINITION)"
   ]
  },
  {
   "cell_type": "code",
   "execution_count": null,
   "metadata": {
    "tags": []
   },
   "outputs": [],
   "source": [
    "get_function_definition(\"BlattWeisskopf_resonance_l2\", MODEL_DEFINITION)"
   ]
  },
  {
   "cell_type": "code",
   "execution_count": null,
   "metadata": {
    "jupyter": {
     "source_hidden": true
    }
   },
   "outputs": [],
   "source": [
    "def _node_to_mass(node_item: int | Sequence[int]) -> sp.Symbol:\n",
    "    if isinstance(node_item, int):\n",
    "        return sp.Symbol(f\"m{node_item}\", nonnegative=True)\n",
    "    if (\n",
    "        isinstance(node_item, abc.Sequence)\n",
    "        and all(isinstance(i, int) for i in node_item)\n",
    "        and len(node_item) == 2\n",
    "    ):\n",
    "        ij = \"\".join(str(i) for i in node_item)\n",
    "        return sp.Symbol(f\"s{ij}\", nonnegative=True)\n",
    "    msg = f\"Cannot create mass symbol for node {node_item}\"\n",
    "    raise NotImplementedError(msg)\n",
    "\n",
    "\n",
    "sp.Tuple(_node_to_mass([2, 3]), _node_to_mass(1))"
   ]
  },
  {
   "cell_type": "code",
   "execution_count": null,
   "metadata": {
    "jupyter": {
     "source_hidden": true
    }
   },
   "outputs": [],
   "source": [
    "def _node_to_mandelstam(node: Topology) -> sp.Symbol:\n",
    "    if all(isinstance(i, int) for i in node):\n",
    "        return _node_to_mass(node)\n",
    "    return _node_to_mass(0)\n",
    "\n",
    "\n",
    "sp.Tuple(_node_to_mandelstam([2, 3]), _node_to_mandelstam([[2, 3], 1]))"
   ]
  },
  {
   "cell_type": "code",
   "execution_count": null,
   "metadata": {
    "tags": []
   },
   "outputs": [],
   "source": [
    "def formulate_form_factor(vertex: dict, model: dict) -> DefinedExpression:\n",
    "    function_name = vertex.get(\"formfactor\")\n",
    "    if not function_name:\n",
    "        return DefinedExpression()\n",
    "    function_definition = get_function_definition(function_name, model)\n",
    "    function_type = function_definition[\"type\"]\n",
    "    if function_type == \"BlattWeisskopf\":\n",
    "        node = vertex[\"node\"]\n",
    "        s = _node_to_mandelstam(node)\n",
    "        m1, m2 = (_node_to_mass(i) for i in node)\n",
    "        if all(isinstance(i, int) for i in node):\n",
    "            meson_radius = sp.Symbol(R\"R_\\mathrm{res}\")\n",
    "        else:\n",
    "            initial_state = _get_initial_state(model)\n",
    "            meson_radius = sp.Symbol(f\"R_{{{initial_state.latex}}}\")\n",
    "        angular_momentum = int(function_definition[\"l\"])\n",
    "        return DefinedExpression(\n",
    "            expression=FormFactor(s, m1, m2, angular_momentum, meson_radius),\n",
    "            definitions={\n",
    "                meson_radius: function_definition[\"radius\"],\n",
    "            },\n",
    "        )\n",
    "    msg = f\"No form factor implementation for {function_name!r}\"\n",
    "    raise NotImplementedError(msg)\n",
    "\n",
    "\n",
    "CHAIN_2 = CHAIN_DEFINITIONS[2]\n",
    "Math(aslatex(formulate_form_factor(CHAIN_2[\"vertices\"][0], MODEL_DEFINITION)))"
   ]
  },
  {
   "cell_type": "code",
   "execution_count": null,
   "metadata": {
    "jupyter": {
     "source_hidden": true
    },
    "tags": [
     "hide-input"
    ]
   },
   "outputs": [],
   "source": [
    "s, m1, m2, d, L, z = sp.symbols(\"s m1 m2 d L z\")\n",
    "exprs = [\n",
    "    FormFactor(s, m1, m2, L, d),\n",
    "    BlattWeisskopfSquared(z, L),\n",
    "]\n",
    "Math(aslatex({e: e.evaluate() for e in exprs}))"
   ]
  },
  {
   "cell_type": "markdown",
   "metadata": {},
   "source": [
    "### Propagators"
   ]
  },
  {
   "cell_type": "markdown",
   "metadata": {
    "tags": []
   },
   "source": [
    "#### Breit-Wigner"
   ]
  },
  {
   "cell_type": "code",
   "execution_count": null,
   "metadata": {
    "jupyter": {
     "source_hidden": true
    },
    "tags": [
     "hide-input",
     "scroll-input"
    ]
   },
   "outputs": [],
   "source": [
    "@unevaluated\n",
    "class BreitWigner(sp.Expr):\n",
    "    s: Any\n",
    "    mass: Any\n",
    "    width: Any\n",
    "    m1: Any = 0\n",
    "    m2: Any = 0\n",
    "    angular_momentum: Any = 0\n",
    "    meson_radius: Any = 1\n",
    "    _latex_repr_ = R\"\\mathcal{{R}}^\\mathrm{{BW}}_{{{angular_momentum}}}\\left({s}\\right)\"  # noqa:RUF027\n",
    "\n",
    "    def evaluate(self):\n",
    "        width = self.energy_dependent_width()\n",
    "        return BreitWigner(self.s, self.mass, width)\n",
    "\n",
    "    def energy_dependent_width(self) -> sp.Expr:\n",
    "        s, m0, Γ0, m1, m2, L, d = self.args\n",
    "        if L == 0 and m1 == 0 and m2 == 0:\n",
    "            return Γ0\n",
    "        return EnergyDependentWidth(s, m0, Γ0, m1, m2, L, d)\n",
    "\n",
    "    def _latex_repr_(self, printer: LatexPrinter, *args) -> str:\n",
    "        s = printer._print(self.s)\n",
    "        function_symbol = R\"\\mathcal{R}^\\mathrm{BW}\"\n",
    "        arg = Rf\"\\left({s}\\right)\"\n",
    "        if self.angular_momentum == 0:\n",
    "            if self.m1 == 0 and self.m2 == 0:\n",
    "                width = printer._print(self.energy_dependent_width())\n",
    "                arg = Rf\"\\left({s}; {width}\\right)\"\n",
    "            return Rf\"{function_symbol}{arg}\"\n",
    "        L = printer._print(self.angular_momentum)\n",
    "        return Rf\"{function_symbol}_{{{L}}}{arg}\"\n",
    "\n",
    "\n",
    "x, y, z = sp.symbols(\"x:z\")\n",
    "s, m0, Γ0, m1, m2, L, d = sp.symbols(\"s m0 Gamma0 m1 m2 L R\")\n",
    "exprs = [\n",
    "    BreitWigner(s, m0, Γ0, m1, m2, L, d),\n",
    "    BreitWigner(s, m0, Γ0),\n",
    "    EnergyDependentWidth(s, m0, Γ0, m1, m2, L, d),\n",
    "    FormFactor(s, m1, m2, L, d),\n",
    "    P(s, m1, m2),\n",
    "    Kallen(x, y, z),\n",
    "]\n",
    "Math(aslatex({e: e.doit(deep=False) for e in exprs}))"
   ]
  },
  {
   "cell_type": "code",
   "execution_count": null,
   "metadata": {},
   "outputs": [],
   "source": [
    "CHAIN_DEFINITIONS[20]"
   ]
  },
  {
   "cell_type": "code",
   "execution_count": null,
   "metadata": {
    "tags": []
   },
   "outputs": [],
   "source": [
    "get_function_definition(\"K892_BW\", MODEL_DEFINITION)"
   ]
  },
  {
   "cell_type": "code",
   "execution_count": null,
   "metadata": {
    "tags": [
     "scroll-input"
    ]
   },
   "outputs": [],
   "source": [
    "def _formulate_breit_wigner(\n",
    "    propagator: dict, function_definition: dict, resonance: str, **kwargs\n",
    ") -> DefinedExpression:\n",
    "    node = propagator[\"node\"]\n",
    "    i, j = node\n",
    "    s = _node_to_mandelstam(node)\n",
    "    mass = sp.Symbol(f\"m_{{{resonance}}}\")\n",
    "    width = sp.Symbol(Rf\"\\Gamma_{{{resonance}}}\")\n",
    "    m1 = _node_to_mass(i)\n",
    "    m2 = _node_to_mass(j)\n",
    "    angular_momentum = int(function_definition[\"l\"])\n",
    "    d = sp.Symbol(R\"R_\\mathrm{res}\")\n",
    "    return DefinedExpression(\n",
    "        expression=BreitWigner(s, mass, width, m1, m2, angular_momentum, d),\n",
    "        definitions={\n",
    "            mass: function_definition[\"mass\"],\n",
    "            width: function_definition[\"width\"],\n",
    "            m1: function_definition[\"ma\"],\n",
    "            m2: function_definition[\"mb\"],\n",
    "            d: function_definition[\"d\"],\n",
    "        },\n",
    "    )\n",
    "\n",
    "\n",
    "CHAIN_20 = CHAIN_DEFINITIONS[20]\n",
    "K892_BW = _formulate_breit_wigner(\n",
    "    propagator=CHAIN_20[\"propagators\"][0],\n",
    "    function_definition=get_function_definition(\"K892_BW\", MODEL_DEFINITION),\n",
    "    resonance=name_to_latex(CHAIN_20[\"name\"]),\n",
    ")\n",
    "Math(aslatex(K892_BW))"
   ]
  },
  {
   "cell_type": "markdown",
   "metadata": {
    "tags": []
   },
   "source": [
    "#### Multi-channel Breit-Wigner"
   ]
  },
  {
   "cell_type": "code",
   "execution_count": null,
   "metadata": {},
   "outputs": [],
   "source": [
    "@unevaluated\n",
    "class MultichannelBreitWigner(sp.Expr):\n",
    "    s: Any\n",
    "    mass: Any\n",
    "    channels: list[ChannelArguments] = argument(sympify=False)\n",
    "\n",
    "    def evaluate(self):\n",
    "        s = self.s\n",
    "        m0 = self.mass\n",
    "        width = sum(channel.formulate_width(s, m0) for channel in self.channels)\n",
    "        return BreitWigner(s, m0, width)\n",
    "\n",
    "    def _latex_repr_(self, printer: LatexPrinter, *args) -> str:\n",
    "        latex = R\"\\mathcal{R}^\\mathrm{BW}_\\mathrm{multi}\\left(\"\n",
    "        latex += printer._print(self.s) + \"; \"\n",
    "        latex += \", \".join(printer._print(channel.width) for channel in self.channels)\n",
    "        latex += R\"\\right)\"\n",
    "        return latex\n",
    "\n",
    "\n",
    "@frozen\n",
    "class ChannelArguments:\n",
    "    width: Any\n",
    "    m1: Any = 0\n",
    "    m2: Any = 0\n",
    "    angular_momentum: Any = 0\n",
    "    meson_radius: Any = 1\n",
    "\n",
    "    def __attrs_post_init__(self) -> None:\n",
    "        for name, value in asdict(self).items():\n",
    "            object.__setattr__(self, name, sp.sympify(value))\n",
    "\n",
    "    def formulate_width(self, s: Any, m0: Any) -> sp.Expr:\n",
    "        Γ0 = self.width\n",
    "        m1 = self.m1\n",
    "        m2 = self.m2\n",
    "        L = self.angular_momentum\n",
    "        R = self.meson_radius\n",
    "        ff = FormFactor(s, m1, m2, L, R) ** 2\n",
    "        return Γ0 * m0 / sp.sqrt(s) * ff\n",
    "\n",
    "\n",
    "x, y, z = sp.symbols(\"x:z\")\n",
    "s, m0, Γ0, m1, m2, L, d = sp.symbols(\"s m0 Gamma0 m1 m2 L R\")\n",
    "channels = [\n",
    "    ChannelArguments(\n",
    "        sp.Symbol(f\"Gamma{i}\"),\n",
    "        sp.Symbol(f\"m_{{a,{i}}}\"),\n",
    "        sp.Symbol(f\"m_{{b,{i}}}\"),\n",
    "        sp.Symbol(f\"L{i}\"),\n",
    "        d,\n",
    "    )\n",
    "    for i in [1, 2]\n",
    "]\n",
    "exprs = [\n",
    "    MultichannelBreitWigner(s, m0, channels),\n",
    "    BreitWigner(s, m0, Γ0, m1, m2, L, d),\n",
    "    BreitWigner(s, m0, Γ0),\n",
    "    EnergyDependentWidth(s, m0, Γ0, m1, m2, L, d),\n",
    "    FormFactor(s, m1, m2, L, d),\n",
    "    P(s, m1, m2),\n",
    "    Kallen(x, y, z),\n",
    "]\n",
    "Math(aslatex({e: e.doit(deep=False) for e in exprs}))"
   ]
  },
  {
   "cell_type": "code",
   "execution_count": null,
   "metadata": {},
   "outputs": [],
   "source": [
    "CHAIN_DEFINITIONS[0]"
   ]
  },
  {
   "cell_type": "code",
   "execution_count": null,
   "metadata": {
    "tags": []
   },
   "outputs": [],
   "source": [
    "get_function_definition(\"L1405_Flatte\", MODEL_DEFINITION)"
   ]
  },
  {
   "cell_type": "code",
   "execution_count": null,
   "metadata": {
    "jupyter": {
     "source_hidden": true
    },
    "tags": [
     "hide-input",
     "scroll-input"
    ]
   },
   "outputs": [],
   "source": [
    "def _formulate_multichannel_breit_wigner(\n",
    "    propagator: dict, function_definition: dict, resonance: str, **kwargs\n",
    ") -> DefinedExpression:\n",
    "    channel_definitions = function_definition[\"channels\"]\n",
    "    if len(channel_definitions) < 2:\n",
    "        msg = \"Need at least two channels for a multi-channel Breit-Wigner\"\n",
    "        raise NotImplementedError(msg)\n",
    "    node = propagator[\"node\"]\n",
    "    i, j = node\n",
    "    s = _node_to_mandelstam(node)\n",
    "    resonance_latex = name_to_latex(resonance)\n",
    "    mass = sp.Symbol(f\"m_{{{resonance}}}\")\n",
    "    width = sp.Symbol(Rf\"\\Gamma_{{{resonance}}}\")\n",
    "    m1 = _node_to_mass(i)\n",
    "    m2 = _node_to_mass(j)\n",
    "    angular_momentum = int(channel_definitions[0][\"l\"])\n",
    "    d = sp.Symbol(f\"R_{{{resonance_latex}}}\")\n",
    "    channels = [ChannelArguments(width, m1, m2, angular_momentum, d)]\n",
    "    parameter_defaults = {\n",
    "        mass: function_definition[\"mass\"],\n",
    "        width: channel_definitions[0][\"gsq\"],\n",
    "        m1: channel_definitions[0][\"ma\"],\n",
    "        m2: channel_definitions[0][\"mb\"],\n",
    "        d: channel_definitions[0][\"d\"],\n",
    "    }\n",
    "    for i, channel_definition in enumerate(channel_definitions[1:], 2):\n",
    "        Γi = sp.Symbol(\n",
    "            Rf\"\\Gamma_{{{resonance_latex}}}^\\text{{ch. {i}}}\", nonnegative=True\n",
    "        )\n",
    "        mi1 = sp.Symbol(f\"m_{{a,{i}}}\", nonnegative=True)\n",
    "        mi2 = sp.Symbol(f\"m_{{b,{i}}}\", nonnegative=True)\n",
    "        angular_momentum = int(channel_definition[\"l\"])\n",
    "        channels.append(ChannelArguments(Γi, mi1, mi2, angular_momentum, d))\n",
    "        parameter_defaults.update({\n",
    "            mi1: channel_definition[\"ma\"],\n",
    "            mi2: channel_definition[\"mb\"],\n",
    "        })\n",
    "    return DefinedExpression(\n",
    "        expression=MultichannelBreitWigner(s, mass, channels),\n",
    "        definitions=parameter_defaults,\n",
    "    )\n",
    "\n",
    "\n",
    "CHAIN_0 = CHAIN_DEFINITIONS[0]\n",
    "L1405_Flatte = _formulate_multichannel_breit_wigner(\n",
    "    propagator=CHAIN_0[\"propagators\"][0],\n",
    "    function_definition=get_function_definition(\"L1405_Flatte\", MODEL_DEFINITION),\n",
    "    resonance=name_to_latex(CHAIN_0[\"name\"]),\n",
    ")\n",
    "Math(aslatex(L1405_Flatte))"
   ]
  },
  {
   "cell_type": "markdown",
   "metadata": {
    "tags": []
   },
   "source": [
    "#### Breit-Wigner with exponential"
   ]
  },
  {
   "cell_type": "code",
   "execution_count": null,
   "metadata": {
    "jupyter": {
     "source_hidden": true
    },
    "tags": [
     "hide-input"
    ]
   },
   "outputs": [],
   "source": [
    "s, m0, Γ0, m1, m2, γ = sp.symbols(\"s m0 Gamma0 m1 m2 gamma\")\n",
    "expr = BuggBreitWigner(s, m0, Γ0, m1, m2, γ)\n",
    "Math(aslatex({expr: expr.doit(deep=False)}))"
   ]
  },
  {
   "cell_type": "code",
   "execution_count": null,
   "metadata": {},
   "outputs": [],
   "source": [
    "CHAIN_DEFINITIONS[18]"
   ]
  },
  {
   "cell_type": "code",
   "execution_count": null,
   "metadata": {
    "tags": []
   },
   "outputs": [],
   "source": [
    "get_function_definition(\"K700_BuggBW\", MODEL_DEFINITION)"
   ]
  },
  {
   "cell_type": "code",
   "execution_count": null,
   "metadata": {
    "jupyter": {
     "source_hidden": true
    }
   },
   "outputs": [],
   "source": [
    "def _formulate_bugg_breit_wigner(\n",
    "    propagator: dict, function_definition: dict, resonance: str, model: dict, **kwargs\n",
    ") -> DefinedExpression:\n",
    "    node = propagator[\"node\"]\n",
    "    i, j = node\n",
    "    s = _node_to_mandelstam(node)\n",
    "    mass = sp.Symbol(f\"m_{{{resonance}}}\", nonnegative=True)\n",
    "    width = sp.Symbol(Rf\"\\Gamma_{{{resonance}}}\", nonnegative=True)\n",
    "    γ = sp.Symbol(Rf\"\\gamma_{{{resonance}}}\")\n",
    "    m1 = _node_to_mass(i)\n",
    "    m2 = _node_to_mass(j)\n",
    "    final_state = _get_final_state(model)\n",
    "    return DefinedExpression(\n",
    "        expression=BuggBreitWigner(s, mass, width, m1, m2, γ),\n",
    "        definitions={\n",
    "            m0: function_definition[\"mass\"],\n",
    "            Γ0: function_definition[\"width\"],\n",
    "            m1: final_state[i].mass,\n",
    "            m2: final_state[j].mass,\n",
    "            γ: function_definition[\"slope\"],\n",
    "        },\n",
    "    )\n",
    "\n",
    "\n",
    "CHAIN_18 = CHAIN_DEFINITIONS[18]\n",
    "K700_BuggBW = _formulate_bugg_breit_wigner(\n",
    "    propagator=CHAIN_0[\"propagators\"][0],\n",
    "    function_definition=get_function_definition(\"K700_BuggBW\", MODEL_DEFINITION),\n",
    "    resonance=name_to_latex(CHAIN_0[\"name\"]),\n",
    "    model=MODEL_DEFINITION,\n",
    ")\n",
    "Math(aslatex(K700_BuggBW))"
   ]
  },
  {
   "cell_type": "markdown",
   "metadata": {},
   "source": [
    "#### General propagator dynamics builder"
   ]
  },
  {
   "cell_type": "code",
   "execution_count": null,
   "metadata": {
    "jupyter": {
     "source_hidden": true
    },
    "tags": [
     "hide-input"
    ]
   },
   "outputs": [],
   "source": [
    "def formulate_dynamics(chain_definition: dict, model: dict) -> DefinedExpression:\n",
    "    expr = DefinedExpression()\n",
    "    for propagator in chain_definition[\"propagators\"]:\n",
    "        parametrization = propagator[\"parametrization\"]\n",
    "        function_definition = get_function_definition(parametrization, model)\n",
    "        function_type = function_definition[\"type\"]\n",
    "        if function_type == \"BreitWigner\":\n",
    "            dynamics_builder = _formulate_breit_wigner\n",
    "        elif function_type == \"MultichannelBreitWigner\":\n",
    "            dynamics_builder = _formulate_multichannel_breit_wigner\n",
    "        elif function_type == \"BreitWignerWidthExpLikeBugg\":\n",
    "            dynamics_builder = _formulate_bugg_breit_wigner\n",
    "        else:\n",
    "            msg = f\"No dynamics implementation for function type {function_type!r}\"\n",
    "            raise NotImplementedError(msg)\n",
    "        expr *= dynamics_builder(\n",
    "            propagator,\n",
    "            function_definition=get_function_definition(parametrization, model),\n",
    "            resonance=name_to_latex(chain_definition[\"name\"]),\n",
    "            model=model,\n",
    "        )\n",
    "    return expr"
   ]
  },
  {
   "cell_type": "code",
   "execution_count": null,
   "metadata": {
    "tags": []
   },
   "outputs": [],
   "source": [
    "Math(aslatex(formulate_dynamics(CHAIN_DEFINITIONS[0], MODEL_DEFINITION)))"
   ]
  },
  {
   "cell_type": "code",
   "execution_count": null,
   "metadata": {},
   "outputs": [],
   "source": [
    "Math(aslatex(formulate_dynamics(CHAIN_DEFINITIONS[18], MODEL_DEFINITION)))"
   ]
  },
  {
   "cell_type": "code",
   "execution_count": null,
   "metadata": {
    "tags": []
   },
   "outputs": [],
   "source": [
    "Math(aslatex(formulate_dynamics(CHAIN_DEFINITIONS[20], MODEL_DEFINITION)))"
   ]
  },
  {
   "cell_type": "markdown",
   "metadata": {
    "tags": []
   },
   "source": [
    "## Construct `AmplitudeModel`"
   ]
  },
  {
   "cell_type": "markdown",
   "metadata": {},
   "source": [
    "### Unpolarized intensity"
   ]
  },
  {
   "cell_type": "code",
   "execution_count": null,
   "metadata": {
    "jupyter": {
     "source_hidden": true
    },
    "tags": []
   },
   "outputs": [],
   "source": [
    "Topology = list[Union[int, \"Topology\"]]\n",
    "\n",
    "\n",
    "def get_reference_subsystem(model: dict) -> FinalStateID:\n",
    "    topology = get_reference_topology(model)\n",
    "    return get_spectator_id(topology)\n",
    "\n",
    "\n",
    "def get_spectator_id(topology: Topology) -> FinalStateID:\n",
    "    spectator_candidates = {i for i in topology if isinstance(i, int)}\n",
    "    if len(spectator_candidates) != 1:\n",
    "        msg = f\"Reference topology {topology} seems not to be a three-body decay\"\n",
    "        raise ValueError(msg)\n",
    "    return next(iter(spectator_candidates))\n",
    "\n",
    "\n",
    "def get_reference_topology(model: dict) -> Topology:\n",
    "    distribution_def = _get_distribution_def(model)\n",
    "    return distribution_def[\"decay_description\"][\"reference_topology\"]\n",
    "\n",
    "\n",
    "get_reference_subsystem(MODEL_DEFINITION)"
   ]
  },
  {
   "cell_type": "code",
   "execution_count": null,
   "metadata": {
    "jupyter": {
     "source_hidden": true
    },
    "tags": []
   },
   "outputs": [],
   "source": [
    "def get_existing_subsystem_ids(model: dict) -> list[FinalStateID]:\n",
    "    distribution_def = _get_distribution_def(model)\n",
    "    chain_defs = distribution_def[\"decay_description\"][\"chains\"]\n",
    "    subsystem_ids = {get_spectator_id(c[\"topology\"]) for c in chain_defs}\n",
    "    return sorted(subsystem_ids)\n",
    "\n",
    "\n",
    "get_existing_subsystem_ids(MODEL_DEFINITION)"
   ]
  },
  {
   "cell_type": "code",
   "execution_count": null,
   "metadata": {
    "jupyter": {
     "source_hidden": true
    },
    "tags": []
   },
   "outputs": [],
   "source": [
    "from ampform.sympy import PoolSum\n",
    "\n",
    "from ampform_dpd import (\n",
    "    _AlignmentWignerGenerator,  # noqa:PLC2701,RUF100\n",
    "    _generate_amplitude_index_bases,  # noqa:PLC2701,RUF100\n",
    ")\n",
    "from ampform_dpd.spin import create_spin_range\n",
    "\n",
    "\n",
    "def formulate_aligned_amplitude(\n",
    "    model: dict,\n",
    "    λ1: sp.Rational | sp.Symbol,\n",
    "    λ2: sp.Rational | sp.Symbol,\n",
    "    λ3: sp.Rational | sp.Symbol,\n",
    ") -> tuple[PoolSum, dict[sp.Symbol, sp.Expr]]:\n",
    "    reference_subsystem = get_reference_subsystem(model)\n",
    "    wigner_generator = _AlignmentWignerGenerator(reference_subsystem)\n",
    "    λ0 = sp.Symbol(R\"\\lambda_0\", rational=True)\n",
    "    _λ0, _λ1, _λ2, _λ3 = sp.symbols(R\"\\lambda_(0:4)^{\\prime}\", rational=True)\n",
    "    distribution_def = _get_distribution_def(model)\n",
    "    decay_description = distribution_def[\"decay_description\"]\n",
    "    states = _get_states(decay_description[\"kinematics\"])\n",
    "    j0, j1, j2, j3 = (states[i].spin for i in sorted(states))\n",
    "    A = _generate_amplitude_index_bases()\n",
    "    amp_expr = PoolSum(\n",
    "        sum(\n",
    "            A[k][_λ0, _λ1, _λ2, _λ3]\n",
    "            * wigner_generator(j0, λ0, _λ0, rotated_state=0, aligned_subsystem=k)\n",
    "            * wigner_generator(j1, _λ1, λ1, rotated_state=1, aligned_subsystem=k)\n",
    "            * wigner_generator(j2, _λ2, λ2, rotated_state=2, aligned_subsystem=k)\n",
    "            * wigner_generator(j3, _λ3, λ3, rotated_state=3, aligned_subsystem=k)\n",
    "            for k in get_existing_subsystem_ids(model)\n",
    "        ),\n",
    "        (_λ0, create_spin_range(j0)),\n",
    "        (_λ1, create_spin_range(j1)),\n",
    "        (_λ2, create_spin_range(j2)),\n",
    "        (_λ3, create_spin_range(j3)),\n",
    "    )\n",
    "    return amp_expr, wigner_generator.angle_definitions\n",
    "\n",
    "\n",
    "λ1, λ2, λ3 = sp.symbols(R\"\\lambda_(1:4)\", rational=True)\n",
    "amplitude_expr, _ = formulate_aligned_amplitude(MODEL_DEFINITION, λ1, λ2, λ3)\n",
    "amplitude_expr.cleanup()"
   ]
  },
  {
   "cell_type": "markdown",
   "metadata": {},
   "source": [
    "### Amplitude for the decay chain"
   ]
  },
  {
   "cell_type": "code",
   "execution_count": null,
   "metadata": {},
   "outputs": [],
   "source": [
    "CHAIN_DEFINITIONS[0]"
   ]
  },
  {
   "cell_type": "code",
   "execution_count": null,
   "metadata": {
    "jupyter": {
     "source_hidden": true
    }
   },
   "outputs": [],
   "source": [
    "def _formulate_recoupling(\n",
    "    chain_definition: dict, vertex_idx: int\n",
    ") -> tuple[sp.Indexed, sp.Number]:\n",
    "    vertex_definitions = chain_definition[\"vertices\"]\n",
    "    if len(vertex_definitions) != 2:\n",
    "        msg = f\"Not a three-body decay: there are {len(vertex_definitions)} vertices\"\n",
    "        raise ValueError(msg)\n",
    "    if vertex_idx not in {0, 1}:\n",
    "        msg = f\"Vertex index out of range. Can either be 0 or 1, not {vertex_idx}.\"\n",
    "        raise ValueError(msg)\n",
    "    vertex = chain_definition[\"vertices\"][vertex_idx]\n",
    "    vertex_type = vertex[\"type\"]\n",
    "    if vertex_type in {\"helicity\", \"parity\"}:\n",
    "        helicity_coupling = True\n",
    "        interaction = None\n",
    "    elif vertex_type == \"ls\":\n",
    "        msg = \"No implementation yet for LS-coupling models\"\n",
    "        raise NotImplementedError(msg)\n",
    "    else:\n",
    "        msg = f\"No implementation for vertex of type {vertex_type!r}\"\n",
    "        raise NotImplementedError(msg)\n",
    "    symbol = _create_coupling_symbol(\n",
    "        helicity_coupling,\n",
    "        resonance=Str(name_to_latex(chain_definition[\"name\"])),\n",
    "        helicities=tuple(sp.Rational(v) for v in vertex[\"helicities\"]),\n",
    "        interaction=interaction,\n",
    "        typ=\"production\" if vertex_idx == 0 else \"decay\",\n",
    "    )\n",
    "    value = sp.S.One\n",
    "    _warn_once(\"No implementation yet for value of the helicity recoupling factor\")\n",
    "    return symbol, value\n",
    "\n",
    "\n",
    "def _warn_once(msg: str) -> None:\n",
    "    warn(msg, category=UserWarning)"
   ]
  },
  {
   "cell_type": "code",
   "execution_count": null,
   "metadata": {
    "tags": [
     "scroll-output"
    ]
   },
   "outputs": [],
   "source": [
    "Math(aslatex(dict(_formulate_recoupling(CHAIN_DEFINITIONS[0], i) for i in range(2))))"
   ]
  },
  {
   "cell_type": "code",
   "execution_count": null,
   "metadata": {
    "jupyter": {
     "source_hidden": true
    }
   },
   "outputs": [],
   "source": [
    "def _get_final_state_helicities(\n",
    "    chain_definition: dict,\n",
    ") -> dict[FinalStateID, sp.Rational]:\n",
    "    vertices = chain_definition[\"vertices\"]\n",
    "    helicities: dict[FinalStateID, sp.Rational] = {}\n",
    "    for v in vertices:\n",
    "        for helicity, node in zip(v[\"helicities\"], v[\"node\"]):\n",
    "            if not isinstance(node, int):\n",
    "                continue\n",
    "            helicities[node] = sp.Rational(helicity)\n",
    "    return {i: helicities[i] for i in sorted(helicities)}\n",
    "\n",
    "\n",
    "_get_final_state_helicities(CHAIN_DEFINITIONS[0])"
   ]
  },
  {
   "cell_type": "code",
   "execution_count": null,
   "metadata": {
    "jupyter": {
     "source_hidden": true
    }
   },
   "outputs": [],
   "source": [
    "def _get_resonance_helicity(\n",
    "    chain_definition: dict,\n",
    ") -> tuple[tuple[FinalStateID, FinalStateID], sp.Rational]:\n",
    "    vertices = chain_definition[\"vertices\"]\n",
    "    for vertex in vertices:\n",
    "        node = vertex[\"node\"]\n",
    "        if all(isinstance(i, int) for i in node):\n",
    "            continue\n",
    "        helicities = vertex[\"helicities\"]\n",
    "        for helicity, sub_node in zip(helicities, node):\n",
    "            if isinstance(sub_node, abc.Sequence) and len(sub_node) == 2:\n",
    "                return tuple(sub_node), sp.Rational(helicity)\n",
    "    msg = \"Could not find a resonance node\"\n",
    "    raise ValueError(msg)\n",
    "\n",
    "\n",
    "_get_resonance_helicity(CHAIN_DEFINITIONS[0])"
   ]
  },
  {
   "cell_type": "code",
   "execution_count": null,
   "metadata": {
    "jupyter": {
     "source_hidden": true
    }
   },
   "outputs": [],
   "source": [
    "def _get_spectator_helicity(chain_definition: dict) -> tuple[int, sp.Rational]:\n",
    "    vertices = chain_definition[\"vertices\"]\n",
    "    for vertex in vertices:\n",
    "        node = vertex[\"node\"]\n",
    "        if all(isinstance(i, int) for i in node):\n",
    "            continue\n",
    "        helicities = vertex[\"helicities\"]\n",
    "        for helicity, state_id in zip(helicities, node):\n",
    "            if isinstance(state_id, int):\n",
    "                return state_id, sp.Rational(helicity)\n",
    "    msg = \"Could not find vertex that contains a spectator\"\n",
    "    raise ValueError(msg)\n",
    "\n",
    "\n",
    "_get_spectator_helicity(CHAIN_DEFINITIONS[0])"
   ]
  },
  {
   "cell_type": "code",
   "execution_count": null,
   "metadata": {
    "jupyter": {
     "source_hidden": true
    }
   },
   "outputs": [],
   "source": [
    "def _get_decay_product_helicities(\n",
    "    chain_definition: dict,\n",
    ") -> tuple[tuple[int, sp.Rational], tuple[int, sp.Rational]]:\n",
    "    vertices = chain_definition[\"vertices\"]\n",
    "    for v in vertices:\n",
    "        node = v[\"node\"]\n",
    "        if all(isinstance(i, int) for i in node):\n",
    "            helicities = v[\"helicities\"]\n",
    "            return tuple((i, sp.Rational(λ)) for i, λ in zip(node, helicities))\n",
    "    msg = \"Could not fine a helicity for any resonance node\"\n",
    "    raise ValueError(msg)\n",
    "\n",
    "\n",
    "_get_decay_product_helicities(CHAIN_DEFINITIONS[0])"
   ]
  },
  {
   "cell_type": "code",
   "execution_count": null,
   "metadata": {
    "jupyter": {
     "source_hidden": true
    }
   },
   "outputs": [],
   "source": [
    "def _get_weight(chain_definition: dict) -> tuple[sp.Symbol, complex | float]:\n",
    "    value: complex | float\n",
    "    value = complex(str(chain_definition[\"weight\"]).replace(\" \", \"\").replace(\"i\", \"j\"))\n",
    "    if not value.imag:\n",
    "        value = value.real\n",
    "    resonance_latex = name_to_latex(chain_definition[\"name\"])\n",
    "    _, resonance_helicity = _get_resonance_helicity(chain_definition)\n",
    "    c = sp.IndexedBase(f\"c^{{{resonance_latex}[{resonance_helicity}]}}\")\n",
    "    λ1, λ2, λ3 = _get_final_state_helicities(chain_definition).values()\n",
    "    symbol = c[λ1, λ2, λ3]\n",
    "    return symbol, value\n",
    "\n",
    "\n",
    "Math(aslatex(dict([_get_weight(CHAIN_DEFINITIONS[0])])))"
   ]
  },
  {
   "cell_type": "code",
   "execution_count": null,
   "metadata": {},
   "outputs": [],
   "source": [
    "def formulate_chain_amplitude(model: dict, chain_idx: int) -> sp.Expr:\n",
    "    chain_defs = _get_decay_chains(model)\n",
    "    chain_definition = chain_defs[chain_idx]\n",
    "    definitions = {}\n",
    "    # -----------------------\n",
    "    dynamics = formulate_dynamics(chain_definition, model)\n",
    "    for vertex in chain_definition[\"vertices\"]:\n",
    "        dynamics *= formulate_form_factor(vertex, model)\n",
    "    definitions.update(dynamics.definitions)\n",
    "    # -----------------------\n",
    "    weight, weight_val = _get_weight(chain_definition)\n",
    "    h_prod, h_prod_val = _formulate_recoupling(chain_definition, vertex_idx=0)\n",
    "    h_dec, h_dec_val = _formulate_recoupling(chain_definition, vertex_idx=1)\n",
    "    definitions[weight] = weight_val\n",
    "    definitions[h_prod] = h_prod_val\n",
    "    definitions[h_dec] = h_dec_val\n",
    "    # -----------------------\n",
    "    (i, λi), (j, λj) = _get_decay_product_helicities(chain_definition)\n",
    "    θij, θij_expr = formulate_scattering_angle(i, j)\n",
    "    definitions[θij] = θij_expr\n",
    "    jR = sp.Rational(chain_definition[\"propagators\"][0][\"spin\"])\n",
    "    _, λR = _get_resonance_helicity(chain_definition)\n",
    "    # -----------------------\n",
    "    A = _generate_amplitude_index_bases()\n",
    "    subsystem_id = get_spectator_id(chain_definition[\"topology\"])\n",
    "    k, λk = _get_spectator_helicity(chain_definition)\n",
    "    λ = {i: λi, j: λj, k: λk}\n",
    "    amplitude_symbol = A[subsystem_id][λ[1], λ[2], λ[3]]\n",
    "    definitions[amplitude_symbol] = (\n",
    "        weight * h_prod * h_dec * Wigner.d(jR, λR, λi - λj, θij) * dynamics.expression\n",
    "    )\n",
    "    return definitions"
   ]
  },
  {
   "cell_type": "code",
   "execution_count": null,
   "metadata": {},
   "outputs": [],
   "source": [
    "definitions = formulate_chain_amplitude(MODEL_DEFINITION, chain_idx=0)\n",
    "Math(aslatex(definitions))"
   ]
  },
  {
   "cell_type": "markdown",
   "metadata": {},
   "source": [
    "### Full amplitude model"
   ]
  }
 ],
 "metadata": {
  "colab": {
   "toc_visible": true
  },
  "kernelspec": {
   "display_name": "Python 3 (ipykernel)",
   "language": "python",
   "name": "python3"
  },
  "language_info": {
   "codemirror_mode": {
    "name": "ipython",
    "version": 3
   },
   "file_extension": ".py",
   "mimetype": "text/x-python",
   "name": "python",
   "nbconvert_exporter": "python",
   "pygments_lexer": "ipython3",
   "version": "3.9.19"
  }
 },
 "nbformat": 4,
 "nbformat_minor": 4
}
